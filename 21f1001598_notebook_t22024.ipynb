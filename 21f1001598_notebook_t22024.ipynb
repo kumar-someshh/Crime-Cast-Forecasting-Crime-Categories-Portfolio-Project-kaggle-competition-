{
  "cells": [
    {
      "cell_type": "code",
      "execution_count": null,
      "metadata": {
        "id": "kaw9f59KY6SF"
      },
      "outputs": [],
      "source": [
        "# # This Python 3 environment comes with many helpful analytics libraries installed\n",
        "# # It is defined by the kaggle/python Docker image: https://github.com/kaggle/docker-python\n",
        "# # For example, here's several helpful packages to load\n",
        "\n",
        "# import numpy as np # linear algebra\n",
        "# import pandas as pd # data processing, CSV file I/O (e.g. pd.read_csv)\n",
        "\n",
        "# # Input data files are available in the read-only \"../input/\" directory\n",
        "# # For example, running this (by clicking run or pressing Shift+Enter) will list all files under the input directory\n",
        "\n",
        "# import os\n",
        "# for dirname, _, filenames in os.walk('/kaggle/input'):\n",
        "#     for filename in filenames:\n",
        "#         print(os.path.join(dirname, filename))\n",
        "\n",
        "# # You can write up to 20GB to the current directory (/kaggle/working/) that gets preserved as output when you create a version using \"Save & Run All\"\n",
        "# # You can also write temporary files to /kaggle/temp/, but they won't be saved outside of the current session"
      ]
    },
    {
      "cell_type": "markdown",
      "metadata": {
        "id": "NE--a46a8gGA"
      },
      "source": [
        "# Look at the big picture\n"
      ]
    },
    {
      "cell_type": "markdown",
      "metadata": {
        "id": "4EijNZnw55AY"
      },
      "source": [
        " **Frame the problem**\n",
        "* My first question will be what exactly the bussiness objective is? I am asked to build a model to really understand which algorithm to choose, which performace measure to use I need to understand How does the company expect to use and benefit from this model.\n",
        "\n",
        "* Second question would be is there any current solution? That could be my reference for performace.\n",
        "\n",
        "* By leveraging machine learning techniques, I need to analyze this rich dataset to predict crime categories, enhance law enforcement strategies, and bolster public safety measures.\n"
      ]
    },
    {
      "cell_type": "markdown",
      "metadata": {
        "id": "G2l-z3ty7zy0"
      },
      "source": [
        "Q1. What kind of training supervision the model will need: is it a supervised, unsupervised, semi-supervised, self-supervised or reinforcement learning task.\n",
        "\n",
        "-> Here we have a target variable which has certain categories so its a supervised learning and classification task.\n",
        "-> It's a batch learning task.\n",
        "\n",
        "Q2. What performace measure are you using?\n",
        "\n",
        "-> ---------------"
      ]
    },
    {
      "cell_type": "markdown",
      "metadata": {
        "id": "f3FRm7Z5JoM1"
      },
      "source": [
        "# Get the data\n"
      ]
    },
    {
      "cell_type": "code",
      "execution_count": null,
      "metadata": {
        "id": "7xPI0y23WUEZ",
        "colab": {
          "base_uri": "https://localhost:8080/"
        },
        "outputId": "4f37cf53-3cdf-46a1-93e2-370cb5385bf9"
      },
      "outputs": [
        {
          "output_type": "stream",
          "name": "stdout",
          "text": [
            "Drive already mounted at /content/drive; to attempt to forcibly remount, call drive.mount(\"/content/drive\", force_remount=True).\n"
          ]
        }
      ],
      "source": [
        "from google.colab import drive\n",
        "drive.mount('/content/drive')"
      ]
    },
    {
      "cell_type": "code",
      "execution_count": null,
      "metadata": {
        "id": "6ppCBx4aoYFD"
      },
      "outputs": [],
      "source": [
        "import pandas as pd\n",
        "import numpy as np\n",
        "import matplotlib.pyplot as plt\n",
        "import seaborn as sns\n"
      ]
    },
    {
      "cell_type": "code",
      "execution_count": null,
      "metadata": {
        "collapsed": true,
        "id": "N2nBCQDso0aE"
      },
      "outputs": [],
      "source": [
        "# sample_data = pd.read_csv('/content/sample.csv')\n",
        "test_data = pd.read_csv('/content/drive/MyDrive/Colab Notebooks/Project MLP /test.csv')\n",
        "train_data = pd.read_csv('/content/drive/MyDrive/Colab Notebooks/Project MLP /train.csv')"
      ]
    },
    {
      "cell_type": "code",
      "source": [
        "# from google.colab import drive\n",
        "# drive.mount('/content/drive')"
      ],
      "metadata": {
        "id": "0-zp98zOeV0D"
      },
      "execution_count": null,
      "outputs": []
    },
    {
      "cell_type": "code",
      "execution_count": null,
      "metadata": {
        "id": "iLs0gQiv4AY8"
      },
      "outputs": [],
      "source": [
        "# train_data = pd.read_csv(\"/content/train.csv\")\n",
        "# test_data = pd.read_csv(\"/content/test.csv\")"
      ]
    },
    {
      "cell_type": "code",
      "execution_count": null,
      "metadata": {
        "id": "CaP_wj6yZMw6"
      },
      "outputs": [],
      "source": [
        "# train_data = pd.read_csv(\"/kaggle/input/crime-cast-forecasting-crime-categories/train.csv\")\n",
        "# test_data = pd.read_csv(\"/kaggle/input/crime-cast-forecasting-crime-categories/test.csv\")"
      ]
    },
    {
      "cell_type": "markdown",
      "metadata": {
        "id": "F6VSI-EuhyJ_"
      },
      "source": [
        "# Exploratory data anaylysis (EDA)"
      ]
    },
    {
      "cell_type": "code",
      "execution_count": null,
      "metadata": {
        "colab": {
          "base_uri": "https://localhost:8080/"
        },
        "id": "jWlDcGpXuV9O",
        "outputId": "625f646e-1f5b-488b-ce16-4ef656873074"
      },
      "outputs": [
        {
          "output_type": "stream",
          "name": "stdout",
          "text": [
            "<class 'pandas.core.frame.DataFrame'>\n",
            "RangeIndex: 20000 entries, 0 to 19999\n",
            "Data columns (total 22 columns):\n",
            " #   Column                 Non-Null Count  Dtype  \n",
            "---  ------                 --------------  -----  \n",
            " 0   Location               20000 non-null  object \n",
            " 1   Cross_Street           3448 non-null   object \n",
            " 2   Latitude               20000 non-null  float64\n",
            " 3   Longitude              20000 non-null  float64\n",
            " 4   Date_Reported          20000 non-null  object \n",
            " 5   Date_Occurred          20000 non-null  object \n",
            " 6   Time_Occurred          20000 non-null  float64\n",
            " 7   Area_ID                20000 non-null  float64\n",
            " 8   Area_Name              20000 non-null  object \n",
            " 9   Reporting_District_no  20000 non-null  float64\n",
            " 10  Part 1-2               20000 non-null  float64\n",
            " 11  Modus_Operandi         17259 non-null  object \n",
            " 12  Victim_Age             20000 non-null  float64\n",
            " 13  Victim_Sex             17376 non-null  object \n",
            " 14  Victim_Descent         17376 non-null  object \n",
            " 15  Premise_Code           20000 non-null  float64\n",
            " 16  Premise_Description    19995 non-null  object \n",
            " 17  Weapon_Used_Code       7335 non-null   float64\n",
            " 18  Weapon_Description     7335 non-null   object \n",
            " 19  Status                 20000 non-null  object \n",
            " 20  Status_Description     20000 non-null  object \n",
            " 21  Crime_Category         20000 non-null  object \n",
            "dtypes: float64(9), object(13)\n",
            "memory usage: 3.4+ MB\n"
          ]
        }
      ],
      "source": [
        "train_data.info()\n"
      ]
    },
    {
      "cell_type": "code",
      "execution_count": null,
      "metadata": {
        "colab": {
          "base_uri": "https://localhost:8080/"
        },
        "id": "aXetwgBdOG3c",
        "outputId": "4bb16e52-08e7-4a76-ef4d-32014d590303"
      },
      "outputs": [
        {
          "output_type": "execute_result",
          "data": {
            "text/plain": [
              "Crime_Category\n",
              "Property Crimes                  11666\n",
              "Violent Crimes                    4767\n",
              "Crimes against Public Order       1808\n",
              "Fraud and White-Collar Crimes     1355\n",
              "Crimes against Persons             225\n",
              "Other Crimes                       179\n",
              "Name: count, dtype: int64"
            ]
          },
          "metadata": {},
          "execution_count": 254
        }
      ],
      "source": [
        "# target varible categories\n",
        "train_data.Crime_Category.value_counts()"
      ]
    },
    {
      "cell_type": "code",
      "execution_count": null,
      "metadata": {
        "colab": {
          "base_uri": "https://localhost:8080/"
        },
        "id": "gFO09MZRkGge",
        "outputId": "56d11389-f31b-4183-dd44-eb6d285b3019"
      },
      "outputs": [
        {
          "output_type": "execute_result",
          "data": {
            "text/plain": [
              "Location                     0\n",
              "Cross_Street             16552\n",
              "Latitude                     0\n",
              "Longitude                    0\n",
              "Date_Reported                0\n",
              "Date_Occurred                0\n",
              "Time_Occurred                0\n",
              "Area_ID                      0\n",
              "Area_Name                    0\n",
              "Reporting_District_no        0\n",
              "Part 1-2                     0\n",
              "Modus_Operandi            2741\n",
              "Victim_Age                   0\n",
              "Victim_Sex                2624\n",
              "Victim_Descent            2624\n",
              "Premise_Code                 0\n",
              "Premise_Description          5\n",
              "Weapon_Used_Code         12665\n",
              "Weapon_Description       12665\n",
              "Status                       0\n",
              "Status_Description           0\n",
              "Crime_Category               0\n",
              "dtype: int64"
            ]
          },
          "metadata": {},
          "execution_count": 255
        }
      ],
      "source": [
        "# missing values per feature\n",
        "train_data.isna().sum()\n",
        "\n",
        "# key insight: \"Cross_street\" feature has close to 82% missing values"
      ]
    },
    {
      "cell_type": "code",
      "execution_count": null,
      "metadata": {
        "colab": {
          "base_uri": "https://localhost:8080/"
        },
        "id": "zpcHfogOH2an",
        "outputId": "9b293c19-ad59-49c1-b66c-a68945ec9dd0"
      },
      "outputs": [
        {
          "output_type": "execute_result",
          "data": {
            "text/plain": [
              "False    19987\n",
              "True        13\n",
              "Name: count, dtype: int64"
            ]
          },
          "metadata": {},
          "execution_count": 256
        }
      ],
      "source": [
        "# check duplicated rows\n",
        "train_data.duplicated( keep = \"first\").value_counts()"
      ]
    },
    {
      "cell_type": "code",
      "execution_count": null,
      "metadata": {
        "id": "0y-570gF5CWK"
      },
      "outputs": [],
      "source": [
        "train_data = train_data.drop_duplicates(keep = \"first\")"
      ]
    },
    {
      "cell_type": "code",
      "execution_count": null,
      "metadata": {
        "colab": {
          "base_uri": "https://localhost:8080/",
          "height": 229
        },
        "id": "QuJBPM1-Jblb",
        "outputId": "cbcb04d4-bac5-49be-8d77-294e5c385478"
      },
      "outputs": [
        {
          "output_type": "execute_result",
          "data": {
            "text/plain": [
              "       Location Cross_Street           Date_Reported           Date_Occurred  \\\n",
              "count     19987         3447                   19987                   19987   \n",
              "unique    12399         1495                     811                     366   \n",
              "top         6TH     BROADWAY  07/13/2020 12:00:00 AM  01/01/2020 12:00:00 AM   \n",
              "freq         33           56                      87                     137   \n",
              "\n",
              "          Area_Name Modus_Operandi Victim_Sex Victim_Descent  \\\n",
              "count         19987          17249      17365          17365   \n",
              "unique           21          10489          4             17   \n",
              "top     77th Street           0344          M              H   \n",
              "freq           1345            825       8533           6141   \n",
              "\n",
              "       Premise_Description                              Weapon_Description  \\\n",
              "count                19982                                            7330   \n",
              "unique                 216                                              57   \n",
              "top                 STREET  STRONG-ARM (HANDS, FIST, FEET OR BODILY FORCE)   \n",
              "freq                  5028                                            3988   \n",
              "\n",
              "       Status Status_Description   Crime_Category  \n",
              "count   19987              19987            19987  \n",
              "unique      5                  5                6  \n",
              "top        IC        Invest Cont  Property Crimes  \n",
              "freq    15226              15226            11659  "
            ],
            "text/html": [
              "\n",
              "  <div id=\"df-6df56dee-5207-4082-9177-0ccbe205250a\" class=\"colab-df-container\">\n",
              "    <div>\n",
              "<style scoped>\n",
              "    .dataframe tbody tr th:only-of-type {\n",
              "        vertical-align: middle;\n",
              "    }\n",
              "\n",
              "    .dataframe tbody tr th {\n",
              "        vertical-align: top;\n",
              "    }\n",
              "\n",
              "    .dataframe thead th {\n",
              "        text-align: right;\n",
              "    }\n",
              "</style>\n",
              "<table border=\"1\" class=\"dataframe\">\n",
              "  <thead>\n",
              "    <tr style=\"text-align: right;\">\n",
              "      <th></th>\n",
              "      <th>Location</th>\n",
              "      <th>Cross_Street</th>\n",
              "      <th>Date_Reported</th>\n",
              "      <th>Date_Occurred</th>\n",
              "      <th>Area_Name</th>\n",
              "      <th>Modus_Operandi</th>\n",
              "      <th>Victim_Sex</th>\n",
              "      <th>Victim_Descent</th>\n",
              "      <th>Premise_Description</th>\n",
              "      <th>Weapon_Description</th>\n",
              "      <th>Status</th>\n",
              "      <th>Status_Description</th>\n",
              "      <th>Crime_Category</th>\n",
              "    </tr>\n",
              "  </thead>\n",
              "  <tbody>\n",
              "    <tr>\n",
              "      <th>count</th>\n",
              "      <td>19987</td>\n",
              "      <td>3447</td>\n",
              "      <td>19987</td>\n",
              "      <td>19987</td>\n",
              "      <td>19987</td>\n",
              "      <td>17249</td>\n",
              "      <td>17365</td>\n",
              "      <td>17365</td>\n",
              "      <td>19982</td>\n",
              "      <td>7330</td>\n",
              "      <td>19987</td>\n",
              "      <td>19987</td>\n",
              "      <td>19987</td>\n",
              "    </tr>\n",
              "    <tr>\n",
              "      <th>unique</th>\n",
              "      <td>12399</td>\n",
              "      <td>1495</td>\n",
              "      <td>811</td>\n",
              "      <td>366</td>\n",
              "      <td>21</td>\n",
              "      <td>10489</td>\n",
              "      <td>4</td>\n",
              "      <td>17</td>\n",
              "      <td>216</td>\n",
              "      <td>57</td>\n",
              "      <td>5</td>\n",
              "      <td>5</td>\n",
              "      <td>6</td>\n",
              "    </tr>\n",
              "    <tr>\n",
              "      <th>top</th>\n",
              "      <td>6TH</td>\n",
              "      <td>BROADWAY</td>\n",
              "      <td>07/13/2020 12:00:00 AM</td>\n",
              "      <td>01/01/2020 12:00:00 AM</td>\n",
              "      <td>77th Street</td>\n",
              "      <td>0344</td>\n",
              "      <td>M</td>\n",
              "      <td>H</td>\n",
              "      <td>STREET</td>\n",
              "      <td>STRONG-ARM (HANDS, FIST, FEET OR BODILY FORCE)</td>\n",
              "      <td>IC</td>\n",
              "      <td>Invest Cont</td>\n",
              "      <td>Property Crimes</td>\n",
              "    </tr>\n",
              "    <tr>\n",
              "      <th>freq</th>\n",
              "      <td>33</td>\n",
              "      <td>56</td>\n",
              "      <td>87</td>\n",
              "      <td>137</td>\n",
              "      <td>1345</td>\n",
              "      <td>825</td>\n",
              "      <td>8533</td>\n",
              "      <td>6141</td>\n",
              "      <td>5028</td>\n",
              "      <td>3988</td>\n",
              "      <td>15226</td>\n",
              "      <td>15226</td>\n",
              "      <td>11659</td>\n",
              "    </tr>\n",
              "  </tbody>\n",
              "</table>\n",
              "</div>\n",
              "    <div class=\"colab-df-buttons\">\n",
              "\n",
              "  <div class=\"colab-df-container\">\n",
              "    <button class=\"colab-df-convert\" onclick=\"convertToInteractive('df-6df56dee-5207-4082-9177-0ccbe205250a')\"\n",
              "            title=\"Convert this dataframe to an interactive table.\"\n",
              "            style=\"display:none;\">\n",
              "\n",
              "  <svg xmlns=\"http://www.w3.org/2000/svg\" height=\"24px\" viewBox=\"0 -960 960 960\">\n",
              "    <path d=\"M120-120v-720h720v720H120Zm60-500h600v-160H180v160Zm220 220h160v-160H400v160Zm0 220h160v-160H400v160ZM180-400h160v-160H180v160Zm440 0h160v-160H620v160ZM180-180h160v-160H180v160Zm440 0h160v-160H620v160Z\"/>\n",
              "  </svg>\n",
              "    </button>\n",
              "\n",
              "  <style>\n",
              "    .colab-df-container {\n",
              "      display:flex;\n",
              "      gap: 12px;\n",
              "    }\n",
              "\n",
              "    .colab-df-convert {\n",
              "      background-color: #E8F0FE;\n",
              "      border: none;\n",
              "      border-radius: 50%;\n",
              "      cursor: pointer;\n",
              "      display: none;\n",
              "      fill: #1967D2;\n",
              "      height: 32px;\n",
              "      padding: 0 0 0 0;\n",
              "      width: 32px;\n",
              "    }\n",
              "\n",
              "    .colab-df-convert:hover {\n",
              "      background-color: #E2EBFA;\n",
              "      box-shadow: 0px 1px 2px rgba(60, 64, 67, 0.3), 0px 1px 3px 1px rgba(60, 64, 67, 0.15);\n",
              "      fill: #174EA6;\n",
              "    }\n",
              "\n",
              "    .colab-df-buttons div {\n",
              "      margin-bottom: 4px;\n",
              "    }\n",
              "\n",
              "    [theme=dark] .colab-df-convert {\n",
              "      background-color: #3B4455;\n",
              "      fill: #D2E3FC;\n",
              "    }\n",
              "\n",
              "    [theme=dark] .colab-df-convert:hover {\n",
              "      background-color: #434B5C;\n",
              "      box-shadow: 0px 1px 3px 1px rgba(0, 0, 0, 0.15);\n",
              "      filter: drop-shadow(0px 1px 2px rgba(0, 0, 0, 0.3));\n",
              "      fill: #FFFFFF;\n",
              "    }\n",
              "  </style>\n",
              "\n",
              "    <script>\n",
              "      const buttonEl =\n",
              "        document.querySelector('#df-6df56dee-5207-4082-9177-0ccbe205250a button.colab-df-convert');\n",
              "      buttonEl.style.display =\n",
              "        google.colab.kernel.accessAllowed ? 'block' : 'none';\n",
              "\n",
              "      async function convertToInteractive(key) {\n",
              "        const element = document.querySelector('#df-6df56dee-5207-4082-9177-0ccbe205250a');\n",
              "        const dataTable =\n",
              "          await google.colab.kernel.invokeFunction('convertToInteractive',\n",
              "                                                    [key], {});\n",
              "        if (!dataTable) return;\n",
              "\n",
              "        const docLinkHtml = 'Like what you see? Visit the ' +\n",
              "          '<a target=\"_blank\" href=https://colab.research.google.com/notebooks/data_table.ipynb>data table notebook</a>'\n",
              "          + ' to learn more about interactive tables.';\n",
              "        element.innerHTML = '';\n",
              "        dataTable['output_type'] = 'display_data';\n",
              "        await google.colab.output.renderOutput(dataTable, element);\n",
              "        const docLink = document.createElement('div');\n",
              "        docLink.innerHTML = docLinkHtml;\n",
              "        element.appendChild(docLink);\n",
              "      }\n",
              "    </script>\n",
              "  </div>\n",
              "\n",
              "\n",
              "<div id=\"df-307985b0-a80b-436a-be18-1243b0cd9842\">\n",
              "  <button class=\"colab-df-quickchart\" onclick=\"quickchart('df-307985b0-a80b-436a-be18-1243b0cd9842')\"\n",
              "            title=\"Suggest charts\"\n",
              "            style=\"display:none;\">\n",
              "\n",
              "<svg xmlns=\"http://www.w3.org/2000/svg\" height=\"24px\"viewBox=\"0 0 24 24\"\n",
              "     width=\"24px\">\n",
              "    <g>\n",
              "        <path d=\"M19 3H5c-1.1 0-2 .9-2 2v14c0 1.1.9 2 2 2h14c1.1 0 2-.9 2-2V5c0-1.1-.9-2-2-2zM9 17H7v-7h2v7zm4 0h-2V7h2v10zm4 0h-2v-4h2v4z\"/>\n",
              "    </g>\n",
              "</svg>\n",
              "  </button>\n",
              "\n",
              "<style>\n",
              "  .colab-df-quickchart {\n",
              "      --bg-color: #E8F0FE;\n",
              "      --fill-color: #1967D2;\n",
              "      --hover-bg-color: #E2EBFA;\n",
              "      --hover-fill-color: #174EA6;\n",
              "      --disabled-fill-color: #AAA;\n",
              "      --disabled-bg-color: #DDD;\n",
              "  }\n",
              "\n",
              "  [theme=dark] .colab-df-quickchart {\n",
              "      --bg-color: #3B4455;\n",
              "      --fill-color: #D2E3FC;\n",
              "      --hover-bg-color: #434B5C;\n",
              "      --hover-fill-color: #FFFFFF;\n",
              "      --disabled-bg-color: #3B4455;\n",
              "      --disabled-fill-color: #666;\n",
              "  }\n",
              "\n",
              "  .colab-df-quickchart {\n",
              "    background-color: var(--bg-color);\n",
              "    border: none;\n",
              "    border-radius: 50%;\n",
              "    cursor: pointer;\n",
              "    display: none;\n",
              "    fill: var(--fill-color);\n",
              "    height: 32px;\n",
              "    padding: 0;\n",
              "    width: 32px;\n",
              "  }\n",
              "\n",
              "  .colab-df-quickchart:hover {\n",
              "    background-color: var(--hover-bg-color);\n",
              "    box-shadow: 0 1px 2px rgba(60, 64, 67, 0.3), 0 1px 3px 1px rgba(60, 64, 67, 0.15);\n",
              "    fill: var(--button-hover-fill-color);\n",
              "  }\n",
              "\n",
              "  .colab-df-quickchart-complete:disabled,\n",
              "  .colab-df-quickchart-complete:disabled:hover {\n",
              "    background-color: var(--disabled-bg-color);\n",
              "    fill: var(--disabled-fill-color);\n",
              "    box-shadow: none;\n",
              "  }\n",
              "\n",
              "  .colab-df-spinner {\n",
              "    border: 2px solid var(--fill-color);\n",
              "    border-color: transparent;\n",
              "    border-bottom-color: var(--fill-color);\n",
              "    animation:\n",
              "      spin 1s steps(1) infinite;\n",
              "  }\n",
              "\n",
              "  @keyframes spin {\n",
              "    0% {\n",
              "      border-color: transparent;\n",
              "      border-bottom-color: var(--fill-color);\n",
              "      border-left-color: var(--fill-color);\n",
              "    }\n",
              "    20% {\n",
              "      border-color: transparent;\n",
              "      border-left-color: var(--fill-color);\n",
              "      border-top-color: var(--fill-color);\n",
              "    }\n",
              "    30% {\n",
              "      border-color: transparent;\n",
              "      border-left-color: var(--fill-color);\n",
              "      border-top-color: var(--fill-color);\n",
              "      border-right-color: var(--fill-color);\n",
              "    }\n",
              "    40% {\n",
              "      border-color: transparent;\n",
              "      border-right-color: var(--fill-color);\n",
              "      border-top-color: var(--fill-color);\n",
              "    }\n",
              "    60% {\n",
              "      border-color: transparent;\n",
              "      border-right-color: var(--fill-color);\n",
              "    }\n",
              "    80% {\n",
              "      border-color: transparent;\n",
              "      border-right-color: var(--fill-color);\n",
              "      border-bottom-color: var(--fill-color);\n",
              "    }\n",
              "    90% {\n",
              "      border-color: transparent;\n",
              "      border-bottom-color: var(--fill-color);\n",
              "    }\n",
              "  }\n",
              "</style>\n",
              "\n",
              "  <script>\n",
              "    async function quickchart(key) {\n",
              "      const quickchartButtonEl =\n",
              "        document.querySelector('#' + key + ' button');\n",
              "      quickchartButtonEl.disabled = true;  // To prevent multiple clicks.\n",
              "      quickchartButtonEl.classList.add('colab-df-spinner');\n",
              "      try {\n",
              "        const charts = await google.colab.kernel.invokeFunction(\n",
              "            'suggestCharts', [key], {});\n",
              "      } catch (error) {\n",
              "        console.error('Error during call to suggestCharts:', error);\n",
              "      }\n",
              "      quickchartButtonEl.classList.remove('colab-df-spinner');\n",
              "      quickchartButtonEl.classList.add('colab-df-quickchart-complete');\n",
              "    }\n",
              "    (() => {\n",
              "      let quickchartButtonEl =\n",
              "        document.querySelector('#df-307985b0-a80b-436a-be18-1243b0cd9842 button');\n",
              "      quickchartButtonEl.style.display =\n",
              "        google.colab.kernel.accessAllowed ? 'block' : 'none';\n",
              "    })();\n",
              "  </script>\n",
              "</div>\n",
              "\n",
              "    </div>\n",
              "  </div>\n"
            ],
            "application/vnd.google.colaboratory.intrinsic+json": {
              "type": "dataframe",
              "summary": "{\n  \"name\": \"train_data\",\n  \"rows\": 4,\n  \"fields\": [\n    {\n      \"column\": \"Location\",\n      \"properties\": {\n        \"dtype\": \"string\",\n        \"num_unique_values\": 4,\n        \"samples\": [\n          12399,\n          \"33\",\n          \"19987\"\n        ],\n        \"semantic_type\": \"\",\n        \"description\": \"\"\n      }\n    },\n    {\n      \"column\": \"Cross_Street\",\n      \"properties\": {\n        \"dtype\": \"string\",\n        \"num_unique_values\": 4,\n        \"samples\": [\n          1495,\n          \"56\",\n          \"3447\"\n        ],\n        \"semantic_type\": \"\",\n        \"description\": \"\"\n      }\n    },\n    {\n      \"column\": \"Date_Reported\",\n      \"properties\": {\n        \"dtype\": \"date\",\n        \"min\": \"1970-01-01 00:00:00.000000087\",\n        \"max\": \"2020-07-13 00:00:00\",\n        \"num_unique_values\": 4,\n        \"samples\": [\n          811,\n          \"87\",\n          \"19987\"\n        ],\n        \"semantic_type\": \"\",\n        \"description\": \"\"\n      }\n    },\n    {\n      \"column\": \"Date_Occurred\",\n      \"properties\": {\n        \"dtype\": \"date\",\n        \"min\": \"1970-01-01 00:00:00.000000137\",\n        \"max\": \"2020-01-01 00:00:00\",\n        \"num_unique_values\": 4,\n        \"samples\": [\n          366,\n          \"137\",\n          \"19987\"\n        ],\n        \"semantic_type\": \"\",\n        \"description\": \"\"\n      }\n    },\n    {\n      \"column\": \"Area_Name\",\n      \"properties\": {\n        \"dtype\": \"string\",\n        \"num_unique_values\": 4,\n        \"samples\": [\n          21,\n          \"1345\",\n          \"19987\"\n        ],\n        \"semantic_type\": \"\",\n        \"description\": \"\"\n      }\n    },\n    {\n      \"column\": \"Modus_Operandi\",\n      \"properties\": {\n        \"dtype\": \"string\",\n        \"num_unique_values\": 4,\n        \"samples\": [\n          10489,\n          \"825\",\n          \"17249\"\n        ],\n        \"semantic_type\": \"\",\n        \"description\": \"\"\n      }\n    },\n    {\n      \"column\": \"Victim_Sex\",\n      \"properties\": {\n        \"dtype\": \"string\",\n        \"num_unique_values\": 4,\n        \"samples\": [\n          4,\n          \"8533\",\n          \"17365\"\n        ],\n        \"semantic_type\": \"\",\n        \"description\": \"\"\n      }\n    },\n    {\n      \"column\": \"Victim_Descent\",\n      \"properties\": {\n        \"dtype\": \"string\",\n        \"num_unique_values\": 4,\n        \"samples\": [\n          17,\n          \"6141\",\n          \"17365\"\n        ],\n        \"semantic_type\": \"\",\n        \"description\": \"\"\n      }\n    },\n    {\n      \"column\": \"Premise_Description\",\n      \"properties\": {\n        \"dtype\": \"string\",\n        \"num_unique_values\": 4,\n        \"samples\": [\n          216,\n          \"5028\",\n          \"19982\"\n        ],\n        \"semantic_type\": \"\",\n        \"description\": \"\"\n      }\n    },\n    {\n      \"column\": \"Weapon_Description\",\n      \"properties\": {\n        \"dtype\": \"string\",\n        \"num_unique_values\": 4,\n        \"samples\": [\n          57,\n          \"3988\",\n          \"7330\"\n        ],\n        \"semantic_type\": \"\",\n        \"description\": \"\"\n      }\n    },\n    {\n      \"column\": \"Status\",\n      \"properties\": {\n        \"dtype\": \"string\",\n        \"num_unique_values\": 4,\n        \"samples\": [\n          5,\n          \"15226\",\n          \"19987\"\n        ],\n        \"semantic_type\": \"\",\n        \"description\": \"\"\n      }\n    },\n    {\n      \"column\": \"Status_Description\",\n      \"properties\": {\n        \"dtype\": \"string\",\n        \"num_unique_values\": 4,\n        \"samples\": [\n          5,\n          \"15226\",\n          \"19987\"\n        ],\n        \"semantic_type\": \"\",\n        \"description\": \"\"\n      }\n    },\n    {\n      \"column\": \"Crime_Category\",\n      \"properties\": {\n        \"dtype\": \"string\",\n        \"num_unique_values\": 4,\n        \"samples\": [\n          6,\n          \"11659\",\n          \"19987\"\n        ],\n        \"semantic_type\": \"\",\n        \"description\": \"\"\n      }\n    }\n  ]\n}"
            }
          },
          "metadata": {},
          "execution_count": 258
        }
      ],
      "source": [
        "train_data.describe(include= \"object\")"
      ]
    },
    {
      "cell_type": "markdown",
      "metadata": {
        "id": "UWNt-F14QCkw"
      },
      "source": [
        "Key insight:\n",
        "Features datatype\n",
        "* Text =\t5\n",
        "* Numeric =\t8\n",
        "* DateTime =\t2\n",
        "* Categorical =\t7\n",
        "\n",
        "object and float dtype but in reality there are total of 4 dtypes which needs to be attressed carefully somesh."
      ]
    },
    {
      "cell_type": "code",
      "execution_count": null,
      "metadata": {
        "colab": {
          "base_uri": "https://localhost:8080/",
          "height": 331
        },
        "id": "_BAp1u8RRpBy",
        "outputId": "f613cec9-3f07-428f-99e0-d52282ead94c"
      },
      "outputs": [
        {
          "output_type": "execute_result",
          "data": {
            "text/plain": [
              "                       Latitude  Longitude  Time_Occurred   Area_ID  \\\n",
              "Latitude               1.000000  -0.998911       0.005981  0.018403   \n",
              "Longitude             -0.998911   1.000000      -0.005372 -0.006481   \n",
              "Time_Occurred          0.005981  -0.005372       1.000000  0.012826   \n",
              "Area_ID                0.018403  -0.006481       0.012826  1.000000   \n",
              "Reporting_District_no  0.017920  -0.006139       0.012607  0.999024   \n",
              "Part 1-2              -0.036343   0.036374      -0.028798 -0.002305   \n",
              "Victim_Age             0.003244  -0.002292      -0.017700  0.028676   \n",
              "Premise_Code          -0.011285   0.011209      -0.057100  0.004015   \n",
              "Weapon_Used_Code      -0.017695   0.019220      -0.017317 -0.026916   \n",
              "\n",
              "                       Reporting_District_no  Part 1-2  Victim_Age  \\\n",
              "Latitude                            0.017920 -0.036343    0.003244   \n",
              "Longitude                          -0.006139  0.036374   -0.002292   \n",
              "Time_Occurred                       0.012607 -0.028798   -0.017700   \n",
              "Area_ID                             0.999024 -0.002305    0.028676   \n",
              "Reporting_District_no               1.000000 -0.001916    0.028423   \n",
              "Part 1-2                           -0.001916  1.000000    0.186775   \n",
              "Victim_Age                          0.028423  0.186775    1.000000   \n",
              "Premise_Code                        0.004077  0.254277    0.191358   \n",
              "Weapon_Used_Code                   -0.026774  0.420356    0.057888   \n",
              "\n",
              "                       Premise_Code  Weapon_Used_Code  \n",
              "Latitude                  -0.011285         -0.017695  \n",
              "Longitude                  0.011209          0.019220  \n",
              "Time_Occurred             -0.057100         -0.017317  \n",
              "Area_ID                    0.004015         -0.026916  \n",
              "Reporting_District_no      0.004077         -0.026774  \n",
              "Part 1-2                   0.254277          0.420356  \n",
              "Victim_Age                 0.191358          0.057888  \n",
              "Premise_Code               1.000000          0.197275  \n",
              "Weapon_Used_Code           0.197275          1.000000  "
            ],
            "text/html": [
              "\n",
              "  <div id=\"df-3409e1d5-2353-43ce-a3da-d2d54efef409\" class=\"colab-df-container\">\n",
              "    <div>\n",
              "<style scoped>\n",
              "    .dataframe tbody tr th:only-of-type {\n",
              "        vertical-align: middle;\n",
              "    }\n",
              "\n",
              "    .dataframe tbody tr th {\n",
              "        vertical-align: top;\n",
              "    }\n",
              "\n",
              "    .dataframe thead th {\n",
              "        text-align: right;\n",
              "    }\n",
              "</style>\n",
              "<table border=\"1\" class=\"dataframe\">\n",
              "  <thead>\n",
              "    <tr style=\"text-align: right;\">\n",
              "      <th></th>\n",
              "      <th>Latitude</th>\n",
              "      <th>Longitude</th>\n",
              "      <th>Time_Occurred</th>\n",
              "      <th>Area_ID</th>\n",
              "      <th>Reporting_District_no</th>\n",
              "      <th>Part 1-2</th>\n",
              "      <th>Victim_Age</th>\n",
              "      <th>Premise_Code</th>\n",
              "      <th>Weapon_Used_Code</th>\n",
              "    </tr>\n",
              "  </thead>\n",
              "  <tbody>\n",
              "    <tr>\n",
              "      <th>Latitude</th>\n",
              "      <td>1.000000</td>\n",
              "      <td>-0.998911</td>\n",
              "      <td>0.005981</td>\n",
              "      <td>0.018403</td>\n",
              "      <td>0.017920</td>\n",
              "      <td>-0.036343</td>\n",
              "      <td>0.003244</td>\n",
              "      <td>-0.011285</td>\n",
              "      <td>-0.017695</td>\n",
              "    </tr>\n",
              "    <tr>\n",
              "      <th>Longitude</th>\n",
              "      <td>-0.998911</td>\n",
              "      <td>1.000000</td>\n",
              "      <td>-0.005372</td>\n",
              "      <td>-0.006481</td>\n",
              "      <td>-0.006139</td>\n",
              "      <td>0.036374</td>\n",
              "      <td>-0.002292</td>\n",
              "      <td>0.011209</td>\n",
              "      <td>0.019220</td>\n",
              "    </tr>\n",
              "    <tr>\n",
              "      <th>Time_Occurred</th>\n",
              "      <td>0.005981</td>\n",
              "      <td>-0.005372</td>\n",
              "      <td>1.000000</td>\n",
              "      <td>0.012826</td>\n",
              "      <td>0.012607</td>\n",
              "      <td>-0.028798</td>\n",
              "      <td>-0.017700</td>\n",
              "      <td>-0.057100</td>\n",
              "      <td>-0.017317</td>\n",
              "    </tr>\n",
              "    <tr>\n",
              "      <th>Area_ID</th>\n",
              "      <td>0.018403</td>\n",
              "      <td>-0.006481</td>\n",
              "      <td>0.012826</td>\n",
              "      <td>1.000000</td>\n",
              "      <td>0.999024</td>\n",
              "      <td>-0.002305</td>\n",
              "      <td>0.028676</td>\n",
              "      <td>0.004015</td>\n",
              "      <td>-0.026916</td>\n",
              "    </tr>\n",
              "    <tr>\n",
              "      <th>Reporting_District_no</th>\n",
              "      <td>0.017920</td>\n",
              "      <td>-0.006139</td>\n",
              "      <td>0.012607</td>\n",
              "      <td>0.999024</td>\n",
              "      <td>1.000000</td>\n",
              "      <td>-0.001916</td>\n",
              "      <td>0.028423</td>\n",
              "      <td>0.004077</td>\n",
              "      <td>-0.026774</td>\n",
              "    </tr>\n",
              "    <tr>\n",
              "      <th>Part 1-2</th>\n",
              "      <td>-0.036343</td>\n",
              "      <td>0.036374</td>\n",
              "      <td>-0.028798</td>\n",
              "      <td>-0.002305</td>\n",
              "      <td>-0.001916</td>\n",
              "      <td>1.000000</td>\n",
              "      <td>0.186775</td>\n",
              "      <td>0.254277</td>\n",
              "      <td>0.420356</td>\n",
              "    </tr>\n",
              "    <tr>\n",
              "      <th>Victim_Age</th>\n",
              "      <td>0.003244</td>\n",
              "      <td>-0.002292</td>\n",
              "      <td>-0.017700</td>\n",
              "      <td>0.028676</td>\n",
              "      <td>0.028423</td>\n",
              "      <td>0.186775</td>\n",
              "      <td>1.000000</td>\n",
              "      <td>0.191358</td>\n",
              "      <td>0.057888</td>\n",
              "    </tr>\n",
              "    <tr>\n",
              "      <th>Premise_Code</th>\n",
              "      <td>-0.011285</td>\n",
              "      <td>0.011209</td>\n",
              "      <td>-0.057100</td>\n",
              "      <td>0.004015</td>\n",
              "      <td>0.004077</td>\n",
              "      <td>0.254277</td>\n",
              "      <td>0.191358</td>\n",
              "      <td>1.000000</td>\n",
              "      <td>0.197275</td>\n",
              "    </tr>\n",
              "    <tr>\n",
              "      <th>Weapon_Used_Code</th>\n",
              "      <td>-0.017695</td>\n",
              "      <td>0.019220</td>\n",
              "      <td>-0.017317</td>\n",
              "      <td>-0.026916</td>\n",
              "      <td>-0.026774</td>\n",
              "      <td>0.420356</td>\n",
              "      <td>0.057888</td>\n",
              "      <td>0.197275</td>\n",
              "      <td>1.000000</td>\n",
              "    </tr>\n",
              "  </tbody>\n",
              "</table>\n",
              "</div>\n",
              "    <div class=\"colab-df-buttons\">\n",
              "\n",
              "  <div class=\"colab-df-container\">\n",
              "    <button class=\"colab-df-convert\" onclick=\"convertToInteractive('df-3409e1d5-2353-43ce-a3da-d2d54efef409')\"\n",
              "            title=\"Convert this dataframe to an interactive table.\"\n",
              "            style=\"display:none;\">\n",
              "\n",
              "  <svg xmlns=\"http://www.w3.org/2000/svg\" height=\"24px\" viewBox=\"0 -960 960 960\">\n",
              "    <path d=\"M120-120v-720h720v720H120Zm60-500h600v-160H180v160Zm220 220h160v-160H400v160Zm0 220h160v-160H400v160ZM180-400h160v-160H180v160Zm440 0h160v-160H620v160ZM180-180h160v-160H180v160Zm440 0h160v-160H620v160Z\"/>\n",
              "  </svg>\n",
              "    </button>\n",
              "\n",
              "  <style>\n",
              "    .colab-df-container {\n",
              "      display:flex;\n",
              "      gap: 12px;\n",
              "    }\n",
              "\n",
              "    .colab-df-convert {\n",
              "      background-color: #E8F0FE;\n",
              "      border: none;\n",
              "      border-radius: 50%;\n",
              "      cursor: pointer;\n",
              "      display: none;\n",
              "      fill: #1967D2;\n",
              "      height: 32px;\n",
              "      padding: 0 0 0 0;\n",
              "      width: 32px;\n",
              "    }\n",
              "\n",
              "    .colab-df-convert:hover {\n",
              "      background-color: #E2EBFA;\n",
              "      box-shadow: 0px 1px 2px rgba(60, 64, 67, 0.3), 0px 1px 3px 1px rgba(60, 64, 67, 0.15);\n",
              "      fill: #174EA6;\n",
              "    }\n",
              "\n",
              "    .colab-df-buttons div {\n",
              "      margin-bottom: 4px;\n",
              "    }\n",
              "\n",
              "    [theme=dark] .colab-df-convert {\n",
              "      background-color: #3B4455;\n",
              "      fill: #D2E3FC;\n",
              "    }\n",
              "\n",
              "    [theme=dark] .colab-df-convert:hover {\n",
              "      background-color: #434B5C;\n",
              "      box-shadow: 0px 1px 3px 1px rgba(0, 0, 0, 0.15);\n",
              "      filter: drop-shadow(0px 1px 2px rgba(0, 0, 0, 0.3));\n",
              "      fill: #FFFFFF;\n",
              "    }\n",
              "  </style>\n",
              "\n",
              "    <script>\n",
              "      const buttonEl =\n",
              "        document.querySelector('#df-3409e1d5-2353-43ce-a3da-d2d54efef409 button.colab-df-convert');\n",
              "      buttonEl.style.display =\n",
              "        google.colab.kernel.accessAllowed ? 'block' : 'none';\n",
              "\n",
              "      async function convertToInteractive(key) {\n",
              "        const element = document.querySelector('#df-3409e1d5-2353-43ce-a3da-d2d54efef409');\n",
              "        const dataTable =\n",
              "          await google.colab.kernel.invokeFunction('convertToInteractive',\n",
              "                                                    [key], {});\n",
              "        if (!dataTable) return;\n",
              "\n",
              "        const docLinkHtml = 'Like what you see? Visit the ' +\n",
              "          '<a target=\"_blank\" href=https://colab.research.google.com/notebooks/data_table.ipynb>data table notebook</a>'\n",
              "          + ' to learn more about interactive tables.';\n",
              "        element.innerHTML = '';\n",
              "        dataTable['output_type'] = 'display_data';\n",
              "        await google.colab.output.renderOutput(dataTable, element);\n",
              "        const docLink = document.createElement('div');\n",
              "        docLink.innerHTML = docLinkHtml;\n",
              "        element.appendChild(docLink);\n",
              "      }\n",
              "    </script>\n",
              "  </div>\n",
              "\n",
              "\n",
              "<div id=\"df-59c85f1c-6874-46b6-9000-ca7daf31dabe\">\n",
              "  <button class=\"colab-df-quickchart\" onclick=\"quickchart('df-59c85f1c-6874-46b6-9000-ca7daf31dabe')\"\n",
              "            title=\"Suggest charts\"\n",
              "            style=\"display:none;\">\n",
              "\n",
              "<svg xmlns=\"http://www.w3.org/2000/svg\" height=\"24px\"viewBox=\"0 0 24 24\"\n",
              "     width=\"24px\">\n",
              "    <g>\n",
              "        <path d=\"M19 3H5c-1.1 0-2 .9-2 2v14c0 1.1.9 2 2 2h14c1.1 0 2-.9 2-2V5c0-1.1-.9-2-2-2zM9 17H7v-7h2v7zm4 0h-2V7h2v10zm4 0h-2v-4h2v4z\"/>\n",
              "    </g>\n",
              "</svg>\n",
              "  </button>\n",
              "\n",
              "<style>\n",
              "  .colab-df-quickchart {\n",
              "      --bg-color: #E8F0FE;\n",
              "      --fill-color: #1967D2;\n",
              "      --hover-bg-color: #E2EBFA;\n",
              "      --hover-fill-color: #174EA6;\n",
              "      --disabled-fill-color: #AAA;\n",
              "      --disabled-bg-color: #DDD;\n",
              "  }\n",
              "\n",
              "  [theme=dark] .colab-df-quickchart {\n",
              "      --bg-color: #3B4455;\n",
              "      --fill-color: #D2E3FC;\n",
              "      --hover-bg-color: #434B5C;\n",
              "      --hover-fill-color: #FFFFFF;\n",
              "      --disabled-bg-color: #3B4455;\n",
              "      --disabled-fill-color: #666;\n",
              "  }\n",
              "\n",
              "  .colab-df-quickchart {\n",
              "    background-color: var(--bg-color);\n",
              "    border: none;\n",
              "    border-radius: 50%;\n",
              "    cursor: pointer;\n",
              "    display: none;\n",
              "    fill: var(--fill-color);\n",
              "    height: 32px;\n",
              "    padding: 0;\n",
              "    width: 32px;\n",
              "  }\n",
              "\n",
              "  .colab-df-quickchart:hover {\n",
              "    background-color: var(--hover-bg-color);\n",
              "    box-shadow: 0 1px 2px rgba(60, 64, 67, 0.3), 0 1px 3px 1px rgba(60, 64, 67, 0.15);\n",
              "    fill: var(--button-hover-fill-color);\n",
              "  }\n",
              "\n",
              "  .colab-df-quickchart-complete:disabled,\n",
              "  .colab-df-quickchart-complete:disabled:hover {\n",
              "    background-color: var(--disabled-bg-color);\n",
              "    fill: var(--disabled-fill-color);\n",
              "    box-shadow: none;\n",
              "  }\n",
              "\n",
              "  .colab-df-spinner {\n",
              "    border: 2px solid var(--fill-color);\n",
              "    border-color: transparent;\n",
              "    border-bottom-color: var(--fill-color);\n",
              "    animation:\n",
              "      spin 1s steps(1) infinite;\n",
              "  }\n",
              "\n",
              "  @keyframes spin {\n",
              "    0% {\n",
              "      border-color: transparent;\n",
              "      border-bottom-color: var(--fill-color);\n",
              "      border-left-color: var(--fill-color);\n",
              "    }\n",
              "    20% {\n",
              "      border-color: transparent;\n",
              "      border-left-color: var(--fill-color);\n",
              "      border-top-color: var(--fill-color);\n",
              "    }\n",
              "    30% {\n",
              "      border-color: transparent;\n",
              "      border-left-color: var(--fill-color);\n",
              "      border-top-color: var(--fill-color);\n",
              "      border-right-color: var(--fill-color);\n",
              "    }\n",
              "    40% {\n",
              "      border-color: transparent;\n",
              "      border-right-color: var(--fill-color);\n",
              "      border-top-color: var(--fill-color);\n",
              "    }\n",
              "    60% {\n",
              "      border-color: transparent;\n",
              "      border-right-color: var(--fill-color);\n",
              "    }\n",
              "    80% {\n",
              "      border-color: transparent;\n",
              "      border-right-color: var(--fill-color);\n",
              "      border-bottom-color: var(--fill-color);\n",
              "    }\n",
              "    90% {\n",
              "      border-color: transparent;\n",
              "      border-bottom-color: var(--fill-color);\n",
              "    }\n",
              "  }\n",
              "</style>\n",
              "\n",
              "  <script>\n",
              "    async function quickchart(key) {\n",
              "      const quickchartButtonEl =\n",
              "        document.querySelector('#' + key + ' button');\n",
              "      quickchartButtonEl.disabled = true;  // To prevent multiple clicks.\n",
              "      quickchartButtonEl.classList.add('colab-df-spinner');\n",
              "      try {\n",
              "        const charts = await google.colab.kernel.invokeFunction(\n",
              "            'suggestCharts', [key], {});\n",
              "      } catch (error) {\n",
              "        console.error('Error during call to suggestCharts:', error);\n",
              "      }\n",
              "      quickchartButtonEl.classList.remove('colab-df-spinner');\n",
              "      quickchartButtonEl.classList.add('colab-df-quickchart-complete');\n",
              "    }\n",
              "    (() => {\n",
              "      let quickchartButtonEl =\n",
              "        document.querySelector('#df-59c85f1c-6874-46b6-9000-ca7daf31dabe button');\n",
              "      quickchartButtonEl.style.display =\n",
              "        google.colab.kernel.accessAllowed ? 'block' : 'none';\n",
              "    })();\n",
              "  </script>\n",
              "</div>\n",
              "\n",
              "  <div id=\"id_7be87a9f-4f62-40d7-b1f6-9a6ea74d7414\">\n",
              "    <style>\n",
              "      .colab-df-generate {\n",
              "        background-color: #E8F0FE;\n",
              "        border: none;\n",
              "        border-radius: 50%;\n",
              "        cursor: pointer;\n",
              "        display: none;\n",
              "        fill: #1967D2;\n",
              "        height: 32px;\n",
              "        padding: 0 0 0 0;\n",
              "        width: 32px;\n",
              "      }\n",
              "\n",
              "      .colab-df-generate:hover {\n",
              "        background-color: #E2EBFA;\n",
              "        box-shadow: 0px 1px 2px rgba(60, 64, 67, 0.3), 0px 1px 3px 1px rgba(60, 64, 67, 0.15);\n",
              "        fill: #174EA6;\n",
              "      }\n",
              "\n",
              "      [theme=dark] .colab-df-generate {\n",
              "        background-color: #3B4455;\n",
              "        fill: #D2E3FC;\n",
              "      }\n",
              "\n",
              "      [theme=dark] .colab-df-generate:hover {\n",
              "        background-color: #434B5C;\n",
              "        box-shadow: 0px 1px 3px 1px rgba(0, 0, 0, 0.15);\n",
              "        filter: drop-shadow(0px 1px 2px rgba(0, 0, 0, 0.3));\n",
              "        fill: #FFFFFF;\n",
              "      }\n",
              "    </style>\n",
              "    <button class=\"colab-df-generate\" onclick=\"generateWithVariable('corr_matrix')\"\n",
              "            title=\"Generate code using this dataframe.\"\n",
              "            style=\"display:none;\">\n",
              "\n",
              "  <svg xmlns=\"http://www.w3.org/2000/svg\" height=\"24px\"viewBox=\"0 0 24 24\"\n",
              "       width=\"24px\">\n",
              "    <path d=\"M7,19H8.4L18.45,9,17,7.55,7,17.6ZM5,21V16.75L18.45,3.32a2,2,0,0,1,2.83,0l1.4,1.43a1.91,1.91,0,0,1,.58,1.4,1.91,1.91,0,0,1-.58,1.4L9.25,21ZM18.45,9,17,7.55Zm-12,3A5.31,5.31,0,0,0,4.9,8.1,5.31,5.31,0,0,0,1,6.5,5.31,5.31,0,0,0,4.9,4.9,5.31,5.31,0,0,0,6.5,1,5.31,5.31,0,0,0,8.1,4.9,5.31,5.31,0,0,0,12,6.5,5.46,5.46,0,0,0,6.5,12Z\"/>\n",
              "  </svg>\n",
              "    </button>\n",
              "    <script>\n",
              "      (() => {\n",
              "      const buttonEl =\n",
              "        document.querySelector('#id_7be87a9f-4f62-40d7-b1f6-9a6ea74d7414 button.colab-df-generate');\n",
              "      buttonEl.style.display =\n",
              "        google.colab.kernel.accessAllowed ? 'block' : 'none';\n",
              "\n",
              "      buttonEl.onclick = () => {\n",
              "        google.colab.notebook.generateWithVariable('corr_matrix');\n",
              "      }\n",
              "      })();\n",
              "    </script>\n",
              "  </div>\n",
              "\n",
              "    </div>\n",
              "  </div>\n"
            ],
            "application/vnd.google.colaboratory.intrinsic+json": {
              "type": "dataframe",
              "variable_name": "corr_matrix",
              "summary": "{\n  \"name\": \"corr_matrix\",\n  \"rows\": 9,\n  \"fields\": [\n    {\n      \"column\": \"Latitude\",\n      \"properties\": {\n        \"dtype\": \"number\",\n        \"std\": 0.5000314832398665,\n        \"min\": -0.9989110653733905,\n        \"max\": 1.0,\n        \"num_unique_values\": 9,\n        \"samples\": [\n          -0.011284782640381932,\n          -0.9989110653733905,\n          -0.036342999188363846\n        ],\n        \"semantic_type\": \"\",\n        \"description\": \"\"\n      }\n    },\n    {\n      \"column\": \"Longitude\",\n      \"properties\": {\n        \"dtype\": \"number\",\n        \"std\": 0.49993792264231823,\n        \"min\": -0.9989110653733905,\n        \"max\": 1.0,\n        \"num_unique_values\": 9,\n        \"samples\": [\n          0.011208650547307342,\n          1.0,\n          0.03637440530171347\n        ],\n        \"semantic_type\": \"\",\n        \"description\": \"\"\n      }\n    },\n    {\n      \"column\": \"Time_Occurred\",\n      \"properties\": {\n        \"dtype\": \"number\",\n        \"std\": 0.3380204368261732,\n        \"min\": -0.05709958800774901,\n        \"max\": 1.0,\n        \"num_unique_values\": 9,\n        \"samples\": [\n          -0.05709958800774901,\n          -0.00537176988960262,\n          -0.02879813036320508\n        ],\n        \"semantic_type\": \"\",\n        \"description\": \"\"\n      }\n    },\n    {\n      \"column\": \"Area_ID\",\n      \"properties\": {\n        \"dtype\": \"number\",\n        \"std\": 0.439250548177767,\n        \"min\": -0.026915703036136423,\n        \"max\": 1.0,\n        \"num_unique_values\": 9,\n        \"samples\": [\n          0.004014740223161991,\n          -0.0064806139436216475,\n          -0.0023051755977387864\n        ],\n        \"semantic_type\": \"\",\n        \"description\": \"\"\n      }\n    },\n    {\n      \"column\": \"Reporting_District_no\",\n      \"properties\": {\n        \"dtype\": \"number\",\n        \"std\": 0.43924464782031064,\n        \"min\": -0.026774302600983315,\n        \"max\": 1.0,\n        \"num_unique_values\": 9,\n        \"samples\": [\n          0.00407700727417235,\n          -0.006139499221390455,\n          -0.0019161043281225706\n        ],\n        \"semantic_type\": \"\",\n        \"description\": \"\"\n      }\n    },\n    {\n      \"column\": \"Part 1-2\",\n      \"properties\": {\n        \"dtype\": \"number\",\n        \"std\": 0.3369467880436747,\n        \"min\": -0.036342999188363846,\n        \"max\": 1.0,\n        \"num_unique_values\": 9,\n        \"samples\": [\n          0.2542765082647236,\n          0.03637440530171347,\n          1.0\n        ],\n        \"semantic_type\": \"\",\n        \"description\": \"\"\n      }\n    },\n    {\n      \"column\": \"Victim_Age\",\n      \"properties\": {\n        \"dtype\": \"number\",\n        \"std\": 0.32299907618947177,\n        \"min\": -0.017699741308202375,\n        \"max\": 1.0,\n        \"num_unique_values\": 9,\n        \"samples\": [\n          0.1913584676654659,\n          -0.002292113838095949,\n          0.18677519969076128\n        ],\n        \"semantic_type\": \"\",\n        \"description\": \"\"\n      }\n    },\n    {\n      \"column\": \"Premise_Code\",\n      \"properties\": {\n        \"dtype\": \"number\",\n        \"std\": 0.3281548063268708,\n        \"min\": -0.05709958800774901,\n        \"max\": 1.0,\n        \"num_unique_values\": 9,\n        \"samples\": [\n          1.0,\n          0.011208650547307342,\n          0.2542765082647236\n        ],\n        \"semantic_type\": \"\",\n        \"description\": \"\"\n      }\n    },\n    {\n      \"column\": \"Weapon_Used_Code\",\n      \"properties\": {\n        \"dtype\": \"number\",\n        \"std\": 0.34183263985671636,\n        \"min\": -0.026915703036136423,\n        \"max\": 1.0,\n        \"num_unique_values\": 9,\n        \"samples\": [\n          0.19727454511712952,\n          0.01921964109894505,\n          0.42035557252042544\n        ],\n        \"semantic_type\": \"\",\n        \"description\": \"\"\n      }\n    }\n  ]\n}"
            }
          },
          "metadata": {},
          "execution_count": 259
        }
      ],
      "source": [
        "# Calculate the correlation matrix\n",
        "Numeric_features = train_data.select_dtypes(include=['int64', 'float64'])\n",
        "corr_matrix = Numeric_features.corr()\n",
        "\n",
        "corr_matrix\n",
        "\n"
      ]
    },
    {
      "cell_type": "code",
      "execution_count": null,
      "metadata": {
        "colab": {
          "base_uri": "https://localhost:8080/"
        },
        "id": "XOtigGGIS1VG",
        "outputId": "459bbfb9-c930-4b0d-b3a7-931c57b87c5e"
      },
      "outputs": [
        {
          "output_type": "execute_result",
          "data": {
            "text/plain": [
              "Location                 12399\n",
              "Cross_Street              1495\n",
              "Latitude                  3622\n",
              "Longitude                 3578\n",
              "Date_Reported              811\n",
              "Date_Occurred              366\n",
              "Time_Occurred              996\n",
              "Area_ID                     21\n",
              "Area_Name                   21\n",
              "Reporting_District_no     1120\n",
              "Part 1-2                     2\n",
              "Modus_Operandi           10489\n",
              "Victim_Age                 100\n",
              "Victim_Sex                   4\n",
              "Victim_Descent              17\n",
              "Premise_Code               217\n",
              "Premise_Description        216\n",
              "Weapon_Used_Code            57\n",
              "Weapon_Description          57\n",
              "Status                       5\n",
              "Status_Description           5\n",
              "Crime_Category               6\n",
              "dtype: int64"
            ]
          },
          "metadata": {},
          "execution_count": 260
        }
      ],
      "source": [
        "train_data.nunique()\n",
        "\n",
        "#key insight:\n",
        "# there are some categorica features which are already encoded in nuric form, keep it in mind when doing preprocessing."
      ]
    },
    {
      "cell_type": "code",
      "execution_count": null,
      "metadata": {
        "colab": {
          "base_uri": "https://localhost:8080/",
          "height": 833
        },
        "id": "NHtpTcb0VhkB",
        "outputId": "563bf43a-3b1b-4367-e410-0cea4897c2d3"
      },
      "outputs": [
        {
          "output_type": "display_data",
          "data": {
            "text/plain": [
              "<Figure size 1000x800 with 2 Axes>"
            ],
            "image/png": "[encoded data removed]"
          },
          "metadata": {}
        }
      ],
      "source": [
        "plt.figure(figsize=(10, 8))\n",
        "sns.heatmap(corr_matrix, annot=True, cmap='coolwarm')\n",
        "plt.title('Correlation Matrix')\n",
        "plt.show()\n"
      ]
    },
    {
      "cell_type": "code",
      "execution_count": null,
      "metadata": {
        "colab": {
          "base_uri": "https://localhost:8080/",
          "height": 853
        },
        "id": "6iQMRkJ1YyIR",
        "outputId": "e40b3e0d-2d12-4372-d852-0f55e945dc0e"
      },
      "outputs": [
        {
          "output_type": "display_data",
          "data": {
            "text/plain": [
              "<Figure size 1000x1000 with 9 Axes>"
            ],
            "image/png": "[encoded data removed]"
          },
          "metadata": {}
        }
      ],
      "source": [
        "\n",
        "Numeric_features.hist(bins=20, figsize=(10, 10))\n",
        "plt.show()\n",
        "\n",
        "# key insight: look at the last 3 histograms, first there is imbalance of datavalues which will cause problems later, second vitim age has more value of zero."
      ]
    },
    {
      "cell_type": "code",
      "execution_count": null,
      "metadata": {
        "colab": {
          "base_uri": "https://localhost:8080/",
          "height": 429
        },
        "id": "GrZeHr6Wd-Pr",
        "outputId": "8297203a-578c-4887-856b-ff2bd04dec01"
      },
      "outputs": [
        {
          "output_type": "execute_result",
          "data": {
            "text/plain": [
              "                                   Location                     Cross_Street  \\\n",
              "0   4500    CARPENTER                    AV                              NaN   \n",
              "1           45TH                         ST  ALAMEDA                      ST   \n",
              "2    600 E  MARTIN LUTHER KING JR        BL                              NaN   \n",
              "3  14900    ORO GRANDE                   ST                              NaN   \n",
              "4   7100 S  VERMONT                      AV                              NaN   \n",
              "\n",
              "   Latitude  Longitude           Date_Reported           Date_Occurred  \\\n",
              "0   34.1522  -118.3910  03/09/2020 12:00:00 AM  03/06/2020 12:00:00 AM   \n",
              "1   34.0028  -118.2391  02/27/2020 12:00:00 AM  02/27/2020 12:00:00 AM   \n",
              "2   34.0111  -118.2653  08/21/2020 12:00:00 AM  08/21/2020 12:00:00 AM   \n",
              "3   34.2953  -118.4590  11/08/2020 12:00:00 AM  11/06/2020 12:00:00 AM   \n",
              "4   33.9787  -118.2918  02/25/2020 12:00:00 AM  02/25/2020 12:00:00 AM   \n",
              "\n",
              "   Time_Occurred  Area_ID    Area_Name  Reporting_District_no  ...  \\\n",
              "0         1800.0     15.0  N Hollywood                 1563.0  ...   \n",
              "1         1345.0     13.0       Newton                 1367.0  ...   \n",
              "2          605.0     13.0       Newton                 1343.0  ...   \n",
              "3         1800.0     19.0      Mission                 1924.0  ...   \n",
              "4         1130.0     12.0  77th Street                 1245.0  ...   \n",
              "\n",
              "   Victim_Age Victim_Sex  Victim_Descent Premise_Code     Premise_Description  \\\n",
              "0        75.0          M               W        101.0                  STREET   \n",
              "1        41.0          M               H        216.0               SWAP MEET   \n",
              "2        67.0          M               B        501.0  SINGLE FAMILY DWELLING   \n",
              "3        61.0          M               H        101.0                  STREET   \n",
              "4         0.0          X               X        401.0               MINI-MART   \n",
              "\n",
              "   Weapon_Used_Code                              Weapon_Description  Status  \\\n",
              "0               NaN                                             NaN      IC   \n",
              "1             400.0  STRONG-ARM (HANDS, FIST, FEET OR BODILY FORCE)      IC   \n",
              "2               NaN                                             NaN      IC   \n",
              "3               NaN                                             NaN      IC   \n",
              "4             400.0  STRONG-ARM (HANDS, FIST, FEET OR BODILY FORCE)      IC   \n",
              "\n",
              "  Status_Description   Crime_Category  \n",
              "0        Invest Cont  Property Crimes  \n",
              "1        Invest Cont  Property Crimes  \n",
              "2        Invest Cont  Property Crimes  \n",
              "3        Invest Cont  Property Crimes  \n",
              "4        Invest Cont  Property Crimes  \n",
              "\n",
              "[5 rows x 22 columns]"
            ],
            "text/html": [
              "\n",
              "  <div id=\"df-7ca1f5c5-a452-4dc5-8085-c52d4560c768\" class=\"colab-df-container\">\n",
              "    <div>\n",
              "<style scoped>\n",
              "    .dataframe tbody tr th:only-of-type {\n",
              "        vertical-align: middle;\n",
              "    }\n",
              "\n",
              "    .dataframe tbody tr th {\n",
              "        vertical-align: top;\n",
              "    }\n",
              "\n",
              "    .dataframe thead th {\n",
              "        text-align: right;\n",
              "    }\n",
              "</style>\n",
              "<table border=\"1\" class=\"dataframe\">\n",
              "  <thead>\n",
              "    <tr style=\"text-align: right;\">\n",
              "      <th></th>\n",
              "      <th>Location</th>\n",
              "      <th>Cross_Street</th>\n",
              "      <th>Latitude</th>\n",
              "      <th>Longitude</th>\n",
              "      <th>Date_Reported</th>\n",
              "      <th>Date_Occurred</th>\n",
              "      <th>Time_Occurred</th>\n",
              "      <th>Area_ID</th>\n",
              "      <th>Area_Name</th>\n",
              "      <th>Reporting_District_no</th>\n",
              "      <th>...</th>\n",
              "      <th>Victim_Age</th>\n",
              "      <th>Victim_Sex</th>\n",
              "      <th>Victim_Descent</th>\n",
              "      <th>Premise_Code</th>\n",
              "      <th>Premise_Description</th>\n",
              "      <th>Weapon_Used_Code</th>\n",
              "      <th>Weapon_Description</th>\n",
              "      <th>Status</th>\n",
              "      <th>Status_Description</th>\n",
              "      <th>Crime_Category</th>\n",
              "    </tr>\n",
              "  </thead>\n",
              "  <tbody>\n",
              "    <tr>\n",
              "      <th>0</th>\n",
              "      <td>4500    CARPENTER                    AV</td>\n",
              "      <td>NaN</td>\n",
              "      <td>34.1522</td>\n",
              "      <td>-118.3910</td>\n",
              "      <td>03/09/2020 12:00:00 AM</td>\n",
              "      <td>03/06/2020 12:00:00 AM</td>\n",
              "      <td>1800.0</td>\n",
              "      <td>15.0</td>\n",
              "      <td>N Hollywood</td>\n",
              "      <td>1563.0</td>\n",
              "      <td>...</td>\n",
              "      <td>75.0</td>\n",
              "      <td>M</td>\n",
              "      <td>W</td>\n",
              "      <td>101.0</td>\n",
              "      <td>STREET</td>\n",
              "      <td>NaN</td>\n",
              "      <td>NaN</td>\n",
              "      <td>IC</td>\n",
              "      <td>Invest Cont</td>\n",
              "      <td>Property Crimes</td>\n",
              "    </tr>\n",
              "    <tr>\n",
              "      <th>1</th>\n",
              "      <td>45TH                         ST</td>\n",
              "      <td>ALAMEDA                      ST</td>\n",
              "      <td>34.0028</td>\n",
              "      <td>-118.2391</td>\n",
              "      <td>02/27/2020 12:00:00 AM</td>\n",
              "      <td>02/27/2020 12:00:00 AM</td>\n",
              "      <td>1345.0</td>\n",
              "      <td>13.0</td>\n",
              "      <td>Newton</td>\n",
              "      <td>1367.0</td>\n",
              "      <td>...</td>\n",
              "      <td>41.0</td>\n",
              "      <td>M</td>\n",
              "      <td>H</td>\n",
              "      <td>216.0</td>\n",
              "      <td>SWAP MEET</td>\n",
              "      <td>400.0</td>\n",
              "      <td>STRONG-ARM (HANDS, FIST, FEET OR BODILY FORCE)</td>\n",
              "      <td>IC</td>\n",
              "      <td>Invest Cont</td>\n",
              "      <td>Property Crimes</td>\n",
              "    </tr>\n",
              "    <tr>\n",
              "      <th>2</th>\n",
              "      <td>600 E  MARTIN LUTHER KING JR        BL</td>\n",
              "      <td>NaN</td>\n",
              "      <td>34.0111</td>\n",
              "      <td>-118.2653</td>\n",
              "      <td>08/21/2020 12:00:00 AM</td>\n",
              "      <td>08/21/2020 12:00:00 AM</td>\n",
              "      <td>605.0</td>\n",
              "      <td>13.0</td>\n",
              "      <td>Newton</td>\n",
              "      <td>1343.0</td>\n",
              "      <td>...</td>\n",
              "      <td>67.0</td>\n",
              "      <td>M</td>\n",
              "      <td>B</td>\n",
              "      <td>501.0</td>\n",
              "      <td>SINGLE FAMILY DWELLING</td>\n",
              "      <td>NaN</td>\n",
              "      <td>NaN</td>\n",
              "      <td>IC</td>\n",
              "      <td>Invest Cont</td>\n",
              "      <td>Property Crimes</td>\n",
              "    </tr>\n",
              "    <tr>\n",
              "      <th>3</th>\n",
              "      <td>14900    ORO GRANDE                   ST</td>\n",
              "      <td>NaN</td>\n",
              "      <td>34.2953</td>\n",
              "      <td>-118.4590</td>\n",
              "      <td>11/08/2020 12:00:00 AM</td>\n",
              "      <td>11/06/2020 12:00:00 AM</td>\n",
              "      <td>1800.0</td>\n",
              "      <td>19.0</td>\n",
              "      <td>Mission</td>\n",
              "      <td>1924.0</td>\n",
              "      <td>...</td>\n",
              "      <td>61.0</td>\n",
              "      <td>M</td>\n",
              "      <td>H</td>\n",
              "      <td>101.0</td>\n",
              "      <td>STREET</td>\n",
              "      <td>NaN</td>\n",
              "      <td>NaN</td>\n",
              "      <td>IC</td>\n",
              "      <td>Invest Cont</td>\n",
              "      <td>Property Crimes</td>\n",
              "    </tr>\n",
              "    <tr>\n",
              "      <th>4</th>\n",
              "      <td>7100 S  VERMONT                      AV</td>\n",
              "      <td>NaN</td>\n",
              "      <td>33.9787</td>\n",
              "      <td>-118.2918</td>\n",
              "      <td>02/25/2020 12:00:00 AM</td>\n",
              "      <td>02/25/2020 12:00:00 AM</td>\n",
              "      <td>1130.0</td>\n",
              "      <td>12.0</td>\n",
              "      <td>77th Street</td>\n",
              "      <td>1245.0</td>\n",
              "      <td>...</td>\n",
              "      <td>0.0</td>\n",
              "      <td>X</td>\n",
              "      <td>X</td>\n",
              "      <td>401.0</td>\n",
              "      <td>MINI-MART</td>\n",
              "      <td>400.0</td>\n",
              "      <td>STRONG-ARM (HANDS, FIST, FEET OR BODILY FORCE)</td>\n",
              "      <td>IC</td>\n",
              "      <td>Invest Cont</td>\n",
              "      <td>Property Crimes</td>\n",
              "    </tr>\n",
              "  </tbody>\n",
              "</table>\n",
              "<p>5 rows × 22 columns</p>\n",
              "</div>\n",
              "    <div class=\"colab-df-buttons\">\n",
              "\n",
              "  <div class=\"colab-df-container\">\n",
              "    <button class=\"colab-df-convert\" onclick=\"convertToInteractive('df-7ca1f5c5-a452-4dc5-8085-c52d4560c768')\"\n",
              "            title=\"Convert this dataframe to an interactive table.\"\n",
              "            style=\"display:none;\">\n",
              "\n",
              "  <svg xmlns=\"http://www.w3.org/2000/svg\" height=\"24px\" viewBox=\"0 -960 960 960\">\n",
              "    <path d=\"M120-120v-720h720v720H120Zm60-500h600v-160H180v160Zm220 220h160v-160H400v160Zm0 220h160v-160H400v160ZM180-400h160v-160H180v160Zm440 0h160v-160H620v160ZM180-180h160v-160H180v160Zm440 0h160v-160H620v160Z\"/>\n",
              "  </svg>\n",
              "    </button>\n",
              "\n",
              "  <style>\n",
              "    .colab-df-container {\n",
              "      display:flex;\n",
              "      gap: 12px;\n",
              "    }\n",
              "\n",
              "    .colab-df-convert {\n",
              "      background-color: #E8F0FE;\n",
              "      border: none;\n",
              "      border-radius: 50%;\n",
              "      cursor: pointer;\n",
              "      display: none;\n",
              "      fill: #1967D2;\n",
              "      height: 32px;\n",
              "      padding: 0 0 0 0;\n",
              "      width: 32px;\n",
              "    }\n",
              "\n",
              "    .colab-df-convert:hover {\n",
              "      background-color: #E2EBFA;\n",
              "      box-shadow: 0px 1px 2px rgba(60, 64, 67, 0.3), 0px 1px 3px 1px rgba(60, 64, 67, 0.15);\n",
              "      fill: #174EA6;\n",
              "    }\n",
              "\n",
              "    .colab-df-buttons div {\n",
              "      margin-bottom: 4px;\n",
              "    }\n",
              "\n",
              "    [theme=dark] .colab-df-convert {\n",
              "      background-color: #3B4455;\n",
              "      fill: #D2E3FC;\n",
              "    }\n",
              "\n",
              "    [theme=dark] .colab-df-convert:hover {\n",
              "      background-color: #434B5C;\n",
              "      box-shadow: 0px 1px 3px 1px rgba(0, 0, 0, 0.15);\n",
              "      filter: drop-shadow(0px 1px 2px rgba(0, 0, 0, 0.3));\n",
              "      fill: #FFFFFF;\n",
              "    }\n",
              "  </style>\n",
              "\n",
              "    <script>\n",
              "      const buttonEl =\n",
              "        document.querySelector('#df-7ca1f5c5-a452-4dc5-8085-c52d4560c768 button.colab-df-convert');\n",
              "      buttonEl.style.display =\n",
              "        google.colab.kernel.accessAllowed ? 'block' : 'none';\n",
              "\n",
              "      async function convertToInteractive(key) {\n",
              "        const element = document.querySelector('#df-7ca1f5c5-a452-4dc5-8085-c52d4560c768');\n",
              "        const dataTable =\n",
              "          await google.colab.kernel.invokeFunction('convertToInteractive',\n",
              "                                                    [key], {});\n",
              "        if (!dataTable) return;\n",
              "\n",
              "        const docLinkHtml = 'Like what you see? Visit the ' +\n",
              "          '<a target=\"_blank\" href=https://colab.research.google.com/notebooks/data_table.ipynb>data table notebook</a>'\n",
              "          + ' to learn more about interactive tables.';\n",
              "        element.innerHTML = '';\n",
              "        dataTable['output_type'] = 'display_data';\n",
              "        await google.colab.output.renderOutput(dataTable, element);\n",
              "        const docLink = document.createElement('div');\n",
              "        docLink.innerHTML = docLinkHtml;\n",
              "        element.appendChild(docLink);\n",
              "      }\n",
              "    </script>\n",
              "  </div>\n",
              "\n",
              "\n",
              "<div id=\"df-2e3ac374-fc31-488c-9dd2-0c5b1c74a63f\">\n",
              "  <button class=\"colab-df-quickchart\" onclick=\"quickchart('df-2e3ac374-fc31-488c-9dd2-0c5b1c74a63f')\"\n",
              "            title=\"Suggest charts\"\n",
              "            style=\"display:none;\">\n",
              "\n",
              "<svg xmlns=\"http://www.w3.org/2000/svg\" height=\"24px\"viewBox=\"0 0 24 24\"\n",
              "     width=\"24px\">\n",
              "    <g>\n",
              "        <path d=\"M19 3H5c-1.1 0-2 .9-2 2v14c0 1.1.9 2 2 2h14c1.1 0 2-.9 2-2V5c0-1.1-.9-2-2-2zM9 17H7v-7h2v7zm4 0h-2V7h2v10zm4 0h-2v-4h2v4z\"/>\n",
              "    </g>\n",
              "</svg>\n",
              "  </button>\n",
              "\n",
              "<style>\n",
              "  .colab-df-quickchart {\n",
              "      --bg-color: #E8F0FE;\n",
              "      --fill-color: #1967D2;\n",
              "      --hover-bg-color: #E2EBFA;\n",
              "      --hover-fill-color: #174EA6;\n",
              "      --disabled-fill-color: #AAA;\n",
              "      --disabled-bg-color: #DDD;\n",
              "  }\n",
              "\n",
              "  [theme=dark] .colab-df-quickchart {\n",
              "      --bg-color: #3B4455;\n",
              "      --fill-color: #D2E3FC;\n",
              "      --hover-bg-color: #434B5C;\n",
              "      --hover-fill-color: #FFFFFF;\n",
              "      --disabled-bg-color: #3B4455;\n",
              "      --disabled-fill-color: #666;\n",
              "  }\n",
              "\n",
              "  .colab-df-quickchart {\n",
              "    background-color: var(--bg-color);\n",
              "    border: none;\n",
              "    border-radius: 50%;\n",
              "    cursor: pointer;\n",
              "    display: none;\n",
              "    fill: var(--fill-color);\n",
              "    height: 32px;\n",
              "    padding: 0;\n",
              "    width: 32px;\n",
              "  }\n",
              "\n",
              "  .colab-df-quickchart:hover {\n",
              "    background-color: var(--hover-bg-color);\n",
              "    box-shadow: 0 1px 2px rgba(60, 64, 67, 0.3), 0 1px 3px 1px rgba(60, 64, 67, 0.15);\n",
              "    fill: var(--button-hover-fill-color);\n",
              "  }\n",
              "\n",
              "  .colab-df-quickchart-complete:disabled,\n",
              "  .colab-df-quickchart-complete:disabled:hover {\n",
              "    background-color: var(--disabled-bg-color);\n",
              "    fill: var(--disabled-fill-color);\n",
              "    box-shadow: none;\n",
              "  }\n",
              "\n",
              "  .colab-df-spinner {\n",
              "    border: 2px solid var(--fill-color);\n",
              "    border-color: transparent;\n",
              "    border-bottom-color: var(--fill-color);\n",
              "    animation:\n",
              "      spin 1s steps(1) infinite;\n",
              "  }\n",
              "\n",
              "  @keyframes spin {\n",
              "    0% {\n",
              "      border-color: transparent;\n",
              "      border-bottom-color: var(--fill-color);\n",
              "      border-left-color: var(--fill-color);\n",
              "    }\n",
              "    20% {\n",
              "      border-color: transparent;\n",
              "      border-left-color: var(--fill-color);\n",
              "      border-top-color: var(--fill-color);\n",
              "    }\n",
              "    30% {\n",
              "      border-color: transparent;\n",
              "      border-left-color: var(--fill-color);\n",
              "      border-top-color: var(--fill-color);\n",
              "      border-right-color: var(--fill-color);\n",
              "    }\n",
              "    40% {\n",
              "      border-color: transparent;\n",
              "      border-right-color: var(--fill-color);\n",
              "      border-top-color: var(--fill-color);\n",
              "    }\n",
              "    60% {\n",
              "      border-color: transparent;\n",
              "      border-right-color: var(--fill-color);\n",
              "    }\n",
              "    80% {\n",
              "      border-color: transparent;\n",
              "      border-right-color: var(--fill-color);\n",
              "      border-bottom-color: var(--fill-color);\n",
              "    }\n",
              "    90% {\n",
              "      border-color: transparent;\n",
              "      border-bottom-color: var(--fill-color);\n",
              "    }\n",
              "  }\n",
              "</style>\n",
              "\n",
              "  <script>\n",
              "    async function quickchart(key) {\n",
              "      const quickchartButtonEl =\n",
              "        document.querySelector('#' + key + ' button');\n",
              "      quickchartButtonEl.disabled = true;  // To prevent multiple clicks.\n",
              "      quickchartButtonEl.classList.add('colab-df-spinner');\n",
              "      try {\n",
              "        const charts = await google.colab.kernel.invokeFunction(\n",
              "            'suggestCharts', [key], {});\n",
              "      } catch (error) {\n",
              "        console.error('Error during call to suggestCharts:', error);\n",
              "      }\n",
              "      quickchartButtonEl.classList.remove('colab-df-spinner');\n",
              "      quickchartButtonEl.classList.add('colab-df-quickchart-complete');\n",
              "    }\n",
              "    (() => {\n",
              "      let quickchartButtonEl =\n",
              "        document.querySelector('#df-2e3ac374-fc31-488c-9dd2-0c5b1c74a63f button');\n",
              "      quickchartButtonEl.style.display =\n",
              "        google.colab.kernel.accessAllowed ? 'block' : 'none';\n",
              "    })();\n",
              "  </script>\n",
              "</div>\n",
              "\n",
              "    </div>\n",
              "  </div>\n"
            ],
            "application/vnd.google.colaboratory.intrinsic+json": {
              "type": "dataframe",
              "variable_name": "train_data"
            }
          },
          "metadata": {},
          "execution_count": 263
        }
      ],
      "source": [
        "train_data.head()"
      ]
    },
    {
      "cell_type": "markdown",
      "metadata": {
        "id": "QmUjM0Ot52vz"
      },
      "source": [
        "# Key insights from EDA\n",
        "\n",
        "\n",
        "\n",
        "\n",
        "**Location**: contains string values, needs TF-IDF type encoding\n",
        "\n",
        "**Cross_Street:** close to 82% values are missing, dropping the column seems right apprach here\n",
        "\n",
        "**Latitute and Longitude**:  correlated to each other, needs encoding\n",
        "\n",
        "\n",
        "\n",
        "\n",
        "**Date_reported, Date_occured, Time_occured:**  right now dtype is float, need to convert to datetime and extract features out of it like day, month etc.\n",
        "\n",
        "\n",
        "\n",
        "**Area_Id:** 21 distinct values, correlated with Area_name and Reporting_dist_number\n",
        "\n",
        "**Area_Name**: 21 distinct values(string)\n",
        "\n",
        "**Reporting_district_number**: 1120 unique numeric values highly correlated with Area_Id\n",
        "\n",
        "**Part1-2**: only two values 1 and 2\n",
        "\n",
        "**Modus_operandi**: bunch of interger codes, don't know what to do with them\n",
        "\n",
        "**Victim_Age**: some absured values are there like 0\n",
        "\n",
        "**Victim_Sex**: 4 categories, some missing values\n",
        "\n",
        "**Victim_Discent**: 17 categories coded with alphabets(string) and some missing\n",
        "values.\n",
        "\n",
        "**Premise_code**: real numbers 217\n",
        "\n",
        "**Premsise_description**: string description\n",
        "\n",
        "**Weapon_used_code**: real number, 63% missing vlaues, imbalance\n",
        "\n",
        "**Weapon_description**: string, lot of missing values 63%\n",
        "\n",
        "**Status and Status_description**: categories of 5, one category is hightly dominating, imbalanced, highly correlated to each other.\n",
        "\n",
        "\n"
      ]
    },
    {
      "cell_type": "markdown",
      "metadata": {
        "id": "b4kOYa9Wh8SP"
      },
      "source": [
        "# Data preprocessing"
      ]
    },
    {
      "cell_type": "code",
      "execution_count": null,
      "metadata": {
        "colab": {
          "base_uri": "https://localhost:8080/",
          "height": 54
        },
        "id": "YUB5f9ucdoX-",
        "outputId": "23f8c1f3-67cb-4bfd-ba82-36c41cf73c5b"
      },
      "outputs": [
        {
          "output_type": "execute_result",
          "data": {
            "text/plain": [
              "'\\nthe problem is we have mixed type featues, we have categorical, numerical, date time and simple text type featues\\nfor which we going to need different imputation and encoding techniques.\\n\\n'"
            ],
            "application/vnd.google.colaboratory.intrinsic+json": {
              "type": "string"
            }
          },
          "metadata": {},
          "execution_count": 264
        }
      ],
      "source": [
        "# these are the features with missing values.......\n",
        "# Weapon_Used_Code         12665 (63% missing)\n",
        "# Weapon_Description       12665 (63% missing)\n",
        "# Modus_Operandi            2741 (no significance)\n",
        "# Victim_Sex                2624\n",
        "# Victim_Descent            2624\n",
        "# Cross_Street             16552 (82% missing)\n",
        "\n",
        "\n",
        "# column \"Victim_Age\" has outlier values like -1,-2 and 0\n",
        "\n",
        "'''\n",
        "the problem is we have mixed type featues, we have categorical, numerical, date time and simple text type featues\n",
        "for which we going to need different imputation and encoding techniques.\n",
        "\n",
        "'''\n",
        "\n"
      ]
    },
    {
      "cell_type": "code",
      "execution_count": null,
      "metadata": {
        "colab": {
          "base_uri": "https://localhost:8080/"
        },
        "id": "Qz9L6kNtwKT9",
        "outputId": "a63a2139-8133-4f1b-e318-c488c5f6293e"
      },
      "outputs": [
        {
          "output_type": "stream",
          "name": "stdout",
          "text": [
            "done\n"
          ]
        }
      ],
      "source": [
        "# imputing columns of training and test data\n",
        "\n",
        "from sklearn.impute import SimpleImputer\n",
        "from sklearn.impute import KNNImputer\n",
        "SI1= SimpleImputer(strategy='most_frequent')\n",
        "SI2= KNNImputer()\n",
        "train_data[['Victim_Sex', 'Victim_Descent', 'Premise_Description','Modus_Operandi']] = SI1.fit_transform(train_data[['Victim_Sex', 'Victim_Descent',\"Premise_Description\", \"Modus_Operandi\"]])\n",
        "train_data[ \"Weapon_Used_Code\"] = SI2.fit_transform(train_data[[ \"Weapon_Used_Code\"]])\n",
        "\n",
        "\n",
        "# applying similar transformation to test featurs\n",
        "\n",
        "test_data[['Victim_Sex', 'Victim_Descent',\"Premise_Description\",'Modus_Operandi']] = SI1.transform(test_data[['Victim_Sex', 'Victim_Descent',\"Premise_Description\", \"Modus_Operandi\"]])\n",
        "test_data[ \"Weapon_Used_Code\"] = SI2.transform(test_data[[\"Weapon_Used_Code\"]])\n",
        "print(\"done\")"
      ]
    },
    {
      "cell_type": "code",
      "source": [
        "train_data[\"Modus_Operandi\"].head()"
      ],
      "metadata": {
        "colab": {
          "base_uri": "https://localhost:8080/"
        },
        "id": "zjz4tu3te1FY",
        "outputId": "70b8586c-163f-463d-d9d7-0083ed17c2bd"
      },
      "execution_count": null,
      "outputs": [
        {
          "output_type": "execute_result",
          "data": {
            "text/plain": [
              "0                                       0385\n",
              "1    0906 0352 0371 0446 1822 0344 0416 0417\n",
              "2                                  0329 1202\n",
              "3                                  0329 1300\n",
              "4              0416 0945 1822 0400 0417 0344\n",
              "Name: Modus_Operandi, dtype: object"
            ]
          },
          "metadata": {},
          "execution_count": 266
        }
      ]
    },
    {
      "cell_type": "code",
      "source": [
        "train_data['code_count'] = train_data['Modus_Operandi'].apply(lambda x: len(str(x).split()))\n",
        "test_data['code_count'] = test_data['Modus_Operandi'].apply(lambda x: len(str(x).split()))"
      ],
      "metadata": {
        "id": "T2CYdv5PeyNC"
      },
      "execution_count": null,
      "outputs": []
    },
    {
      "cell_type": "code",
      "source": [
        "train_data[ \"code_count\"].head(15)"
      ],
      "metadata": {
        "colab": {
          "base_uri": "https://localhost:8080/"
        },
        "id": "8Lefw9XxfJ2L",
        "outputId": "16aa7df5-f253-4398-902e-8563ffb2f475"
      },
      "execution_count": null,
      "outputs": [
        {
          "output_type": "execute_result",
          "data": {
            "text/plain": [
              "0     1\n",
              "1     8\n",
              "2     2\n",
              "3     2\n",
              "4     6\n",
              "5     2\n",
              "6     1\n",
              "7     2\n",
              "8     1\n",
              "9     3\n",
              "10    5\n",
              "11    7\n",
              "12    1\n",
              "13    2\n",
              "14    5\n",
              "Name: code_count, dtype: int64"
            ]
          },
          "metadata": {},
          "execution_count": 268
        }
      ]
    },
    {
      "cell_type": "code",
      "source": [
        "print(train_data['Modus_Operandi'].isnull().sum())"
      ],
      "metadata": {
        "colab": {
          "base_uri": "https://localhost:8080/"
        },
        "id": "ApYEKO8qmoXq",
        "outputId": "f19d9eed-f906-429a-db30-022636cd6e69"
      },
      "execution_count": null,
      "outputs": [
        {
          "output_type": "stream",
          "name": "stdout",
          "text": [
            "0\n"
          ]
        }
      ]
    },
    {
      "cell_type": "code",
      "source": [
        "print(train_data['Modus_Operandi'].dtype)"
      ],
      "metadata": {
        "colab": {
          "base_uri": "https://localhost:8080/"
        },
        "id": "UvI-Bl-HmsoX",
        "outputId": "c10faa4c-8d27-46a7-876e-fa9290907324"
      },
      "execution_count": null,
      "outputs": [
        {
          "output_type": "stream",
          "name": "stdout",
          "text": [
            "object\n"
          ]
        }
      ]
    },
    {
      "cell_type": "code",
      "source": [
        "train_data[\"Modus_Operandi\"].head()"
      ],
      "metadata": {
        "colab": {
          "base_uri": "https://localhost:8080/"
        },
        "id": "b1AriGyInEyP",
        "outputId": "11c0c6ef-7f14-4b65-b3a1-933000091d1e"
      },
      "execution_count": null,
      "outputs": [
        {
          "output_type": "execute_result",
          "data": {
            "text/plain": [
              "0                                       0385\n",
              "1    0906 0352 0371 0446 1822 0344 0416 0417\n",
              "2                                  0329 1202\n",
              "3                                  0329 1300\n",
              "4              0416 0945 1822 0400 0417 0344\n",
              "Name: Modus_Operandi, dtype: object"
            ]
          },
          "metadata": {},
          "execution_count": 271
        }
      ]
    },
    {
      "cell_type": "code",
      "source": [
        "\n",
        "import pandas as pd\n",
        "\n",
        "train_data['Modus_Operandi'] = train_data['Modus_Operandi'].astype(str)\n",
        "\n",
        "# Calculate the frequency of each code across the entire column\n",
        "code_freq = train_data['Modus_Operandi'].apply(lambda x: x.split()).explode().value_counts()\n",
        "code_freq_dict = code_freq.to_dict()\n",
        "\n",
        "# Create a new column to store the Code Frequency Sum\n",
        "def calculate_code_freq_sum(codes):\n",
        "    return sum(code_freq_dict.get(code, 0) for code in codes.split())\n",
        "\n",
        "train_data['Code_Frequency_Sum'] = train_data['Modus_Operandi'].apply(calculate_code_freq_sum)\n",
        "\n",
        "test_data['Modus_Operandi'] = test_data['Modus_Operandi'].astype(str)\n",
        "test_data['Code_Frequency_Sum'] = test_data['Modus_Operandi'].apply(calculate_code_freq_sum)\n",
        "\n",
        "print(\"done\")\n"
      ],
      "metadata": {
        "colab": {
          "base_uri": "https://localhost:8080/"
        },
        "id": "MO7xH97LfBHw",
        "outputId": "194d0c24-ee1b-46f5-f412-0ef40e8848e0"
      },
      "execution_count": null,
      "outputs": [
        {
          "output_type": "stream",
          "name": "stdout",
          "text": [
            "done\n"
          ]
        }
      ]
    },
    {
      "cell_type": "code",
      "source": [
        "train_data['Code_Frequency_Sum'].head()"
      ],
      "metadata": {
        "colab": {
          "base_uri": "https://localhost:8080/"
        },
        "id": "0-8i2KkEh5oR",
        "outputId": "8107d5b5-10d6-4e80-ed45-88d08d742bb0"
      },
      "execution_count": null,
      "outputs": [
        {
          "output_type": "execute_result",
          "data": {
            "text/plain": [
              "0      352\n",
              "1    19179\n",
              "2     3852\n",
              "3     4865\n",
              "4    19241\n",
              "Name: Code_Frequency_Sum, dtype: int64"
            ]
          },
          "metadata": {},
          "execution_count": 273
        }
      ]
    },
    {
      "cell_type": "code",
      "source": [
        "train_data.drop(columns=['Modus_Operandi'], inplace=True)\n",
        "test_data.drop(columns=['Modus_Operandi'], inplace=True)\n",
        "\n",
        "print(\"done\")"
      ],
      "metadata": {
        "colab": {
          "base_uri": "https://localhost:8080/"
        },
        "id": "8b7BjxNbjQyI",
        "outputId": "bd218766-4ae6-47a0-b02e-d6baaeb17c27"
      },
      "execution_count": null,
      "outputs": [
        {
          "output_type": "stream",
          "name": "stdout",
          "text": [
            "done\n"
          ]
        }
      ]
    },
    {
      "cell_type": "code",
      "execution_count": null,
      "metadata": {
        "id": "e15And7yP1tg",
        "colab": {
          "base_uri": "https://localhost:8080/"
        },
        "outputId": "98805440-42f0-4e2d-9bb1-c798ce004117"
      },
      "outputs": [
        {
          "output_type": "stream",
          "name": "stdout",
          "text": [
            "done\n"
          ]
        }
      ],
      "source": [
        "# addressing outliers in column \"Victim_Age\"\n",
        "\n",
        "train_data[\"Victim_Age\"] = train_data[\"Victim_Age\"].replace([-1,-2,0], np.nan)\n",
        "test_data[\"Victim_Age\"] = test_data[\"Victim_Age\"].replace([-1,-2,0], np.nan)\n",
        "\n",
        "# values such as -1,-2 and 0 treating them in unknown values and imputing with median\n",
        "\n",
        "imp2 = SimpleImputer(strategy='median')\n",
        "train_data[\"Victim_Age\"] = imp2.fit_transform(train_data[[\"Victim_Age\"]])\n",
        "test_data[\"Victim_Age\"] = imp2.transform(test_data[[\"Victim_Age\"]])\n",
        "\n",
        "print(\"done\")"
      ]
    },
    {
      "cell_type": "code",
      "execution_count": null,
      "metadata": {
        "colab": {
          "base_uri": "https://localhost:8080/"
        },
        "id": "etXLGuSBSmvf",
        "outputId": "07beb542-db13-4c0c-e8d2-abce6997774c"
      },
      "outputs": [
        {
          "output_type": "stream",
          "name": "stdout",
          "text": [
            "done\n"
          ]
        }
      ],
      "source": [
        "# using this imputation strategy for those text features which has high number of missing values.\n",
        "\n",
        "train_data['Cross_Street'] = train_data['Cross_Street'].fillna('Unknown')\n",
        "# train_data['Modus_Operandi'] = train_data['Modus_Operandi'].fillna('Unknown')\n",
        "train_data['Weapon_Description'] = train_data['Weapon_Description'].fillna('Unknown')\n",
        "\n",
        "\n",
        "\n",
        "test_data['Cross_Street'] = test_data['Cross_Street'].fillna('Unknown')\n",
        "# test_data['Modus_Operandi'] = test_data['Modus_Operandi'].fillna('Unknown')\n",
        "test_data['Weapon_Description'] = test_data['Weapon_Description'].fillna('Unknown')\n",
        "\n",
        "\n",
        "\n",
        "\n",
        "\n",
        "print(\"done\")"
      ]
    },
    {
      "cell_type": "code",
      "execution_count": null,
      "metadata": {
        "colab": {
          "base_uri": "https://localhost:8080/"
        },
        "id": "pkl71mygdeXb",
        "outputId": "11043738-d301-4ce3-ddaa-7dd5947ceebd"
      },
      "outputs": [
        {
          "output_type": "stream",
          "name": "stdout",
          "text": [
            "done\n"
          ]
        }
      ],
      "source": [
        "# encoding text features\n",
        "\n",
        "from sklearn.preprocessing import LabelEncoder\n",
        "\n",
        "encoded_values = {}\n",
        "column_list = ['Cross_Street','Premise_Description','Weapon_Description' , 'Location' , 'Status', 'Status_Description' ]\n",
        "\n",
        "\n",
        "for col in column_list:\n",
        "    label_encoder = LabelEncoder()\n",
        "    train_data[col] = label_encoder.fit_transform(train_data[col])\n",
        "\n",
        "    # handle unseen labels in test data\n",
        "    test_data[col] = test_data[col].map(lambda x: 'Unknown' if x not in label_encoder.classes_ else x)\n",
        "    label_encoder.classes_ = np.append(label_encoder.classes_, 'Unknown')\n",
        "\n",
        "    # transforming test data\n",
        "    test_data[col] = label_encoder.transform(test_data[col])\n",
        "\n",
        "\n",
        "\n",
        "\n",
        "print(\"done\")"
      ]
    },
    {
      "cell_type": "code",
      "execution_count": null,
      "metadata": {
        "colab": {
          "base_uri": "https://localhost:8080/"
        },
        "collapsed": true,
        "id": "gsK2_7BElA0B",
        "outputId": "7305ac1d-e814-4a56-b462-0c5033c0f484"
      },
      "outputs": [
        {
          "output_type": "stream",
          "name": "stdout",
          "text": [
            "done\n"
          ]
        }
      ],
      "source": [
        "# Handling data time featues (train data)\n",
        "# Ensure there are no missing values in the relevant columns\n",
        "\n",
        "train_data = train_data.dropna(subset=['Date_Reported', 'Date_Occurred', 'Time_Occurred'])\n",
        "\n",
        "# Specify the correct datetime format\n",
        "date_format = \"%m/%d/%Y %I:%M:%S %p\"\n",
        "\n",
        "# Handling datetime features\n",
        "train_data['Date_Reported'] = pd.to_datetime(train_data['Date_Reported'], format=date_format)\n",
        "train_data['Date_Occurred'] = pd.to_datetime(train_data['Date_Occurred'], format=date_format)\n",
        "\n",
        "# Extracting date components\n",
        "train_data['Day_Reported'] = train_data['Date_Reported'].dt.day\n",
        "train_data['Month_Reported'] = train_data['Date_Reported'].dt.month\n",
        "train_data['Year_Reported'] = train_data['Date_Reported'].dt.year\n",
        "\n",
        "train_data['Day_Occurred'] = train_data['Date_Occurred'].dt.day\n",
        "train_data['Month_Occurred'] = train_data['Date_Occurred'].dt.month\n",
        "train_data['Year_Occurred'] = train_data['Date_Occurred'].dt.year\n",
        "\n",
        "# Extracting time components\n",
        "train_data['Hour_Occurred'] = (train_data['Time_Occurred'] // 100).astype(int)  # Extract hour\n",
        "train_data['Minute_Occurred'] = train_data['Time_Occurred'] % 100  # Extract minute\n",
        "\n",
        "train_data.drop(columns=['Date_Reported', 'Date_Occurred', 'Time_Occurred'], inplace=True)\n",
        "\n",
        "print(\"done\")"
      ]
    },
    {
      "cell_type": "code",
      "execution_count": null,
      "metadata": {
        "colab": {
          "base_uri": "https://localhost:8080/"
        },
        "id": "Tf6k7Jc2pdtO",
        "outputId": "e3bb81b0-9732-4dac-b1cf-9ae28042acc6"
      },
      "outputs": [
        {
          "output_type": "stream",
          "name": "stdout",
          "text": [
            "done\n"
          ]
        }
      ],
      "source": [
        "#  Handling data time featues ( test data)\n",
        "# Specify the correct datetime format\n",
        "date_format = \"%m/%d/%Y %I:%M:%S %p\"\n",
        "\n",
        "# Handling datetime features\n",
        "\n",
        "\n",
        "test_data['Date_Reported'] = pd.to_datetime(test_data['Date_Reported'], format = date_format)\n",
        "test_data['Date_Occurred'] = pd.to_datetime(test_data['Date_Occurred'], format = date_format)\n",
        "\n",
        "\n",
        "test_data['Day_Reported'] = test_data['Date_Reported'].dt.day\n",
        "test_data['Month_Reported'] = test_data['Date_Reported'].dt.month\n",
        "test_data['Year_Reported'] = test_data['Date_Reported'].dt.year\n",
        "\n",
        "test_data['Day_Occurred'] = test_data['Date_Occurred'].dt.day\n",
        "test_data['Month_Occurred'] = test_data['Date_Occurred'].dt.month\n",
        "test_data['Year_Occurred'] = test_data['Date_Occurred'].dt.year\n",
        "\n",
        "\n",
        "test_data['Hour_Occurred'] = (test_data['Time_Occurred'] // 100).astype(int)  # Extract hour (integer division by 100)\n",
        "test_data['Minute_Occurred'] = test_data['Time_Occurred'] % 100  # Extract minute (modulo 100)\n",
        "\n",
        "\n",
        "test_data.drop(columns=['Date_Reported', 'Date_Occurred', 'Time_Occurred'], inplace=True)\n",
        "print(\"done\")"
      ]
    },
    {
      "cell_type": "code",
      "execution_count": null,
      "metadata": {
        "colab": {
          "base_uri": "https://localhost:8080/"
        },
        "id": "MKGpnxe3tuqz",
        "outputId": "ac17a8da-7a7f-45f2-afe1-e45a21287597"
      },
      "outputs": [
        {
          "output_type": "stream",
          "name": "stdout",
          "text": [
            "done\n"
          ]
        }
      ],
      "source": [
        "from sklearn.preprocessing import OneHotEncoder\n",
        "import pandas as pd\n",
        "\n",
        "# Define the categorical features\n",
        "categorical_features = ['Victim_Sex', 'Victim_Descent', 'Area_Name']\n",
        "\n",
        "# Initialize OneHotEncoder\n",
        "encoder = OneHotEncoder(handle_unknown='ignore', sparse_output =False)\n",
        "\n",
        "# Fit and transform the training data\n",
        "encoded_train_data = encoder.fit_transform(train_data[categorical_features])\n",
        "\n",
        "# Convert the encoded features to a DataFrame\n",
        "encoded_train_df = pd.DataFrame(encoded_train_data, columns=encoder.get_feature_names_out(categorical_features))\n",
        "\n",
        "# Drop the original categorical columns and concatenate the encoded features\n",
        "train_data = train_data.drop(columns=categorical_features).reset_index(drop=True)\n",
        "train_data = pd.concat([train_data, encoded_train_df], axis=1)\n",
        "\n",
        "\n",
        "\n",
        "\n",
        "# Transform the test data using the same encoder\n",
        "encoded_test_data = encoder.transform(test_data[categorical_features])\n",
        "\n",
        "# Convert the encoded features to a DataFrame\n",
        "encoded_test_df = pd.DataFrame(encoded_test_data, columns=encoder.get_feature_names_out(categorical_features))\n",
        "\n",
        "# Drop the original categorical columns and concatenate the encoded features\n",
        "test_data = test_data.drop(columns=categorical_features).reset_index(drop=True)\n",
        "test_data = pd.concat([test_data, encoded_test_df], axis=1)\n",
        "\n",
        "print(\"done\")"
      ]
    },
    {
      "cell_type": "code",
      "execution_count": null,
      "metadata": {
        "colab": {
          "base_uri": "https://localhost:8080/",
          "height": 273
        },
        "id": "w_WgrgxzY0fV",
        "outputId": "ff9adddd-ed84-4621-8498-93cc8062c08f"
      },
      "outputs": [
        {
          "output_type": "execute_result",
          "data": {
            "text/plain": [
              "   Location  Cross_Street  Latitude  Longitude  Area_ID  \\\n",
              "0      7238          1325   34.1522  -118.3910     15.0   \n",
              "1      7300           167   34.0028  -118.2391     13.0   \n",
              "2      8525          1325   34.0111  -118.2653     13.0   \n",
              "3      2879          1325   34.2953  -118.4590     19.0   \n",
              "4      9584          1325   33.9787  -118.2918     12.0   \n",
              "\n",
              "   Reporting_District_no  Part 1-2  Victim_Age  Premise_Code  \\\n",
              "0                 1563.0       1.0        75.0         101.0   \n",
              "1                 1367.0       1.0        41.0         216.0   \n",
              "2                 1343.0       2.0        67.0         501.0   \n",
              "3                 1924.0       1.0        61.0         101.0   \n",
              "4                 1245.0       1.0        37.0         401.0   \n",
              "\n",
              "   Premise_Description  ...  Area_Name_Olympic  Area_Name_Pacific  \\\n",
              "0                  186  ...                0.0                0.0   \n",
              "1                  188  ...                0.0                0.0   \n",
              "2                  177  ...                0.0                0.0   \n",
              "3                  186  ...                0.0                0.0   \n",
              "4                   88  ...                0.0                0.0   \n",
              "\n",
              "   Area_Name_Rampart  Area_Name_Southeast Area_Name_Southwest  \\\n",
              "0                0.0                  0.0                 0.0   \n",
              "1                0.0                  0.0                 0.0   \n",
              "2                0.0                  0.0                 0.0   \n",
              "3                0.0                  0.0                 0.0   \n",
              "4                0.0                  0.0                 0.0   \n",
              "\n",
              "   Area_Name_Topanga  Area_Name_Van Nuys  Area_Name_West LA  \\\n",
              "0                0.0                 0.0                0.0   \n",
              "1                0.0                 0.0                0.0   \n",
              "2                0.0                 0.0                0.0   \n",
              "3                0.0                 0.0                0.0   \n",
              "4                0.0                 0.0                0.0   \n",
              "\n",
              "   Area_Name_West Valley  Area_Name_Wilshire  \n",
              "0                    0.0                 0.0  \n",
              "1                    0.0                 0.0  \n",
              "2                    0.0                 0.0  \n",
              "3                    0.0                 0.0  \n",
              "4                    0.0                 0.0  \n",
              "\n",
              "[5 rows x 67 columns]"
            ],
            "text/html": [
              "\n",
              "  <div id=\"df-4e8b654a-75cf-4fe4-9b74-e901d9036c0d\" class=\"colab-df-container\">\n",
              "    <div>\n",
              "<style scoped>\n",
              "    .dataframe tbody tr th:only-of-type {\n",
              "        vertical-align: middle;\n",
              "    }\n",
              "\n",
              "    .dataframe tbody tr th {\n",
              "        vertical-align: top;\n",
              "    }\n",
              "\n",
              "    .dataframe thead th {\n",
              "        text-align: right;\n",
              "    }\n",
              "</style>\n",
              "<table border=\"1\" class=\"dataframe\">\n",
              "  <thead>\n",
              "    <tr style=\"text-align: right;\">\n",
              "      <th></th>\n",
              "      <th>Location</th>\n",
              "      <th>Cross_Street</th>\n",
              "      <th>Latitude</th>\n",
              "      <th>Longitude</th>\n",
              "      <th>Area_ID</th>\n",
              "      <th>Reporting_District_no</th>\n",
              "      <th>Part 1-2</th>\n",
              "      <th>Victim_Age</th>\n",
              "      <th>Premise_Code</th>\n",
              "      <th>Premise_Description</th>\n",
              "      <th>...</th>\n",
              "      <th>Area_Name_Olympic</th>\n",
              "      <th>Area_Name_Pacific</th>\n",
              "      <th>Area_Name_Rampart</th>\n",
              "      <th>Area_Name_Southeast</th>\n",
              "      <th>Area_Name_Southwest</th>\n",
              "      <th>Area_Name_Topanga</th>\n",
              "      <th>Area_Name_Van Nuys</th>\n",
              "      <th>Area_Name_West LA</th>\n",
              "      <th>Area_Name_West Valley</th>\n",
              "      <th>Area_Name_Wilshire</th>\n",
              "    </tr>\n",
              "  </thead>\n",
              "  <tbody>\n",
              "    <tr>\n",
              "      <th>0</th>\n",
              "      <td>7238</td>\n",
              "      <td>1325</td>\n",
              "      <td>34.1522</td>\n",
              "      <td>-118.3910</td>\n",
              "      <td>15.0</td>\n",
              "      <td>1563.0</td>\n",
              "      <td>1.0</td>\n",
              "      <td>75.0</td>\n",
              "      <td>101.0</td>\n",
              "      <td>186</td>\n",
              "      <td>...</td>\n",
              "      <td>0.0</td>\n",
              "      <td>0.0</td>\n",
              "      <td>0.0</td>\n",
              "      <td>0.0</td>\n",
              "      <td>0.0</td>\n",
              "      <td>0.0</td>\n",
              "      <td>0.0</td>\n",
              "      <td>0.0</td>\n",
              "      <td>0.0</td>\n",
              "      <td>0.0</td>\n",
              "    </tr>\n",
              "    <tr>\n",
              "      <th>1</th>\n",
              "      <td>7300</td>\n",
              "      <td>167</td>\n",
              "      <td>34.0028</td>\n",
              "      <td>-118.2391</td>\n",
              "      <td>13.0</td>\n",
              "      <td>1367.0</td>\n",
              "      <td>1.0</td>\n",
              "      <td>41.0</td>\n",
              "      <td>216.0</td>\n",
              "      <td>188</td>\n",
              "      <td>...</td>\n",
              "      <td>0.0</td>\n",
              "      <td>0.0</td>\n",
              "      <td>0.0</td>\n",
              "      <td>0.0</td>\n",
              "      <td>0.0</td>\n",
              "      <td>0.0</td>\n",
              "      <td>0.0</td>\n",
              "      <td>0.0</td>\n",
              "      <td>0.0</td>\n",
              "      <td>0.0</td>\n",
              "    </tr>\n",
              "    <tr>\n",
              "      <th>2</th>\n",
              "      <td>8525</td>\n",
              "      <td>1325</td>\n",
              "      <td>34.0111</td>\n",
              "      <td>-118.2653</td>\n",
              "      <td>13.0</td>\n",
              "      <td>1343.0</td>\n",
              "      <td>2.0</td>\n",
              "      <td>67.0</td>\n",
              "      <td>501.0</td>\n",
              "      <td>177</td>\n",
              "      <td>...</td>\n",
              "      <td>0.0</td>\n",
              "      <td>0.0</td>\n",
              "      <td>0.0</td>\n",
              "      <td>0.0</td>\n",
              "      <td>0.0</td>\n",
              "      <td>0.0</td>\n",
              "      <td>0.0</td>\n",
              "      <td>0.0</td>\n",
              "      <td>0.0</td>\n",
              "      <td>0.0</td>\n",
              "    </tr>\n",
              "    <tr>\n",
              "      <th>3</th>\n",
              "      <td>2879</td>\n",
              "      <td>1325</td>\n",
              "      <td>34.2953</td>\n",
              "      <td>-118.4590</td>\n",
              "      <td>19.0</td>\n",
              "      <td>1924.0</td>\n",
              "      <td>1.0</td>\n",
              "      <td>61.0</td>\n",
              "      <td>101.0</td>\n",
              "      <td>186</td>\n",
              "      <td>...</td>\n",
              "      <td>0.0</td>\n",
              "      <td>0.0</td>\n",
              "      <td>0.0</td>\n",
              "      <td>0.0</td>\n",
              "      <td>0.0</td>\n",
              "      <td>0.0</td>\n",
              "      <td>0.0</td>\n",
              "      <td>0.0</td>\n",
              "      <td>0.0</td>\n",
              "      <td>0.0</td>\n",
              "    </tr>\n",
              "    <tr>\n",
              "      <th>4</th>\n",
              "      <td>9584</td>\n",
              "      <td>1325</td>\n",
              "      <td>33.9787</td>\n",
              "      <td>-118.2918</td>\n",
              "      <td>12.0</td>\n",
              "      <td>1245.0</td>\n",
              "      <td>1.0</td>\n",
              "      <td>37.0</td>\n",
              "      <td>401.0</td>\n",
              "      <td>88</td>\n",
              "      <td>...</td>\n",
              "      <td>0.0</td>\n",
              "      <td>0.0</td>\n",
              "      <td>0.0</td>\n",
              "      <td>0.0</td>\n",
              "      <td>0.0</td>\n",
              "      <td>0.0</td>\n",
              "      <td>0.0</td>\n",
              "      <td>0.0</td>\n",
              "      <td>0.0</td>\n",
              "      <td>0.0</td>\n",
              "    </tr>\n",
              "  </tbody>\n",
              "</table>\n",
              "<p>5 rows × 67 columns</p>\n",
              "</div>\n",
              "    <div class=\"colab-df-buttons\">\n",
              "\n",
              "  <div class=\"colab-df-container\">\n",
              "    <button class=\"colab-df-convert\" onclick=\"convertToInteractive('df-4e8b654a-75cf-4fe4-9b74-e901d9036c0d')\"\n",
              "            title=\"Convert this dataframe to an interactive table.\"\n",
              "            style=\"display:none;\">\n",
              "\n",
              "  <svg xmlns=\"http://www.w3.org/2000/svg\" height=\"24px\" viewBox=\"0 -960 960 960\">\n",
              "    <path d=\"M120-120v-720h720v720H120Zm60-500h600v-160H180v160Zm220 220h160v-160H400v160Zm0 220h160v-160H400v160ZM180-400h160v-160H180v160Zm440 0h160v-160H620v160ZM180-180h160v-160H180v160Zm440 0h160v-160H620v160Z\"/>\n",
              "  </svg>\n",
              "    </button>\n",
              "\n",
              "  <style>\n",
              "    .colab-df-container {\n",
              "      display:flex;\n",
              "      gap: 12px;\n",
              "    }\n",
              "\n",
              "    .colab-df-convert {\n",
              "      background-color: #E8F0FE;\n",
              "      border: none;\n",
              "      border-radius: 50%;\n",
              "      cursor: pointer;\n",
              "      display: none;\n",
              "      fill: #1967D2;\n",
              "      height: 32px;\n",
              "      padding: 0 0 0 0;\n",
              "      width: 32px;\n",
              "    }\n",
              "\n",
              "    .colab-df-convert:hover {\n",
              "      background-color: #E2EBFA;\n",
              "      box-shadow: 0px 1px 2px rgba(60, 64, 67, 0.3), 0px 1px 3px 1px rgba(60, 64, 67, 0.15);\n",
              "      fill: #174EA6;\n",
              "    }\n",
              "\n",
              "    .colab-df-buttons div {\n",
              "      margin-bottom: 4px;\n",
              "    }\n",
              "\n",
              "    [theme=dark] .colab-df-convert {\n",
              "      background-color: #3B4455;\n",
              "      fill: #D2E3FC;\n",
              "    }\n",
              "\n",
              "    [theme=dark] .colab-df-convert:hover {\n",
              "      background-color: #434B5C;\n",
              "      box-shadow: 0px 1px 3px 1px rgba(0, 0, 0, 0.15);\n",
              "      filter: drop-shadow(0px 1px 2px rgba(0, 0, 0, 0.3));\n",
              "      fill: #FFFFFF;\n",
              "    }\n",
              "  </style>\n",
              "\n",
              "    <script>\n",
              "      const buttonEl =\n",
              "        document.querySelector('#df-4e8b654a-75cf-4fe4-9b74-e901d9036c0d button.colab-df-convert');\n",
              "      buttonEl.style.display =\n",
              "        google.colab.kernel.accessAllowed ? 'block' : 'none';\n",
              "\n",
              "      async function convertToInteractive(key) {\n",
              "        const element = document.querySelector('#df-4e8b654a-75cf-4fe4-9b74-e901d9036c0d');\n",
              "        const dataTable =\n",
              "          await google.colab.kernel.invokeFunction('convertToInteractive',\n",
              "                                                    [key], {});\n",
              "        if (!dataTable) return;\n",
              "\n",
              "        const docLinkHtml = 'Like what you see? Visit the ' +\n",
              "          '<a target=\"_blank\" href=https://colab.research.google.com/notebooks/data_table.ipynb>data table notebook</a>'\n",
              "          + ' to learn more about interactive tables.';\n",
              "        element.innerHTML = '';\n",
              "        dataTable['output_type'] = 'display_data';\n",
              "        await google.colab.output.renderOutput(dataTable, element);\n",
              "        const docLink = document.createElement('div');\n",
              "        docLink.innerHTML = docLinkHtml;\n",
              "        element.appendChild(docLink);\n",
              "      }\n",
              "    </script>\n",
              "  </div>\n",
              "\n",
              "\n",
              "<div id=\"df-b19bd05c-714a-457b-9f99-060fa87c91ff\">\n",
              "  <button class=\"colab-df-quickchart\" onclick=\"quickchart('df-b19bd05c-714a-457b-9f99-060fa87c91ff')\"\n",
              "            title=\"Suggest charts\"\n",
              "            style=\"display:none;\">\n",
              "\n",
              "<svg xmlns=\"http://www.w3.org/2000/svg\" height=\"24px\"viewBox=\"0 0 24 24\"\n",
              "     width=\"24px\">\n",
              "    <g>\n",
              "        <path d=\"M19 3H5c-1.1 0-2 .9-2 2v14c0 1.1.9 2 2 2h14c1.1 0 2-.9 2-2V5c0-1.1-.9-2-2-2zM9 17H7v-7h2v7zm4 0h-2V7h2v10zm4 0h-2v-4h2v4z\"/>\n",
              "    </g>\n",
              "</svg>\n",
              "  </button>\n",
              "\n",
              "<style>\n",
              "  .colab-df-quickchart {\n",
              "      --bg-color: #E8F0FE;\n",
              "      --fill-color: #1967D2;\n",
              "      --hover-bg-color: #E2EBFA;\n",
              "      --hover-fill-color: #174EA6;\n",
              "      --disabled-fill-color: #AAA;\n",
              "      --disabled-bg-color: #DDD;\n",
              "  }\n",
              "\n",
              "  [theme=dark] .colab-df-quickchart {\n",
              "      --bg-color: #3B4455;\n",
              "      --fill-color: #D2E3FC;\n",
              "      --hover-bg-color: #434B5C;\n",
              "      --hover-fill-color: #FFFFFF;\n",
              "      --disabled-bg-color: #3B4455;\n",
              "      --disabled-fill-color: #666;\n",
              "  }\n",
              "\n",
              "  .colab-df-quickchart {\n",
              "    background-color: var(--bg-color);\n",
              "    border: none;\n",
              "    border-radius: 50%;\n",
              "    cursor: pointer;\n",
              "    display: none;\n",
              "    fill: var(--fill-color);\n",
              "    height: 32px;\n",
              "    padding: 0;\n",
              "    width: 32px;\n",
              "  }\n",
              "\n",
              "  .colab-df-quickchart:hover {\n",
              "    background-color: var(--hover-bg-color);\n",
              "    box-shadow: 0 1px 2px rgba(60, 64, 67, 0.3), 0 1px 3px 1px rgba(60, 64, 67, 0.15);\n",
              "    fill: var(--button-hover-fill-color);\n",
              "  }\n",
              "\n",
              "  .colab-df-quickchart-complete:disabled,\n",
              "  .colab-df-quickchart-complete:disabled:hover {\n",
              "    background-color: var(--disabled-bg-color);\n",
              "    fill: var(--disabled-fill-color);\n",
              "    box-shadow: none;\n",
              "  }\n",
              "\n",
              "  .colab-df-spinner {\n",
              "    border: 2px solid var(--fill-color);\n",
              "    border-color: transparent;\n",
              "    border-bottom-color: var(--fill-color);\n",
              "    animation:\n",
              "      spin 1s steps(1) infinite;\n",
              "  }\n",
              "\n",
              "  @keyframes spin {\n",
              "    0% {\n",
              "      border-color: transparent;\n",
              "      border-bottom-color: var(--fill-color);\n",
              "      border-left-color: var(--fill-color);\n",
              "    }\n",
              "    20% {\n",
              "      border-color: transparent;\n",
              "      border-left-color: var(--fill-color);\n",
              "      border-top-color: var(--fill-color);\n",
              "    }\n",
              "    30% {\n",
              "      border-color: transparent;\n",
              "      border-left-color: var(--fill-color);\n",
              "      border-top-color: var(--fill-color);\n",
              "      border-right-color: var(--fill-color);\n",
              "    }\n",
              "    40% {\n",
              "      border-color: transparent;\n",
              "      border-right-color: var(--fill-color);\n",
              "      border-top-color: var(--fill-color);\n",
              "    }\n",
              "    60% {\n",
              "      border-color: transparent;\n",
              "      border-right-color: var(--fill-color);\n",
              "    }\n",
              "    80% {\n",
              "      border-color: transparent;\n",
              "      border-right-color: var(--fill-color);\n",
              "      border-bottom-color: var(--fill-color);\n",
              "    }\n",
              "    90% {\n",
              "      border-color: transparent;\n",
              "      border-bottom-color: var(--fill-color);\n",
              "    }\n",
              "  }\n",
              "</style>\n",
              "\n",
              "  <script>\n",
              "    async function quickchart(key) {\n",
              "      const quickchartButtonEl =\n",
              "        document.querySelector('#' + key + ' button');\n",
              "      quickchartButtonEl.disabled = true;  // To prevent multiple clicks.\n",
              "      quickchartButtonEl.classList.add('colab-df-spinner');\n",
              "      try {\n",
              "        const charts = await google.colab.kernel.invokeFunction(\n",
              "            'suggestCharts', [key], {});\n",
              "      } catch (error) {\n",
              "        console.error('Error during call to suggestCharts:', error);\n",
              "      }\n",
              "      quickchartButtonEl.classList.remove('colab-df-spinner');\n",
              "      quickchartButtonEl.classList.add('colab-df-quickchart-complete');\n",
              "    }\n",
              "    (() => {\n",
              "      let quickchartButtonEl =\n",
              "        document.querySelector('#df-b19bd05c-714a-457b-9f99-060fa87c91ff button');\n",
              "      quickchartButtonEl.style.display =\n",
              "        google.colab.kernel.accessAllowed ? 'block' : 'none';\n",
              "    })();\n",
              "  </script>\n",
              "</div>\n",
              "\n",
              "    </div>\n",
              "  </div>\n"
            ],
            "application/vnd.google.colaboratory.intrinsic+json": {
              "type": "dataframe",
              "variable_name": "train_data"
            }
          },
          "metadata": {},
          "execution_count": 281
        }
      ],
      "source": [
        "train_data.head()"
      ]
    },
    {
      "cell_type": "code",
      "execution_count": null,
      "metadata": {
        "colab": {
          "base_uri": "https://localhost:8080/"
        },
        "id": "7KQDZE1MLFm0",
        "outputId": "778e8142-7eea-4df5-adfe-8219552fb508"
      },
      "outputs": [
        {
          "output_type": "execute_result",
          "data": {
            "text/plain": [
              "Index(['Location', 'Cross_Street', 'Latitude', 'Longitude', 'Area_ID',\n",
              "       'Reporting_District_no', 'Part 1-2', 'Victim_Age', 'Premise_Code',\n",
              "       'Premise_Description', 'Weapon_Used_Code', 'Weapon_Description',\n",
              "       'Status', 'Status_Description', 'Crime_Category', 'code_count',\n",
              "       'Code_Frequency_Sum', 'Day_Reported', 'Month_Reported', 'Year_Reported',\n",
              "       'Day_Occurred', 'Month_Occurred', 'Year_Occurred', 'Hour_Occurred',\n",
              "       'Minute_Occurred', 'Victim_Sex_F', 'Victim_Sex_H', 'Victim_Sex_M',\n",
              "       'Victim_Sex_X', 'Victim_Descent_A', 'Victim_Descent_B',\n",
              "       'Victim_Descent_C', 'Victim_Descent_D', 'Victim_Descent_F',\n",
              "       'Victim_Descent_G', 'Victim_Descent_H', 'Victim_Descent_I',\n",
              "       'Victim_Descent_J', 'Victim_Descent_K', 'Victim_Descent_O',\n",
              "       'Victim_Descent_P', 'Victim_Descent_U', 'Victim_Descent_V',\n",
              "       'Victim_Descent_W', 'Victim_Descent_X', 'Victim_Descent_Z',\n",
              "       'Area_Name_77th Street', 'Area_Name_Central', 'Area_Name_Devonshire',\n",
              "       'Area_Name_Foothill', 'Area_Name_Harbor', 'Area_Name_Hollenbeck',\n",
              "       'Area_Name_Hollywood', 'Area_Name_Mission', 'Area_Name_N Hollywood',\n",
              "       'Area_Name_Newton', 'Area_Name_Northeast', 'Area_Name_Olympic',\n",
              "       'Area_Name_Pacific', 'Area_Name_Rampart', 'Area_Name_Southeast',\n",
              "       'Area_Name_Southwest', 'Area_Name_Topanga', 'Area_Name_Van Nuys',\n",
              "       'Area_Name_West LA', 'Area_Name_West Valley', 'Area_Name_Wilshire'],\n",
              "      dtype='object')"
            ]
          },
          "metadata": {},
          "execution_count": 282
        }
      ],
      "source": [
        "train_data.columns"
      ]
    },
    {
      "cell_type": "code",
      "source": [
        "train_data.head()"
      ],
      "metadata": {
        "colab": {
          "base_uri": "https://localhost:8080/",
          "height": 273
        },
        "id": "Ezl7zRukitoY",
        "outputId": "961aa418-3fcc-4752-c864-a0ee3d4dd125"
      },
      "execution_count": null,
      "outputs": [
        {
          "output_type": "execute_result",
          "data": {
            "text/plain": [
              "   Location  Cross_Street  Latitude  Longitude  Area_ID  \\\n",
              "0      7238          1325   34.1522  -118.3910     15.0   \n",
              "1      7300           167   34.0028  -118.2391     13.0   \n",
              "2      8525          1325   34.0111  -118.2653     13.0   \n",
              "3      2879          1325   34.2953  -118.4590     19.0   \n",
              "4      9584          1325   33.9787  -118.2918     12.0   \n",
              "\n",
              "   Reporting_District_no  Part 1-2  Victim_Age  Premise_Code  \\\n",
              "0                 1563.0       1.0        75.0         101.0   \n",
              "1                 1367.0       1.0        41.0         216.0   \n",
              "2                 1343.0       2.0        67.0         501.0   \n",
              "3                 1924.0       1.0        61.0         101.0   \n",
              "4                 1245.0       1.0        37.0         401.0   \n",
              "\n",
              "   Premise_Description  ...  Area_Name_Olympic  Area_Name_Pacific  \\\n",
              "0                  186  ...                0.0                0.0   \n",
              "1                  188  ...                0.0                0.0   \n",
              "2                  177  ...                0.0                0.0   \n",
              "3                  186  ...                0.0                0.0   \n",
              "4                   88  ...                0.0                0.0   \n",
              "\n",
              "   Area_Name_Rampart  Area_Name_Southeast Area_Name_Southwest  \\\n",
              "0                0.0                  0.0                 0.0   \n",
              "1                0.0                  0.0                 0.0   \n",
              "2                0.0                  0.0                 0.0   \n",
              "3                0.0                  0.0                 0.0   \n",
              "4                0.0                  0.0                 0.0   \n",
              "\n",
              "   Area_Name_Topanga  Area_Name_Van Nuys  Area_Name_West LA  \\\n",
              "0                0.0                 0.0                0.0   \n",
              "1                0.0                 0.0                0.0   \n",
              "2                0.0                 0.0                0.0   \n",
              "3                0.0                 0.0                0.0   \n",
              "4                0.0                 0.0                0.0   \n",
              "\n",
              "   Area_Name_West Valley  Area_Name_Wilshire  \n",
              "0                    0.0                 0.0  \n",
              "1                    0.0                 0.0  \n",
              "2                    0.0                 0.0  \n",
              "3                    0.0                 0.0  \n",
              "4                    0.0                 0.0  \n",
              "\n",
              "[5 rows x 67 columns]"
            ],
            "text/html": [
              "\n",
              "  <div id=\"df-7495cd24-77c3-425f-a60e-2e3dabc2e3c5\" class=\"colab-df-container\">\n",
              "    <div>\n",
              "<style scoped>\n",
              "    .dataframe tbody tr th:only-of-type {\n",
              "        vertical-align: middle;\n",
              "    }\n",
              "\n",
              "    .dataframe tbody tr th {\n",
              "        vertical-align: top;\n",
              "    }\n",
              "\n",
              "    .dataframe thead th {\n",
              "        text-align: right;\n",
              "    }\n",
              "</style>\n",
              "<table border=\"1\" class=\"dataframe\">\n",
              "  <thead>\n",
              "    <tr style=\"text-align: right;\">\n",
              "      <th></th>\n",
              "      <th>Location</th>\n",
              "      <th>Cross_Street</th>\n",
              "      <th>Latitude</th>\n",
              "      <th>Longitude</th>\n",
              "      <th>Area_ID</th>\n",
              "      <th>Reporting_District_no</th>\n",
              "      <th>Part 1-2</th>\n",
              "      <th>Victim_Age</th>\n",
              "      <th>Premise_Code</th>\n",
              "      <th>Premise_Description</th>\n",
              "      <th>...</th>\n",
              "      <th>Area_Name_Olympic</th>\n",
              "      <th>Area_Name_Pacific</th>\n",
              "      <th>Area_Name_Rampart</th>\n",
              "      <th>Area_Name_Southeast</th>\n",
              "      <th>Area_Name_Southwest</th>\n",
              "      <th>Area_Name_Topanga</th>\n",
              "      <th>Area_Name_Van Nuys</th>\n",
              "      <th>Area_Name_West LA</th>\n",
              "      <th>Area_Name_West Valley</th>\n",
              "      <th>Area_Name_Wilshire</th>\n",
              "    </tr>\n",
              "  </thead>\n",
              "  <tbody>\n",
              "    <tr>\n",
              "      <th>0</th>\n",
              "      <td>7238</td>\n",
              "      <td>1325</td>\n",
              "      <td>34.1522</td>\n",
              "      <td>-118.3910</td>\n",
              "      <td>15.0</td>\n",
              "      <td>1563.0</td>\n",
              "      <td>1.0</td>\n",
              "      <td>75.0</td>\n",
              "      <td>101.0</td>\n",
              "      <td>186</td>\n",
              "      <td>...</td>\n",
              "      <td>0.0</td>\n",
              "      <td>0.0</td>\n",
              "      <td>0.0</td>\n",
              "      <td>0.0</td>\n",
              "      <td>0.0</td>\n",
              "      <td>0.0</td>\n",
              "      <td>0.0</td>\n",
              "      <td>0.0</td>\n",
              "      <td>0.0</td>\n",
              "      <td>0.0</td>\n",
              "    </tr>\n",
              "    <tr>\n",
              "      <th>1</th>\n",
              "      <td>7300</td>\n",
              "      <td>167</td>\n",
              "      <td>34.0028</td>\n",
              "      <td>-118.2391</td>\n",
              "      <td>13.0</td>\n",
              "      <td>1367.0</td>\n",
              "      <td>1.0</td>\n",
              "      <td>41.0</td>\n",
              "      <td>216.0</td>\n",
              "      <td>188</td>\n",
              "      <td>...</td>\n",
              "      <td>0.0</td>\n",
              "      <td>0.0</td>\n",
              "      <td>0.0</td>\n",
              "      <td>0.0</td>\n",
              "      <td>0.0</td>\n",
              "      <td>0.0</td>\n",
              "      <td>0.0</td>\n",
              "      <td>0.0</td>\n",
              "      <td>0.0</td>\n",
              "      <td>0.0</td>\n",
              "    </tr>\n",
              "    <tr>\n",
              "      <th>2</th>\n",
              "      <td>8525</td>\n",
              "      <td>1325</td>\n",
              "      <td>34.0111</td>\n",
              "      <td>-118.2653</td>\n",
              "      <td>13.0</td>\n",
              "      <td>1343.0</td>\n",
              "      <td>2.0</td>\n",
              "      <td>67.0</td>\n",
              "      <td>501.0</td>\n",
              "      <td>177</td>\n",
              "      <td>...</td>\n",
              "      <td>0.0</td>\n",
              "      <td>0.0</td>\n",
              "      <td>0.0</td>\n",
              "      <td>0.0</td>\n",
              "      <td>0.0</td>\n",
              "      <td>0.0</td>\n",
              "      <td>0.0</td>\n",
              "      <td>0.0</td>\n",
              "      <td>0.0</td>\n",
              "      <td>0.0</td>\n",
              "    </tr>\n",
              "    <tr>\n",
              "      <th>3</th>\n",
              "      <td>2879</td>\n",
              "      <td>1325</td>\n",
              "      <td>34.2953</td>\n",
              "      <td>-118.4590</td>\n",
              "      <td>19.0</td>\n",
              "      <td>1924.0</td>\n",
              "      <td>1.0</td>\n",
              "      <td>61.0</td>\n",
              "      <td>101.0</td>\n",
              "      <td>186</td>\n",
              "      <td>...</td>\n",
              "      <td>0.0</td>\n",
              "      <td>0.0</td>\n",
              "      <td>0.0</td>\n",
              "      <td>0.0</td>\n",
              "      <td>0.0</td>\n",
              "      <td>0.0</td>\n",
              "      <td>0.0</td>\n",
              "      <td>0.0</td>\n",
              "      <td>0.0</td>\n",
              "      <td>0.0</td>\n",
              "    </tr>\n",
              "    <tr>\n",
              "      <th>4</th>\n",
              "      <td>9584</td>\n",
              "      <td>1325</td>\n",
              "      <td>33.9787</td>\n",
              "      <td>-118.2918</td>\n",
              "      <td>12.0</td>\n",
              "      <td>1245.0</td>\n",
              "      <td>1.0</td>\n",
              "      <td>37.0</td>\n",
              "      <td>401.0</td>\n",
              "      <td>88</td>\n",
              "      <td>...</td>\n",
              "      <td>0.0</td>\n",
              "      <td>0.0</td>\n",
              "      <td>0.0</td>\n",
              "      <td>0.0</td>\n",
              "      <td>0.0</td>\n",
              "      <td>0.0</td>\n",
              "      <td>0.0</td>\n",
              "      <td>0.0</td>\n",
              "      <td>0.0</td>\n",
              "      <td>0.0</td>\n",
              "    </tr>\n",
              "  </tbody>\n",
              "</table>\n",
              "<p>5 rows × 67 columns</p>\n",
              "</div>\n",
              "    <div class=\"colab-df-buttons\">\n",
              "\n",
              "  <div class=\"colab-df-container\">\n",
              "    <button class=\"colab-df-convert\" onclick=\"convertToInteractive('df-7495cd24-77c3-425f-a60e-2e3dabc2e3c5')\"\n",
              "            title=\"Convert this dataframe to an interactive table.\"\n",
              "            style=\"display:none;\">\n",
              "\n",
              "  <svg xmlns=\"http://www.w3.org/2000/svg\" height=\"24px\" viewBox=\"0 -960 960 960\">\n",
              "    <path d=\"M120-120v-720h720v720H120Zm60-500h600v-160H180v160Zm220 220h160v-160H400v160Zm0 220h160v-160H400v160ZM180-400h160v-160H180v160Zm440 0h160v-160H620v160ZM180-180h160v-160H180v160Zm440 0h160v-160H620v160Z\"/>\n",
              "  </svg>\n",
              "    </button>\n",
              "\n",
              "  <style>\n",
              "    .colab-df-container {\n",
              "      display:flex;\n",
              "      gap: 12px;\n",
              "    }\n",
              "\n",
              "    .colab-df-convert {\n",
              "      background-color: #E8F0FE;\n",
              "      border: none;\n",
              "      border-radius: 50%;\n",
              "      cursor: pointer;\n",
              "      display: none;\n",
              "      fill: #1967D2;\n",
              "      height: 32px;\n",
              "      padding: 0 0 0 0;\n",
              "      width: 32px;\n",
              "    }\n",
              "\n",
              "    .colab-df-convert:hover {\n",
              "      background-color: #E2EBFA;\n",
              "      box-shadow: 0px 1px 2px rgba(60, 64, 67, 0.3), 0px 1px 3px 1px rgba(60, 64, 67, 0.15);\n",
              "      fill: #174EA6;\n",
              "    }\n",
              "\n",
              "    .colab-df-buttons div {\n",
              "      margin-bottom: 4px;\n",
              "    }\n",
              "\n",
              "    [theme=dark] .colab-df-convert {\n",
              "      background-color: #3B4455;\n",
              "      fill: #D2E3FC;\n",
              "    }\n",
              "\n",
              "    [theme=dark] .colab-df-convert:hover {\n",
              "      background-color: #434B5C;\n",
              "      box-shadow: 0px 1px 3px 1px rgba(0, 0, 0, 0.15);\n",
              "      filter: drop-shadow(0px 1px 2px rgba(0, 0, 0, 0.3));\n",
              "      fill: #FFFFFF;\n",
              "    }\n",
              "  </style>\n",
              "\n",
              "    <script>\n",
              "      const buttonEl =\n",
              "        document.querySelector('#df-7495cd24-77c3-425f-a60e-2e3dabc2e3c5 button.colab-df-convert');\n",
              "      buttonEl.style.display =\n",
              "        google.colab.kernel.accessAllowed ? 'block' : 'none';\n",
              "\n",
              "      async function convertToInteractive(key) {\n",
              "        const element = document.querySelector('#df-7495cd24-77c3-425f-a60e-2e3dabc2e3c5');\n",
              "        const dataTable =\n",
              "          await google.colab.kernel.invokeFunction('convertToInteractive',\n",
              "                                                    [key], {});\n",
              "        if (!dataTable) return;\n",
              "\n",
              "        const docLinkHtml = 'Like what you see? Visit the ' +\n",
              "          '<a target=\"_blank\" href=https://colab.research.google.com/notebooks/data_table.ipynb>data table notebook</a>'\n",
              "          + ' to learn more about interactive tables.';\n",
              "        element.innerHTML = '';\n",
              "        dataTable['output_type'] = 'display_data';\n",
              "        await google.colab.output.renderOutput(dataTable, element);\n",
              "        const docLink = document.createElement('div');\n",
              "        docLink.innerHTML = docLinkHtml;\n",
              "        element.appendChild(docLink);\n",
              "      }\n",
              "    </script>\n",
              "  </div>\n",
              "\n",
              "\n",
              "<div id=\"df-a177817c-4af5-4fa8-a968-10f73a9eb2cd\">\n",
              "  <button class=\"colab-df-quickchart\" onclick=\"quickchart('df-a177817c-4af5-4fa8-a968-10f73a9eb2cd')\"\n",
              "            title=\"Suggest charts\"\n",
              "            style=\"display:none;\">\n",
              "\n",
              "<svg xmlns=\"http://www.w3.org/2000/svg\" height=\"24px\"viewBox=\"0 0 24 24\"\n",
              "     width=\"24px\">\n",
              "    <g>\n",
              "        <path d=\"M19 3H5c-1.1 0-2 .9-2 2v14c0 1.1.9 2 2 2h14c1.1 0 2-.9 2-2V5c0-1.1-.9-2-2-2zM9 17H7v-7h2v7zm4 0h-2V7h2v10zm4 0h-2v-4h2v4z\"/>\n",
              "    </g>\n",
              "</svg>\n",
              "  </button>\n",
              "\n",
              "<style>\n",
              "  .colab-df-quickchart {\n",
              "      --bg-color: #E8F0FE;\n",
              "      --fill-color: #1967D2;\n",
              "      --hover-bg-color: #E2EBFA;\n",
              "      --hover-fill-color: #174EA6;\n",
              "      --disabled-fill-color: #AAA;\n",
              "      --disabled-bg-color: #DDD;\n",
              "  }\n",
              "\n",
              "  [theme=dark] .colab-df-quickchart {\n",
              "      --bg-color: #3B4455;\n",
              "      --fill-color: #D2E3FC;\n",
              "      --hover-bg-color: #434B5C;\n",
              "      --hover-fill-color: #FFFFFF;\n",
              "      --disabled-bg-color: #3B4455;\n",
              "      --disabled-fill-color: #666;\n",
              "  }\n",
              "\n",
              "  .colab-df-quickchart {\n",
              "    background-color: var(--bg-color);\n",
              "    border: none;\n",
              "    border-radius: 50%;\n",
              "    cursor: pointer;\n",
              "    display: none;\n",
              "    fill: var(--fill-color);\n",
              "    height: 32px;\n",
              "    padding: 0;\n",
              "    width: 32px;\n",
              "  }\n",
              "\n",
              "  .colab-df-quickchart:hover {\n",
              "    background-color: var(--hover-bg-color);\n",
              "    box-shadow: 0 1px 2px rgba(60, 64, 67, 0.3), 0 1px 3px 1px rgba(60, 64, 67, 0.15);\n",
              "    fill: var(--button-hover-fill-color);\n",
              "  }\n",
              "\n",
              "  .colab-df-quickchart-complete:disabled,\n",
              "  .colab-df-quickchart-complete:disabled:hover {\n",
              "    background-color: var(--disabled-bg-color);\n",
              "    fill: var(--disabled-fill-color);\n",
              "    box-shadow: none;\n",
              "  }\n",
              "\n",
              "  .colab-df-spinner {\n",
              "    border: 2px solid var(--fill-color);\n",
              "    border-color: transparent;\n",
              "    border-bottom-color: var(--fill-color);\n",
              "    animation:\n",
              "      spin 1s steps(1) infinite;\n",
              "  }\n",
              "\n",
              "  @keyframes spin {\n",
              "    0% {\n",
              "      border-color: transparent;\n",
              "      border-bottom-color: var(--fill-color);\n",
              "      border-left-color: var(--fill-color);\n",
              "    }\n",
              "    20% {\n",
              "      border-color: transparent;\n",
              "      border-left-color: var(--fill-color);\n",
              "      border-top-color: var(--fill-color);\n",
              "    }\n",
              "    30% {\n",
              "      border-color: transparent;\n",
              "      border-left-color: var(--fill-color);\n",
              "      border-top-color: var(--fill-color);\n",
              "      border-right-color: var(--fill-color);\n",
              "    }\n",
              "    40% {\n",
              "      border-color: transparent;\n",
              "      border-right-color: var(--fill-color);\n",
              "      border-top-color: var(--fill-color);\n",
              "    }\n",
              "    60% {\n",
              "      border-color: transparent;\n",
              "      border-right-color: var(--fill-color);\n",
              "    }\n",
              "    80% {\n",
              "      border-color: transparent;\n",
              "      border-right-color: var(--fill-color);\n",
              "      border-bottom-color: var(--fill-color);\n",
              "    }\n",
              "    90% {\n",
              "      border-color: transparent;\n",
              "      border-bottom-color: var(--fill-color);\n",
              "    }\n",
              "  }\n",
              "</style>\n",
              "\n",
              "  <script>\n",
              "    async function quickchart(key) {\n",
              "      const quickchartButtonEl =\n",
              "        document.querySelector('#' + key + ' button');\n",
              "      quickchartButtonEl.disabled = true;  // To prevent multiple clicks.\n",
              "      quickchartButtonEl.classList.add('colab-df-spinner');\n",
              "      try {\n",
              "        const charts = await google.colab.kernel.invokeFunction(\n",
              "            'suggestCharts', [key], {});\n",
              "      } catch (error) {\n",
              "        console.error('Error during call to suggestCharts:', error);\n",
              "      }\n",
              "      quickchartButtonEl.classList.remove('colab-df-spinner');\n",
              "      quickchartButtonEl.classList.add('colab-df-quickchart-complete');\n",
              "    }\n",
              "    (() => {\n",
              "      let quickchartButtonEl =\n",
              "        document.querySelector('#df-a177817c-4af5-4fa8-a968-10f73a9eb2cd button');\n",
              "      quickchartButtonEl.style.display =\n",
              "        google.colab.kernel.accessAllowed ? 'block' : 'none';\n",
              "    })();\n",
              "  </script>\n",
              "</div>\n",
              "\n",
              "    </div>\n",
              "  </div>\n"
            ],
            "application/vnd.google.colaboratory.intrinsic+json": {
              "type": "dataframe",
              "variable_name": "train_data"
            }
          },
          "metadata": {},
          "execution_count": 283
        }
      ]
    },
    {
      "cell_type": "markdown",
      "source": [
        "-----------------------"
      ],
      "metadata": {
        "id": "BuMqfyIJohLN"
      }
    },
    {
      "cell_type": "code",
      "execution_count": null,
      "metadata": {
        "id": "PBF-FO5vipWr"
      },
      "outputs": [],
      "source": [
        "# Feature scaling\n",
        "\n",
        "# Features (numerical) who needs featue scaling\n",
        "Numeric_features = [\"Latitude\",\"Longitude\",\"Area_ID\",\"Reporting_District_no\",\"Victim_Age\", \"Premise_Code\",\"Code_Frequency_Sum\"]\n",
        "\n",
        "from sklearn.preprocessing import StandardScaler\n",
        "scaler = StandardScaler()\n",
        "train_data[Numeric_features] = scaler.fit_transform(train_data[Numeric_features])\n",
        "\n",
        "\n",
        "# Feature scaling\n",
        "\n",
        "# Features (numerical) who needs featue scaling\n",
        "\n",
        "test_data[Numeric_features] = scaler.transform(test_data[Numeric_features])"
      ]
    },
    {
      "cell_type": "code",
      "execution_count": null,
      "metadata": {
        "colab": {
          "base_uri": "https://localhost:8080/"
        },
        "id": "xNzEd8Wyftxc",
        "outputId": "75f008d3-b7d7-4dfb-e16a-e39c7593df12"
      },
      "outputs": [
        {
          "output_type": "stream",
          "name": "stdout",
          "text": [
            "done\n"
          ]
        }
      ],
      "source": [
        "# Handling target variable \"Crime_Category\"\n",
        "\n",
        "from sklearn.preprocessing import LabelEncoder\n",
        "le = LabelEncoder()\n",
        "train_data['Crime_Category'] = le.fit_transform(train_data['Crime_Category'])\n",
        "print(\"done\")"
      ]
    },
    {
      "cell_type": "code",
      "execution_count": null,
      "metadata": {
        "colab": {
          "base_uri": "https://localhost:8080/"
        },
        "id": "ZLWRyAEWSWQ-",
        "outputId": "edae20ab-1e14-4d4c-a3f7-915e01efb0f2"
      },
      "outputs": [
        {
          "output_type": "execute_result",
          "data": {
            "text/plain": [
              "(19987, 67)"
            ]
          },
          "metadata": {},
          "execution_count": 286
        }
      ],
      "source": [
        "preprocessed_data = train_data.copy()\n",
        "preprocessed_data.shape"
      ]
    },
    {
      "cell_type": "markdown",
      "source": [
        "## Other tested techniques"
      ],
      "metadata": {
        "id": "of6SzBvBxoKK"
      }
    },
    {
      "cell_type": "code",
      "execution_count": null,
      "metadata": {
        "id": "j_eJGATI17ej"
      },
      "outputs": [],
      "source": [
        "# # encoding text features\n",
        "\n",
        "# from sklearn.feature_extraction.text import TfidfVectorizer\n",
        "\n",
        "# # Initialize an empty DataFrame to store the transformed features\n",
        "# transformed_features = pd.DataFrame()\n",
        "\n",
        "# # Loop through each text column and apply TfidfVectorizer\n",
        "# for col in ['Premise_Description', 'Location']:\n",
        "#     vectorizer = TfidfVectorizer()\n",
        "#     tfidf_matrix = vectorizer.fit_transform(train_data[col])\n",
        "\n",
        "#     # Convert the sparse matrix to a dense DataFrame\n",
        "#     tfidf_df = pd.DataFrame(tfidf_matrix.toarray(), columns=[f\"{col}_{feature}\" for feature in vectorizer.get_feature_names_out()])\n",
        "\n",
        "#     # Ensure the index matches the original DataFrame\n",
        "#     tfidf_df.index = train_data.index\n",
        "\n",
        "#     # Concatenate the transformed features to the DataFrame\n",
        "#     transformed_features = pd.concat([transformed_features, tfidf_df], axis=1)\n",
        "\n",
        "# # Drop the original text columns from the DataFrame\n",
        "# train_data = train_data.drop(columns=['Premise_Description', 'Location'])\n",
        "\n",
        "# # Concatenate the transformed features with the original DataFrame\n",
        "# train_data = pd.concat([train_data, transformed_features], axis=1)\n",
        "\n",
        "# train_data.columns\n"
      ]
    },
    {
      "cell_type": "code",
      "execution_count": null,
      "metadata": {
        "id": "KbpjWgYGjfEF"
      },
      "outputs": [],
      "source": [
        "# from sklearn.feature_extraction.text import TfidfVectorizer\n",
        "# import pandas as pd\n",
        "\n",
        "# # Initialize TfidfVectorizer with desired parameters\n",
        "# vectorizer = TfidfVectorizer(max_features=1000, max_df=0.75)\n",
        "\n",
        "# # Fit the vectorizer on the training data\n",
        "# vectorizer.fit(train_data['Premise_Description'] + ' ' + train_data['Location'])\n",
        "\n",
        "# # Transform the training data\n",
        "# train_tfidf_features = pd.concat(\n",
        "#     [pd.DataFrame(vectorizer.transform(train_data[col]).toarray(),\n",
        "#                   columns=[f\"{col}_{feature}\" for feature in vectorizer.get_feature_names_out()],\n",
        "#                   index=train_data.index)\n",
        "#      for col in ['Premise_Description', 'Location']],\n",
        "#     axis=1\n",
        "# )\n",
        "\n",
        "# # Transform the test data\n",
        "# test_tfidf_features = pd.concat(\n",
        "#     [pd.DataFrame(vectorizer.transform(test_data[col]).toarray(),\n",
        "#                   columns=[f\"{col}_{feature}\" for feature in vectorizer.get_feature_names_out()],\n",
        "#                   index=test_data.index)\n",
        "#      for col in ['Premise_Description', 'Location']],\n",
        "#     axis=1\n",
        "# )\n",
        "\n",
        "# # Drop the original text columns and concatenate the transformed features for training data\n",
        "# train_data = train_data.drop(columns=['Premise_Description', 'Location']).join(train_tfidf_features)\n",
        "\n",
        "# # Drop the original text columns and concatenate the transformed features for test data\n",
        "# test_data = test_data.drop(columns=['Premise_Description', 'Location']).join(test_tfidf_features)\n",
        "\n",
        "\n"
      ]
    },
    {
      "cell_type": "code",
      "execution_count": null,
      "metadata": {
        "id": "F2C_GcmMm9vB"
      },
      "outputs": [],
      "source": [
        "# from sklearn.feature_extraction.text import TfidfVectorizer\n",
        "# import pandas as pd\n",
        "\n",
        "# # Fill NaN values with an empty string\n",
        "# train_data['Premise_Description'] = train_data['Premise_Description'].fillna('')\n",
        "# train_data['Location'] = train_data['Location'].fillna('')\n",
        "# test_data['Premise_Description'] = test_data['Premise_Description'].fillna('')\n",
        "# test_data['Location'] = test_data['Location'].fillna('')\n",
        "\n",
        "# # Initialize TfidfVectorizer with desired parameters\n",
        "# vectorizer = TfidfVectorizer()\n",
        "\n",
        "# # Combine the columns for fitting\n",
        "# combined_train_data = train_data['Premise_Description'] + ' ' + train_data['Location']\n",
        "# combined_test_data = test_data['Premise_Description'] + ' ' + test_data['Location']\n",
        "\n",
        "# # Fit the vectorizer on the combined training data\n",
        "# vectorizer.fit(combined_train_data)\n",
        "\n",
        "# # Transform the training data\n",
        "# train_tfidf_features = pd.DataFrame(vectorizer.transform(combined_train_data).toarray(),\n",
        "#                                     columns=vectorizer.get_feature_names_out(),\n",
        "#                                     index=train_data.index)\n",
        "\n",
        "# # Transform the test data\n",
        "# test_tfidf_features = pd.DataFrame(vectorizer.transform(combined_test_data).toarray(),\n",
        "#                                    columns=vectorizer.get_feature_names_out(),\n",
        "#                                    index=test_data.index)\n",
        "\n",
        "# # Drop the original text columns and concatenate the transformed features for training data\n",
        "# train_data = train_data.drop(columns=['Premise_Description', 'Location']).join(train_tfidf_features)\n",
        "\n",
        "# # Drop the original text columns and concatenate the transformed features for test data\n",
        "# test_data = test_data.drop(columns=['Premise_Description', 'Location']).join(test_tfidf_features)\n"
      ]
    },
    {
      "cell_type": "code",
      "execution_count": null,
      "metadata": {
        "id": "C8zkl_ptSMqy"
      },
      "outputs": [],
      "source": [
        "# # Apply Truncated SVD\n",
        "\n",
        "# from sklearn.decomposition import TruncatedSVD\n",
        "# svd = TruncatedSVD(n_components=1000)  # Adjust the number of components as needed\n",
        "# reduced_matrix = svd.fit_transform(tfidf_matrix)\n",
        "\n",
        "# # Check the explained variance\n",
        "# explained_variance = svd.explained_variance_ratio_\n",
        "# total_explained_variance = explained_variance.sum()\n",
        "# print(f\"Total Explained Variance: {total_explained_variance}\")\n",
        "\n",
        "# # Output the reduced matrix\n",
        "# print(reduced_matrix)"
      ]
    },
    {
      "cell_type": "code",
      "execution_count": null,
      "metadata": {
        "id": "cHvsy4RNEqvJ"
      },
      "outputs": [],
      "source": [
        "# # using a different encoding tecnique for two features Status and Status_Description because of imbalance in categorical values.\n",
        "\n",
        "\n",
        "# # calculate the frequency of each category in feat1 and feat2\n",
        "# freq_feat1 = train_data['Status'].value_counts() / len(train_data)\n",
        "# freq_feat2 = train_data['Status_Description'].value_counts() / len(train_data)\n",
        "\n",
        "# # calculate the weighted encoding for each category using an alternative strategy\n",
        "# weighted_feat1 = 1 / freq_feat1  # inverse frequency\n",
        "# weighted_feat2 = 1 / freq_feat2  # inverse frequency\n",
        "\n",
        "# # create a dictionary to map categories to their weighted values\n",
        "# weighted_dict = {'Status': weighted_feat1, 'Status_Description': weighted_feat2}\n",
        "\n",
        "# # apply the weighted encoding to feat1 and feat2\n",
        "# train_data['Status'] = train_data['Status'].map(weighted_dict['Status'])\n",
        "# train_data['Status_Description'] = train_data['Status_Description'].map(weighted_dict['Status_Description'])\n",
        "# print(\"done\")"
      ]
    },
    {
      "cell_type": "code",
      "execution_count": null,
      "metadata": {
        "id": "afVgqsU3pP4C"
      },
      "outputs": [],
      "source": [
        "# # applying the same transformation to test data features\n",
        "\n",
        "# # calculate the frequency of each category in feat1 and feat2\n",
        "# freq_feat1 = test_data['Status'].value_counts() / len(test_data)\n",
        "# freq_feat2 = test_data['Status_Description'].value_counts() / len(test_data)\n",
        "\n",
        "# # calculate the weighted encoding for each category using an alternative strategy\n",
        "# weighted_feat1 = 1 / freq_feat1  # inverse frequency\n",
        "# weighted_feat2 = 1 / freq_feat2  # inverse frequency\n",
        "\n",
        "# # create a dictionary to map categories to their weighted values\n",
        "# weighted_dict = {'Status': weighted_feat1, 'Status_Description': weighted_feat2}\n",
        "\n",
        "# # apply the weighted encoding to feat1 and feat2\n",
        "# test_data['Status'] = test_data['Status'].map(weighted_dict['Status'])\n",
        "# test_data['Status_Description'] = test_data['Status_Description'].map(weighted_dict['Status_Description'])\n",
        "# print(\"done\")"
      ]
    },
    {
      "cell_type": "code",
      "execution_count": null,
      "metadata": {
        "collapsed": true,
        "id": "hCNR-KvXaKzD"
      },
      "outputs": [],
      "source": [
        "# # encoding categorical features\n",
        "# # categorical features =  Victim_Sex, Victim_Descent, Area_Name\n",
        "\n",
        "\n",
        "# from sklearn.compose import ColumnTransformer\n",
        "# from sklearn.pipeline import Pipeline\n",
        "# from sklearn.preprocessing import OneHotEncoder\n",
        "# import pandas as pd\n",
        "\n",
        "# # Define the categorical features\n",
        "# categorical_features = ['Victim_Sex', 'Victim_Descent', 'Area_Name']\n",
        "\n",
        "# # Create a ColumnTransformer to apply OneHotEncoder to categorical features\n",
        "# preprocessor = ColumnTransformer(\n",
        "#     transformers=[\n",
        "#         ('ohe', OneHotEncoder(handle_unknown='ignore'), categorical_features)\n",
        "#     ],\n",
        "#     remainder='passthrough'\n",
        "# )\n",
        "\n",
        "# # Create a pipeline that includes the ColumnTransformer\n",
        "# preprocessing_pipeline = Pipeline([\n",
        "#     ('preprocessor', preprocessor)\n",
        "# ])\n",
        "\n",
        "# # Fit and transform the training data\n",
        "# preprocessing_pipeline.fit(train_data)\n",
        "# transformed_data = preprocessing_pipeline.fit_transform(train_data)\n",
        "\n",
        "# # Convert the transformed data back to a DataFrame\n",
        "# transformed_df = pd.DataFrame(transformed_data, columns=preprocessing_pipeline.named_steps['preprocessor'].get_feature_names_out())\n",
        "\n",
        "# # Replace the original train_data with the transformed DataFrame\n",
        "# train_data = transformed_df\n",
        "\n",
        "\n",
        "\n",
        "# # Transform the test data using the same pipeline\n",
        "# transformed_test_data = preprocessing_pipeline.transform(test_data)\n",
        "\n",
        "# # Convert the transformed test data back to a DataFrame\n",
        "# transformed_test_df = pd.DataFrame(transformed_test_data, columns=preprocessing_pipeline.named_steps['preprocessor'].get_feature_names_out())\n",
        "\n",
        "# # Replace the original test_data with the transformed DataFrame\n",
        "# test_data = transformed_test_df\n",
        "\n"
      ]
    },
    {
      "cell_type": "code",
      "execution_count": null,
      "metadata": {
        "id": "dAtQHPtTRvBg"
      },
      "outputs": [],
      "source": []
    },
    {
      "cell_type": "code",
      "execution_count": null,
      "metadata": {
        "id": "1T5Yvk5Q16SB"
      },
      "outputs": [],
      "source": [
        "# # dropping 4 columns ( test model performace by deleting these features)\n",
        "# train_data.drop(columns=['Weapon_Used_Code', 'Weapon_Description', 'Modus_Operandi', 'Cross_Street'], inplace=True)\n",
        "# test_data.drop(columns=['Weapon_Used_Code', 'Weapon_Description', 'Modus_Operandi', 'Cross_Street'],inplace = True)"
      ]
    },
    {
      "cell_type": "markdown",
      "metadata": {
        "id": "0QKfSV1pU_ea"
      },
      "source": [
        "# Data spliting (training | validation)"
      ]
    },
    {
      "cell_type": "code",
      "execution_count": null,
      "metadata": {
        "id": "k-Ey8Xa2iv3X"
      },
      "outputs": [],
      "source": [
        "# dividing dataset into trainging and validation set\n",
        "\n",
        "\n",
        "#  'x' contains your features and 'y' contains your target\n",
        "X = preprocessed_data.drop('Crime_Category', axis=1)\n",
        "Y = preprocessed_data['Crime_Category']\n",
        "\n",
        "\n",
        "from sklearn.model_selection import train_test_split\n",
        "x_train, x_test, y_train, y_test = train_test_split(X,Y, test_size=0.2,random_state=42,)\n"
      ]
    },
    {
      "cell_type": "markdown",
      "metadata": {
        "id": "g7eBWBU4bUjH"
      },
      "source": [
        "# Feature selection\n"
      ]
    },
    {
      "cell_type": "markdown",
      "source": [
        " Here testing different models on selected featues, testing is done on validatioan set\n",
        "\n",
        " Testing on validation set without feature selection has also been done"
      ],
      "metadata": {
        "id": "5p9EBNU4v0hp"
      }
    },
    {
      "cell_type": "code",
      "execution_count": null,
      "metadata": {
        "id": "oxFFiNy1XO54"
      },
      "outputs": [],
      "source": [
        "\n",
        "from sklearn.ensemble import RandomForestClassifier\n",
        "from sklearn.feature_selection import RFE\n",
        "from sklearn.metrics import accuracy_score\n",
        "\n",
        "# Define the estimator (Random Forest) and RFE\n",
        "estimator = RandomForestClassifier(n_estimators=100, random_state=42)\n",
        "selector = RFE(estimator, n_features_to_select= 20)\n",
        "\n",
        "# Fit the RFE to the training data\n",
        "selector.fit(x_train, y_train)\n",
        "\n",
        "# Get the selected features\n",
        "selected_features = x_train.columns[selector.support_]\n"
      ]
    },
    {
      "cell_type": "code",
      "execution_count": null,
      "metadata": {
        "id": "7JNOyvTdX5wo"
      },
      "outputs": [],
      "source": [
        "from sklearn.metrics import accuracy_score\n",
        "\n",
        "from sklearn.neighbors import KNeighborsClassifier\n",
        "from sklearn.tree import DecisionTreeClassifier\n",
        "from sklearn.ensemble import RandomForestClassifier, GradientBoostingClassifier, AdaBoostClassifier, BaggingClassifier\n",
        "from sklearn.svm import SVC\n",
        "from sklearn.naive_bayes import GaussianNB\n",
        "from sklearn.neural_network import MLPClassifier\n"
      ]
    },
    {
      "cell_type": "code",
      "execution_count": null,
      "metadata": {
        "colab": {
          "base_uri": "https://localhost:8080/"
        },
        "id": "bCDp6E9kXp79",
        "outputId": "d64236e9-dc80-4f5b-e79f-fb94fb9bf74a"
      },
      "outputs": [
        {
          "output_type": "stream",
          "name": "stdout",
          "text": [
            "Testing KNeighborsClassifier...\n",
            "Accuracy: 0.751\n",
            "\n",
            "Testing DecisionTreeClassifier...\n",
            "Accuracy: 0.881\n",
            "\n",
            "Testing RandomForestClassifier...\n",
            "Accuracy: 0.908\n",
            "\n",
            "Testing GradientBoostingClassifier...\n",
            "Accuracy: 0.922\n",
            "\n",
            "Testing SVC...\n",
            "Accuracy: 0.645\n",
            "\n",
            "Testing AdaBoostClassifier...\n",
            "Accuracy: 0.811\n",
            "\n",
            "Testing BaggingClassifier...\n",
            "Accuracy: 0.904\n",
            "\n"
          ]
        }
      ],
      "source": [
        "# Define the models to test\n",
        "models = [\n",
        "    KNeighborsClassifier(),\n",
        "    DecisionTreeClassifier(),\n",
        "    RandomForestClassifier(),\n",
        "    GradientBoostingClassifier(),\n",
        "    SVC(),\n",
        "    AdaBoostClassifier(),\n",
        "    BaggingClassifier()\n",
        "]\n",
        "\n",
        "# Test each model\n",
        "for model in models:\n",
        "    model_name = model.__class__.__name__\n",
        "    print(f\"Testing {model_name}...\")\n",
        "\n",
        "    # Train the model\n",
        "    model.fit(x_train[selected_features], y_train)\n",
        "\n",
        "    # Predict on test data\n",
        "    y_pred = model.predict(x_test[selected_features])\n",
        "\n",
        "    # Get accuracy score\n",
        "    accuracy = accuracy_score(y_test, y_pred)\n",
        "    print(f\"Accuracy: {accuracy:.3f}\\n\")"
      ]
    },
    {
      "cell_type": "code",
      "execution_count": null,
      "metadata": {
        "id": "tfRD6d5Uhqh3",
        "colab": {
          "base_uri": "https://localhost:8080/"
        },
        "outputId": "f8037989-678e-442b-a6ae-640c46ef7ec7"
      },
      "outputs": [
        {
          "output_type": "stream",
          "name": "stdout",
          "text": [
            "Accuracy: 0.918\n",
            "\n"
          ]
        }
      ],
      "source": [
        "from xgboost import  XGBClassifier\n",
        "\n",
        "# Define the model to test\n",
        "model = XGBClassifier()\n",
        "\n",
        "\n",
        "# Train the model\n",
        "model.fit(x_train[selected_features], y_train)\n",
        "\n",
        "# Predict on test data\n",
        "y_pred = model.predict(x_test[selected_features])\n",
        "\n",
        "# Get accuracy score\n",
        "accuracy = accuracy_score(y_test, y_pred)\n",
        "print(f\"Accuracy: {accuracy:.3f}\\n\")\n"
      ]
    },
    {
      "cell_type": "markdown",
      "source": [
        "## other tested techniques"
      ],
      "metadata": {
        "id": "E65e13y7zh28"
      }
    },
    {
      "cell_type": "code",
      "execution_count": null,
      "metadata": {
        "id": "N24QlEW1baeI"
      },
      "outputs": [],
      "source": [
        "# from sklearn.feature_selection import RFE\n",
        "# from sklearn.ensemble import RandomForestClassifier\n",
        "\n",
        "\n",
        "# # Use RFE with a Random Forest classifier\n",
        "# rfe = RFE(RandomForestClassifier( )) # half the features will be selected\n",
        "# rfe.fit(x_train, y_train)\n",
        "# rfe.support_\n",
        "\n",
        "\n",
        "\n",
        "\n",
        "# # Get the selected features\n",
        "# selected_features = x_train.columns[rfe.support_]\n",
        "\n",
        "# # # Use Mutual Information test to validate the results\n",
        "# # mutual_info = mutual_info_classif(x_train, y_train)\n",
        "\n",
        "# # Print the results\n",
        "# print(\"Selected features:\", selected_features)\n",
        "# # print(\"Mutual Information:\", mutual_info)\n"
      ]
    },
    {
      "cell_type": "code",
      "execution_count": null,
      "metadata": {
        "id": "E2R6N1nrj8CA"
      },
      "outputs": [],
      "source": [
        "# # data after preprocessing and feature selection\n",
        "# X = X.loc[:, selected_features]\n",
        "\n",
        "# x_train, x_test, y_train, y_test = train_test_split(X,Y, test_size=0.2,random_state=42,)"
      ]
    },
    {
      "cell_type": "code",
      "execution_count": null,
      "metadata": {
        "id": "-HCggpErrqIY"
      },
      "outputs": [],
      "source": [
        "# from sklearn.feature_selection import RFE\n",
        "# from sklearn.ensemble import RandomForestClassifier\n",
        "\n",
        "# from sklearn.metrics import accuracy_score\n",
        "\n",
        "\n",
        "\n",
        "# model = RandomForestClassifier()\n",
        "\n",
        "# # Initialize RFE with the model and number of features to select\n",
        "# rfe = RFE(model )\n",
        "\n",
        "# # Fit RFE on the training data and transform it\n",
        "# X_train_rfe = rfe.fit_transform(x_train, y_train)\n",
        "\n",
        "# # Transform the test data\n",
        "# X_test_rfe = rfe.transform(x_test)\n",
        "\n",
        "# # Train the model on the selected features\n",
        "# model.fit(X_train_rfe, y_train)\n",
        "\n",
        "# # Make predictions on the test data\n",
        "# y_pred_rfe = model.predict(X_test_rfe)\n",
        "\n",
        "# # Evaluate the model\n",
        "# print(\"RFE Test Accuracy:\", accuracy_score(y_test, y_pred_rfe))\n",
        "\n",
        "# # RFE Test Accuracy: 0.9054527263631816"
      ]
    },
    {
      "cell_type": "code",
      "execution_count": null,
      "metadata": {
        "id": "ZYdc_xCg4gPU"
      },
      "outputs": [],
      "source": [
        "\n",
        "\n",
        "# # Fit RFE on the entire training data and transform it\n",
        "# X_train_rfe = rfe.fit_transform(X, Y)\n",
        "\n",
        "# # Train the model on the selected features\n",
        "# model.fit(X_train_rfe, Y)\n",
        "\n",
        "# # Transform the test data using the selected features\n",
        "# X_TEST_rfe = rfe.transform(test_data)\n",
        "\n",
        "# # Make predictions on the test data\n",
        "# y_pred = model.predict(X_TEST_rfe)\n"
      ]
    },
    {
      "cell_type": "code",
      "execution_count": null,
      "metadata": {
        "id": "RQx-fcrmRaC-"
      },
      "outputs": [],
      "source": [
        "# from sklearn.feature_selection import RFE\n",
        "# from sklearn.ensemble import GradientBoostingClassifier\n",
        "\n",
        "# from sklearn.metrics import accuracy_score\n",
        "\n",
        "\n",
        "\n",
        "# model = GradientBoostingClassifier()\n",
        "\n",
        "# # Initialize RFE with the model and number of features to select\n",
        "# rfe = RFE(model )\n",
        "\n",
        "# # Fit RFE on the training data and transform it\n",
        "# X_train_rfe = rfe.fit_transform(x_train, y_train)\n",
        "\n",
        "# # Transform the test data\n",
        "# X_test_rfe = rfe.transform(x_test)\n",
        "\n",
        "# # Train the model on the selected features\n",
        "# model.fit(X_train_rfe, y_train)\n",
        "\n",
        "# # Make predictions on the test data\n",
        "# y_pred_rfe = model.predict(X_test_rfe)\n",
        "\n",
        "# # Evaluate the model\n",
        "# print(\"RFE Test Accuracy:\", accuracy_score(y_test, y_pred_rfe))\n",
        "\n",
        "# RFE Test Accuracy: 0.9187093546773387"
      ]
    },
    {
      "cell_type": "code",
      "execution_count": null,
      "metadata": {
        "id": "zjiHt0IVGqBU"
      },
      "outputs": [],
      "source": [
        "# from sklearn.feature_selection import RFE\n",
        "# from sklearn.tree import DecisionTreeClassifier\n",
        "\n",
        "# from sklearn.metrics import accuracy_score\n",
        "\n",
        "\n",
        "\n",
        "# model = DecisionTreeClassifier()\n",
        "\n",
        "# # Initialize RFE with the model and number of features to select\n",
        "# rfe = RFE(model )\n",
        "\n",
        "# # Fit RFE on the training data and transform it\n",
        "# X_train_rfe = rfe.fit_transform(x_train, y_train)\n",
        "\n",
        "# # Transform the test data\n",
        "# X_test_rfe = rfe.transform(x_test)\n",
        "\n",
        "# # Train the model on the selected features\n",
        "# model.fit(X_train_rfe, y_train)\n",
        "\n",
        "# # Make predictions on the test data\n",
        "# y_pred_rfe = model.predict(X_test_rfe)\n",
        "\n",
        "# # Evaluate the model\n",
        "# print(\"RFE Test Accuracy:\", accuracy_score(y_test, y_pred_rfe))\n",
        "#\n",
        "\n",
        "# RFE Test Accuracy: 0.8851925962981491"
      ]
    },
    {
      "cell_type": "code",
      "execution_count": null,
      "metadata": {
        "id": "aE69EwU9gn4T"
      },
      "outputs": [],
      "source": [
        "# from sklearn.feature_selection import SelectKBest\n",
        "# from sklearn.feature_selection import mutual_info_classif\n",
        "# select= SelectKBest(score_func = mutual_info_classif, k = 30 )\n",
        "# select.fit(X,Y)\n"
      ]
    },
    {
      "cell_type": "code",
      "execution_count": null,
      "metadata": {
        "id": "4srAbdBfgOwH"
      },
      "outputs": [],
      "source": [
        "# select.get_support()"
      ]
    },
    {
      "cell_type": "markdown",
      "metadata": {
        "id": "bV1g83hVunet"
      },
      "source": [
        "# Baseline  model\n"
      ]
    },
    {
      "cell_type": "code",
      "execution_count": null,
      "metadata": {
        "colab": {
          "base_uri": "https://localhost:8080/"
        },
        "id": "cfuqCtH0uncy",
        "outputId": "d1b55935-dba5-4aba-e613-a1d5a7e10cf6"
      },
      "outputs": [
        {
          "output_type": "execute_result",
          "data": {
            "text/plain": [
              "0.5777888944472236"
            ]
          },
          "metadata": {},
          "execution_count": 55
        }
      ],
      "source": [
        "from sklearn.dummy import DummyClassifier\n",
        "dummy = DummyClassifier(strategy = \"most_frequent\")\n",
        "dummy.fit(x_train, y_train)\n",
        "dummy.predict(x_test)\n",
        "dummy.score(x_test, y_test)"
      ]
    },
    {
      "cell_type": "markdown",
      "metadata": {
        "id": "qaV69P1Mpdxv"
      },
      "source": [
        "# Model training"
      ]
    },
    {
      "cell_type": "markdown",
      "source": [
        "Model testing on subset of training data and validation set without feature selection.|"
      ],
      "metadata": {
        "id": "Uzz_WQcW0L8M"
      }
    },
    {
      "cell_type": "code",
      "execution_count": null,
      "metadata": {
        "id": "qv63igG-unbA"
      },
      "outputs": [],
      "source": [
        "# # model 1\n",
        "# from sklearn.linear_model import LogisticRegression\n",
        "# lr = LogisticRegression()\n",
        "# lr.fit(x_train, y_train)\n",
        "# lr.score(x_test, y_test)"
      ]
    },
    {
      "cell_type": "code",
      "execution_count": null,
      "metadata": {
        "id": "mgMLxZ3EunYV"
      },
      "outputs": [],
      "source": [
        "# # model 2\n",
        "# from sklearn.neighbors import KNeighborsClassifier\n",
        "# knn = KNeighborsClassifier()\n",
        "# knn.fit(x_train, y_train)\n",
        "# knn.score(x_test, y_test)\n",
        "\n",
        "# # knn.fit(X,Y)\n",
        "# # knn.score(test_data, jo kaggle pe hai)"
      ]
    },
    {
      "cell_type": "code",
      "execution_count": null,
      "metadata": {
        "id": "g7_7qbmaunWt"
      },
      "outputs": [],
      "source": [
        "# # model 3\n",
        "# from sklearn.tree import DecisionTreeClassifier\n",
        "# dt = DecisionTreeClassifier()\n",
        "# dt.fit(x_train, y_train)\n",
        "# dt.score(x_test, y_test)"
      ]
    },
    {
      "cell_type": "code",
      "execution_count": null,
      "metadata": {
        "id": "R9k6fdd0unUN"
      },
      "outputs": [],
      "source": [
        "# # modle 4\n",
        "# from sklearn.ensemble import RandomForestClassifier\n",
        "# rf = RandomForestClassifier()\n",
        "# rf.fit(x_train, y_train)\n",
        "# rf.score(x_test, y_test)"
      ]
    },
    {
      "cell_type": "code",
      "execution_count": null,
      "metadata": {
        "id": "kJ0Y5_jkoxCc"
      },
      "outputs": [],
      "source": [
        "# # # model 5\n",
        "# from sklearn.ensemble import GradientBoostingClassifier\n",
        "# gb = GradientBoostingClassifier()\n",
        "# gb.fit(x_train, y_train)\n",
        "# gb.score(x_test, y_test)"
      ]
    },
    {
      "cell_type": "code",
      "execution_count": null,
      "metadata": {
        "collapsed": true,
        "id": "caMHX2-No4ED"
      },
      "outputs": [],
      "source": [
        "# # model 6\n",
        "# from xgboost import XGBClassifier\n",
        "# xgb = XGBClassifier()\n",
        "# xgb.fit(x_train, y_train)\n",
        "# xgb.score(x_test, y_test)\n",
        "\n",
        "# 0.9219609804902451"
      ]
    },
    {
      "cell_type": "code",
      "execution_count": null,
      "metadata": {
        "id": "MwtUv-9Bo8u6"
      },
      "outputs": [],
      "source": [
        "# # model 7\n",
        "# from sklearn.svm import SVC\n",
        "# svc = SVC()\n",
        "# svc.fit(x_train, y_train)\n",
        "# svc.score(x_test, y_test)"
      ]
    },
    {
      "cell_type": "code",
      "execution_count": null,
      "metadata": {
        "id": "0sGi572ypYIA"
      },
      "outputs": [],
      "source": [
        "# # model 8\n",
        "# from sklearn.ensemble import AdaBoostClassifier\n",
        "# ada = AdaBoostClassifier()\n",
        "# ada.fit(x_train, y_train)\n",
        "# ada.score(x_test, y_test)\n"
      ]
    },
    {
      "cell_type": "code",
      "execution_count": null,
      "metadata": {
        "id": "RQdGQSLwppUw"
      },
      "outputs": [],
      "source": [
        "# # model 9\n",
        "# from sklearn.ensemble import BaggingClassifier\n",
        "# bag = BaggingClassifier()\n",
        "# bag.fit(x_train, y_train)\n",
        "# bag.score(x_test, y_test)"
      ]
    },
    {
      "cell_type": "code",
      "execution_count": null,
      "metadata": {
        "id": "DY25MDfZx6Jw"
      },
      "outputs": [],
      "source": [
        "# from sklearn.metrics import accuracy_score, classification_report\n",
        "\n",
        "# from sklearn.neighbors import KNeighborsClassifier\n",
        "# from sklearn.tree import DecisionTreeClassifier\n",
        "# from sklearn.ensemble import RandomForestClassifier, GradientBoostingClassifier, AdaBoostClassifier, BaggingClassifier\n",
        "# from sklearn.svm import SVC\n",
        "# from sklearn.naive_bayes import GaussianNB\n",
        "# from sklearn.neural_network import MLPClassifier"
      ]
    },
    {
      "cell_type": "code",
      "execution_count": null,
      "metadata": {
        "id": "hYCs18k21Yvp"
      },
      "outputs": [],
      "source": [
        "\n",
        "\n",
        "\n",
        "# # Define the models to test\n",
        "# models = [\n",
        "#     KNeighborsClassifier(),\n",
        "#     DecisionTreeClassifier(),\n",
        "#     RandomForestClassifier(),\n",
        "#     GradientBoostingClassifier(),\n",
        "#     SVC(),\n",
        "#     AdaBoostClassifier(),\n",
        "#     BaggingClassifier()\n",
        "# ]\n",
        "\n",
        "# # Test each model\n",
        "# for model in models:\n",
        "#     model_name = model.__class__.__name__\n",
        "#     print(f\"Testing {model_name}...\")\n",
        "\n",
        "#     # Train the model\n",
        "#     model.fit(x_train, y_train)\n",
        "\n",
        "#     # Predict on test data\n",
        "#     y_pred = model.predict(x_test)\n",
        "\n",
        "#     # Get accuracy score\n",
        "#     accuracy = accuracy_score(y_test, y_pred)\n",
        "#     print(f\"Accuracy: {accuracy:.3f}\\n\")"
      ]
    },
    {
      "cell_type": "markdown",
      "metadata": {
        "id": "DQjr9ZKBYLnA"
      },
      "source": [
        "# Hyperparameter tuning (HPT)\n"
      ]
    },
    {
      "cell_type": "code",
      "execution_count": null,
      "metadata": {
        "id": "_3BsqatYarUn"
      },
      "outputs": [],
      "source": [
        "from sklearn.model_selection import RandomizedSearchCV"
      ]
    },
    {
      "cell_type": "code",
      "execution_count": null,
      "metadata": {
        "colab": {
          "base_uri": "https://localhost:8080/",
          "height": 389
        },
        "id": "9kfLpN8IcwgP",
        "outputId": "69570f66-c9d4-46a0-ca7d-3f86811d8a22"
      },
      "outputs": [
        {
          "output_type": "error",
          "ename": "KeyboardInterrupt",
          "evalue": "",
          "traceback": [
            "\u001b[0;31m---------------------------------------------------------------------------\u001b[0m",
            "\u001b[0;31mKeyboardInterrupt\u001b[0m                         Traceback (most recent call last)",
            "\u001b[0;32m<ipython-input-53-855e53adcffe>\u001b[0m in \u001b[0;36m<cell line: 11>\u001b[0;34m()\u001b[0m\n\u001b[1;32m      9\u001b[0m \u001b[0;34m\u001b[0m\u001b[0m\n\u001b[1;32m     10\u001b[0m \u001b[0mrandomized_search_gb\u001b[0m\u001b[0;34m=\u001b[0m \u001b[0mRandomizedSearchCV\u001b[0m\u001b[0;34m(\u001b[0m\u001b[0mestimator\u001b[0m\u001b[0;34m=\u001b[0m\u001b[0mGradientBoostingClassifier\u001b[0m\u001b[0;34m(\u001b[0m\u001b[0mrandom_state\u001b[0m\u001b[0;34m=\u001b[0m\u001b[0;36m42\u001b[0m\u001b[0;34m)\u001b[0m\u001b[0;34m,\u001b[0m \u001b[0mparam_distributions\u001b[0m\u001b[0;34m=\u001b[0m \u001b[0mparam_grid\u001b[0m\u001b[0;34m,\u001b[0m \u001b[0mcv\u001b[0m\u001b[0;34m=\u001b[0m\u001b[0;36m3\u001b[0m\u001b[0;34m,\u001b[0m \u001b[0mn_jobs\u001b[0m\u001b[0;34m=\u001b[0m\u001b[0;34m-\u001b[0m\u001b[0;36m1\u001b[0m\u001b[0;34m,\u001b[0m \u001b[0mrandom_state\u001b[0m\u001b[0;34m=\u001b[0m\u001b[0;36m42\u001b[0m\u001b[0;34m,\u001b[0m \u001b[0mn_iter\u001b[0m\u001b[0;34m=\u001b[0m\u001b[0;36m30\u001b[0m\u001b[0;34m)\u001b[0m\u001b[0;34m\u001b[0m\u001b[0;34m\u001b[0m\u001b[0m\n\u001b[0;32m---> 11\u001b[0;31m \u001b[0mrandomized_search_gb\u001b[0m\u001b[0;34m.\u001b[0m\u001b[0mfit\u001b[0m\u001b[0;34m(\u001b[0m\u001b[0mX\u001b[0m\u001b[0;34m[\u001b[0m\u001b[0mselected_features\u001b[0m\u001b[0;34m]\u001b[0m\u001b[0;34m,\u001b[0m \u001b[0mY\u001b[0m\u001b[0;34m)\u001b[0m\u001b[0;34m\u001b[0m\u001b[0;34m\u001b[0m\u001b[0m\n\u001b[0m\u001b[1;32m     12\u001b[0m \u001b[0;34m\u001b[0m\u001b[0m\n\u001b[1;32m     13\u001b[0m \u001b[0mprint\u001b[0m\u001b[0;34m(\u001b[0m\u001b[0;34m\"Best Parameters: \"\u001b[0m\u001b[0;34m,\u001b[0m \u001b[0mrandomized_search_gb\u001b[0m\u001b[0;34m.\u001b[0m\u001b[0mbest_params_\u001b[0m\u001b[0;34m)\u001b[0m\u001b[0;34m\u001b[0m\u001b[0;34m\u001b[0m\u001b[0m\n",
            "\u001b[0;32m/usr/local/lib/python3.10/dist-packages/sklearn/base.py\u001b[0m in \u001b[0;36mwrapper\u001b[0;34m(estimator, *args, **kwargs)\u001b[0m\n\u001b[1;32m   1150\u001b[0m                 )\n\u001b[1;32m   1151\u001b[0m             ):\n\u001b[0;32m-> 1152\u001b[0;31m                 \u001b[0;32mreturn\u001b[0m \u001b[0mfit_method\u001b[0m\u001b[0;34m(\u001b[0m\u001b[0mestimator\u001b[0m\u001b[0;34m,\u001b[0m \u001b[0;34m*\u001b[0m\u001b[0margs\u001b[0m\u001b[0;34m,\u001b[0m \u001b[0;34m**\u001b[0m\u001b[0mkwargs\u001b[0m\u001b[0;34m)\u001b[0m\u001b[0;34m\u001b[0m\u001b[0;34m\u001b[0m\u001b[0m\n\u001b[0m\u001b[1;32m   1153\u001b[0m \u001b[0;34m\u001b[0m\u001b[0m\n\u001b[1;32m   1154\u001b[0m         \u001b[0;32mreturn\u001b[0m \u001b[0mwrapper\u001b[0m\u001b[0;34m\u001b[0m\u001b[0;34m\u001b[0m\u001b[0m\n",
            "\u001b[0;32m/usr/local/lib/python3.10/dist-packages/sklearn/model_selection/_search.py\u001b[0m in \u001b[0;36mfit\u001b[0;34m(self, X, y, groups, **fit_params)\u001b[0m\n\u001b[1;32m    896\u001b[0m                 \u001b[0;32mreturn\u001b[0m \u001b[0mresults\u001b[0m\u001b[0;34m\u001b[0m\u001b[0;34m\u001b[0m\u001b[0m\n\u001b[1;32m    897\u001b[0m \u001b[0;34m\u001b[0m\u001b[0m\n\u001b[0;32m--> 898\u001b[0;31m             \u001b[0mself\u001b[0m\u001b[0;34m.\u001b[0m\u001b[0m_run_search\u001b[0m\u001b[0;34m(\u001b[0m\u001b[0mevaluate_candidates\u001b[0m\u001b[0;34m)\u001b[0m\u001b[0;34m\u001b[0m\u001b[0;34m\u001b[0m\u001b[0m\n\u001b[0m\u001b[1;32m    899\u001b[0m \u001b[0;34m\u001b[0m\u001b[0m\n\u001b[1;32m    900\u001b[0m             \u001b[0;31m# multimetric is determined here because in the case of a callable\u001b[0m\u001b[0;34m\u001b[0m\u001b[0;34m\u001b[0m\u001b[0m\n",
            "\u001b[0;32m/usr/local/lib/python3.10/dist-packages/sklearn/model_selection/_search.py\u001b[0m in \u001b[0;36m_run_search\u001b[0;34m(self, evaluate_candidates)\u001b[0m\n\u001b[1;32m   1807\u001b[0m     \u001b[0;32mdef\u001b[0m \u001b[0m_run_search\u001b[0m\u001b[0;34m(\u001b[0m\u001b[0mself\u001b[0m\u001b[0;34m,\u001b[0m \u001b[0mevaluate_candidates\u001b[0m\u001b[0;34m)\u001b[0m\u001b[0;34m:\u001b[0m\u001b[0;34m\u001b[0m\u001b[0;34m\u001b[0m\u001b[0m\n\u001b[1;32m   1808\u001b[0m         \u001b[0;34m\"\"\"Search n_iter candidates from param_distributions\"\"\"\u001b[0m\u001b[0;34m\u001b[0m\u001b[0;34m\u001b[0m\u001b[0m\n\u001b[0;32m-> 1809\u001b[0;31m         evaluate_candidates(\n\u001b[0m\u001b[1;32m   1810\u001b[0m             ParameterSampler(\n\u001b[1;32m   1811\u001b[0m                 \u001b[0mself\u001b[0m\u001b[0;34m.\u001b[0m\u001b[0mparam_distributions\u001b[0m\u001b[0;34m,\u001b[0m \u001b[0mself\u001b[0m\u001b[0;34m.\u001b[0m\u001b[0mn_iter\u001b[0m\u001b[0;34m,\u001b[0m \u001b[0mrandom_state\u001b[0m\u001b[0;34m=\u001b[0m\u001b[0mself\u001b[0m\u001b[0;34m.\u001b[0m\u001b[0mrandom_state\u001b[0m\u001b[0;34m\u001b[0m\u001b[0;34m\u001b[0m\u001b[0m\n",
            "\u001b[0;32m/usr/local/lib/python3.10/dist-packages/sklearn/model_selection/_search.py\u001b[0m in \u001b[0;36mevaluate_candidates\u001b[0;34m(candidate_params, cv, more_results)\u001b[0m\n\u001b[1;32m    843\u001b[0m                     )\n\u001b[1;32m    844\u001b[0m \u001b[0;34m\u001b[0m\u001b[0m\n\u001b[0;32m--> 845\u001b[0;31m                 out = parallel(\n\u001b[0m\u001b[1;32m    846\u001b[0m                     delayed(_fit_and_score)(\n\u001b[1;32m    847\u001b[0m                         \u001b[0mclone\u001b[0m\u001b[0;34m(\u001b[0m\u001b[0mbase_estimator\u001b[0m\u001b[0;34m)\u001b[0m\u001b[0;34m,\u001b[0m\u001b[0;34m\u001b[0m\u001b[0;34m\u001b[0m\u001b[0m\n",
            "\u001b[0;32m/usr/local/lib/python3.10/dist-packages/sklearn/utils/parallel.py\u001b[0m in \u001b[0;36m__call__\u001b[0;34m(self, iterable)\u001b[0m\n\u001b[1;32m     63\u001b[0m             \u001b[0;32mfor\u001b[0m \u001b[0mdelayed_func\u001b[0m\u001b[0;34m,\u001b[0m \u001b[0margs\u001b[0m\u001b[0;34m,\u001b[0m \u001b[0mkwargs\u001b[0m \u001b[0;32min\u001b[0m \u001b[0miterable\u001b[0m\u001b[0;34m\u001b[0m\u001b[0;34m\u001b[0m\u001b[0m\n\u001b[1;32m     64\u001b[0m         )\n\u001b[0;32m---> 65\u001b[0;31m         \u001b[0;32mreturn\u001b[0m \u001b[0msuper\u001b[0m\u001b[0;34m(\u001b[0m\u001b[0;34m)\u001b[0m\u001b[0;34m.\u001b[0m\u001b[0m__call__\u001b[0m\u001b[0;34m(\u001b[0m\u001b[0miterable_with_config\u001b[0m\u001b[0;34m)\u001b[0m\u001b[0;34m\u001b[0m\u001b[0;34m\u001b[0m\u001b[0m\n\u001b[0m\u001b[1;32m     66\u001b[0m \u001b[0;34m\u001b[0m\u001b[0m\n\u001b[1;32m     67\u001b[0m \u001b[0;34m\u001b[0m\u001b[0m\n",
            "\u001b[0;32m/usr/local/lib/python3.10/dist-packages/joblib/parallel.py\u001b[0m in \u001b[0;36m__call__\u001b[0;34m(self, iterable)\u001b[0m\n\u001b[1;32m   2005\u001b[0m         \u001b[0mnext\u001b[0m\u001b[0;34m(\u001b[0m\u001b[0moutput\u001b[0m\u001b[0;34m)\u001b[0m\u001b[0;34m\u001b[0m\u001b[0;34m\u001b[0m\u001b[0m\n\u001b[1;32m   2006\u001b[0m \u001b[0;34m\u001b[0m\u001b[0m\n\u001b[0;32m-> 2007\u001b[0;31m         \u001b[0;32mreturn\u001b[0m \u001b[0moutput\u001b[0m \u001b[0;32mif\u001b[0m \u001b[0mself\u001b[0m\u001b[0;34m.\u001b[0m\u001b[0mreturn_generator\u001b[0m \u001b[0;32melse\u001b[0m \u001b[0mlist\u001b[0m\u001b[0;34m(\u001b[0m\u001b[0moutput\u001b[0m\u001b[0;34m)\u001b[0m\u001b[0;34m\u001b[0m\u001b[0;34m\u001b[0m\u001b[0m\n\u001b[0m\u001b[1;32m   2008\u001b[0m \u001b[0;34m\u001b[0m\u001b[0m\n\u001b[1;32m   2009\u001b[0m     \u001b[0;32mdef\u001b[0m \u001b[0m__repr__\u001b[0m\u001b[0;34m(\u001b[0m\u001b[0mself\u001b[0m\u001b[0;34m)\u001b[0m\u001b[0;34m:\u001b[0m\u001b[0;34m\u001b[0m\u001b[0;34m\u001b[0m\u001b[0m\n",
            "\u001b[0;32m/usr/local/lib/python3.10/dist-packages/joblib/parallel.py\u001b[0m in \u001b[0;36m_get_outputs\u001b[0;34m(self, iterator, pre_dispatch)\u001b[0m\n\u001b[1;32m   1648\u001b[0m \u001b[0;34m\u001b[0m\u001b[0m\n\u001b[1;32m   1649\u001b[0m             \u001b[0;32mwith\u001b[0m \u001b[0mself\u001b[0m\u001b[0;34m.\u001b[0m\u001b[0m_backend\u001b[0m\u001b[0;34m.\u001b[0m\u001b[0mretrieval_context\u001b[0m\u001b[0;34m(\u001b[0m\u001b[0;34m)\u001b[0m\u001b[0;34m:\u001b[0m\u001b[0;34m\u001b[0m\u001b[0;34m\u001b[0m\u001b[0m\n\u001b[0;32m-> 1650\u001b[0;31m                 \u001b[0;32myield\u001b[0m \u001b[0;32mfrom\u001b[0m \u001b[0mself\u001b[0m\u001b[0;34m.\u001b[0m\u001b[0m_retrieve\u001b[0m\u001b[0;34m(\u001b[0m\u001b[0;34m)\u001b[0m\u001b[0;34m\u001b[0m\u001b[0;34m\u001b[0m\u001b[0m\n\u001b[0m\u001b[1;32m   1651\u001b[0m \u001b[0;34m\u001b[0m\u001b[0m\n\u001b[1;32m   1652\u001b[0m         \u001b[0;32mexcept\u001b[0m \u001b[0mGeneratorExit\u001b[0m\u001b[0;34m:\u001b[0m\u001b[0;34m\u001b[0m\u001b[0;34m\u001b[0m\u001b[0m\n",
            "\u001b[0;32m/usr/local/lib/python3.10/dist-packages/joblib/parallel.py\u001b[0m in \u001b[0;36m_retrieve\u001b[0;34m(self)\u001b[0m\n\u001b[1;32m   1760\u001b[0m                 (self._jobs[0].get_status(\n\u001b[1;32m   1761\u001b[0m                     timeout=self.timeout) == TASK_PENDING)):\n\u001b[0;32m-> 1762\u001b[0;31m                 \u001b[0mtime\u001b[0m\u001b[0;34m.\u001b[0m\u001b[0msleep\u001b[0m\u001b[0;34m(\u001b[0m\u001b[0;36m0.01\u001b[0m\u001b[0;34m)\u001b[0m\u001b[0;34m\u001b[0m\u001b[0;34m\u001b[0m\u001b[0m\n\u001b[0m\u001b[1;32m   1763\u001b[0m                 \u001b[0;32mcontinue\u001b[0m\u001b[0;34m\u001b[0m\u001b[0;34m\u001b[0m\u001b[0m\n\u001b[1;32m   1764\u001b[0m \u001b[0;34m\u001b[0m\u001b[0m\n",
            "\u001b[0;31mKeyboardInterrupt\u001b[0m: "
          ]
        }
      ],
      "source": [
        "param_grid = {\n",
        "    'learning_rate': [0.1, 0.05, 0.01],\n",
        "    'n_estimators': [50, 100, 200],\n",
        "    'max_depth': [3, 4, 5],\n",
        "    'subsample': [0.8, 0.9, 1.0],\n",
        "\n",
        "\n",
        "}\n",
        "\n",
        "randomized_search_gb= RandomizedSearchCV(estimator=GradientBoostingClassifier(random_state=42), param_distributions= param_grid, cv=3, n_jobs=-1, random_state=42, n_iter=30)\n",
        "randomized_search_gb.fit(X[selected_features], Y)\n",
        "\n",
        "print(\"Best Parameters: \", randomized_search_gb.best_params_)\n",
        "print(\"Best Score: \", randomized_search_gb.best_score_)\n",
        "\n",
        "# it is taking hour to run the HPT using gridserach cv, i don't have that level of computational environment."
      ]
    },
    {
      "cell_type": "code",
      "source": [
        "# # HPT on XGBoostClassifier\n",
        "\n",
        "# from sklearn.model_selection import RandomizedSearchCV\n",
        "# from xgboost import XGBClassifier\n",
        "\n",
        "# param_grid = {\n",
        "\n",
        "\n",
        "\n",
        "#     'max_depth': [3, 4, 5, 6, 7, 8, 9, 10],\n",
        "#     'n_estimators': [50, 100, 150, 200, 250, 300],\n",
        "#     'learning_rate': [0.01, 0.05, 0.1, 0.2, 0.3],\n",
        "#     'subsample': [0.6, 0.7, 0.8, 0.9, 1.0],\n",
        "#     'colsample_bytree': [0.6, 0.7, 0.8, 0.9, 1.0],\n",
        "#     'gamma': [0, 0.1, 0.2, 0.3, 0.4, 0.5]\n",
        "\n",
        "\n",
        "# }\n",
        "\n",
        "# xgb_rcv= RandomizedSearchCV(estimator= XGBClassifier(), param_distributions= param_grid, cv=5, n_jobs=-1)\n",
        "# xgb_rcv.fit(X[selected_features], Y)\n",
        "\n",
        "# print(\"Best Parameters: \", xgb_rcv.best_params_)\n",
        "# print(\"Best Score: \", xgb_rcv.best_score_)\n",
        "\n",
        "\n",
        "\n",
        "# # Best Parameters:  {'subsample': 0.8, 'n_estimators': 250, 'max_depth': 8, 'learning_rate': 0.2, 'gamma': 0, 'colsample_bytree': 0.7}\n",
        "# # Best Score:  0.9173465016220895"
      ],
      "metadata": {
        "id": "6W6DyFsjMaS2"
      },
      "execution_count": null,
      "outputs": []
    },
    {
      "cell_type": "code",
      "source": [
        "# param_grid = {\n",
        "#     'learning_rate': [0.1, 0.05, 0.01],\n",
        "#     'n_estimators': [50, 100, 200],\n",
        "#     'max_depth': [3, 4, 5],\n",
        "#     'subsample': [0.8, 0.9, 1.0],\n",
        "\n",
        "\n",
        "# }\n",
        "\n",
        "# randomized_search_gb= RandomizedSearchCV(estimator=GradientBoostingClassifier(random_state=42), param_distributions= param_grid, cv=3, n_jobs=-1, random_state=42, n_iter=100)\n",
        "# randomized_search_gb.fit(X[selected_features], Y)\n",
        "\n",
        "# print(\"Best Parameters: \", randomized_search_gb.best_params_)\n",
        "# print(\"Best Score: \", randomized_search_gb.best_score_)\n",
        "\n",
        "# it is taking hour to run the HPT using gridserach cv, i don't have that level of computational environment.\n",
        "# Best Parameters:  {'subsample': 0.9, 'n_estimators': 200, 'max_depth': 4, 'learning_rate': 0.1}\n",
        "# Best Score:  0.9164957943921093\n",
        "\n",
        "\n",
        "# kaggle score 0.85"
      ],
      "metadata": {
        "id": "k5FhyNsNMePC"
      },
      "execution_count": null,
      "outputs": []
    },
    {
      "cell_type": "code",
      "source": [
        "# from xgboost import XGBClassifier\n",
        "# from sklearn.ensemble import GradientBoostingClassifier\n",
        "# from sklearn.model_selection import RandomizedSearchCV\n",
        "# from scipy.stats import uniform, randint\n",
        "\n",
        "# # XGBoostClassifier\n",
        "# xgb_params = {\n",
        "#     'max_depth': randint(3, 10),\n",
        "#     'n_estimators': randint(50, 300),\n",
        "#     'learning_rate': uniform(0.01, 0.3),\n",
        "#     'subsample': uniform(0.6, 0.4),\n",
        "#     'colsample_bytree': uniform(0.6, 0.4),\n",
        "#     'gamma': uniform(0, 0.5)\n",
        "# }\n",
        "\n",
        "# xgb = XGBClassifier()\n",
        "# xgb_random = RandomizedSearchCV(estimator=xgb, param_distributions=xgb_params, n_iter=100, scoring='accuracy', cv=5, n_jobs=-1)\n",
        "\n",
        "\n",
        "\n",
        "# # Fit the models\n",
        "# xgb_random.fit(X[selected_features], Y)\n",
        "\n",
        "\n",
        "# # Best parameters\n",
        "# print(\"Best parameters for XGBoost:\", xgb_random.best_params_)\n",
        "\n",
        "# Best parameters for XGBoost: {'colsample_bytree': 0.667468020764723,\n",
        "#                               'gamma': 0.00946411847274492,\n",
        "#                               'learning_rate': 0.04298214828974173,\n",
        "#                               'max_depth': 9,\n",
        "#                               'n_estimators': 187,\n",
        "#                               'subsample': 0.790760761064893}\n",
        "\n",
        "# print(\"Best Score: \", xgb_random.best_score_)\n",
        "# Best Score:  0.9201481526352367"
      ],
      "metadata": {
        "id": "Ound3VyXMjfD"
      },
      "execution_count": null,
      "outputs": []
    },
    {
      "cell_type": "code",
      "execution_count": null,
      "metadata": {
        "id": "p2te7_N8YYEr"
      },
      "outputs": [],
      "source": [
        "# param_grid = {\n",
        "#    'n_estimators': [50, 100, 200],\n",
        "#    'max_depth': [3, 5, 7],\n",
        "\n",
        "# }\n",
        "\n",
        "# grid_search_rf = GridSearchCV(RandomForestClassifier(), param_grid, cv=5, scoring='accuracy')\n",
        "# grid_search_rf.fit(x_train, y_train)\n",
        "\n",
        "# print(\"Best Parameters: \", grid_search_rf.best_params_)\n",
        "# print(\"Best Score: \", grid_search_rf.best_score_)"
      ]
    },
    {
      "cell_type": "code",
      "execution_count": null,
      "metadata": {
        "id": "6mjfAJYPYah4"
      },
      "outputs": [],
      "source": [
        "# param_grid = {\n",
        "#     'n_estimators': [50, 100, 200],\n",
        "\n",
        "# }\n",
        "\n",
        "# grid_search_bg = GridSearchCV(BaggingClassifier(), param_grid, cv=5, scoring='accuracy')\n",
        "# grid_search_bg.fit(x_train, y_train)\n",
        "\n",
        "# print(\"Best Parameters: \", grid_search_bg.best_params_)\n",
        "# print(\"Best Score: \", grid_search_bg.best_score_)"
      ]
    },
    {
      "cell_type": "code",
      "execution_count": null,
      "metadata": {
        "id": "0CNyAwheYjLH"
      },
      "outputs": [],
      "source": [
        "# # Gradient Boosting Classifier\n",
        "\n",
        "# y_pred_gb = grid_search_gb.predict(x_test)\n",
        "# print(\"Validation Accuracy (GB): \", accuracy_score(y_test, y_pred_gb))"
      ]
    },
    {
      "cell_type": "code",
      "execution_count": null,
      "metadata": {
        "id": "Wa3TY7bFkKRb"
      },
      "outputs": [],
      "source": [
        "# # Random Forest Classifier\n",
        "\n",
        "\n",
        "# y_pred_rf = grid_search_rf.predict(x_test)\n",
        "# print(\"Validation Accuracy (RF): \", accuracy_score(y_test, y_pred_rf))"
      ]
    },
    {
      "cell_type": "code",
      "execution_count": null,
      "metadata": {
        "id": "ye6Kn95YkNnw"
      },
      "outputs": [],
      "source": [
        "# # Bagging Classifier\n",
        "\n",
        "# y_pred_bg = grid_search_bg.predict(x_test)\n",
        "# print(\"Validation Accuracy (BG): \", accuracy_score(y_test, y_pred_bg))\n",
        "\n"
      ]
    },
    {
      "cell_type": "markdown",
      "metadata": {
        "id": "WNCIQRVHK1xU"
      },
      "source": [
        "# Testing on the test data"
      ]
    },
    {
      "cell_type": "code",
      "execution_count": null,
      "metadata": {
        "colab": {
          "base_uri": "https://localhost:8080/"
        },
        "id": "4O74KnCKzEmi",
        "outputId": "0847094e-5b4f-44d0-835c-dfa0f902edca"
      },
      "outputs": [
        {
          "data": {
            "text/plain": [
              "Location                 0\n",
              "Cross_Street             0\n",
              "Latitude                 0\n",
              "Longitude                0\n",
              "Area_ID                  0\n",
              "                        ..\n",
              "Area_Name_Topanga        0\n",
              "Area_Name_Van Nuys       0\n",
              "Area_Name_West LA        0\n",
              "Area_Name_West Valley    0\n",
              "Area_Name_Wilshire       0\n",
              "Length: 65, dtype: int64"
            ]
          },
          "execution_count": 329,
          "metadata": {},
          "output_type": "execute_result"
        }
      ],
      "source": [
        "X.isna().sum()"
      ]
    },
    {
      "cell_type": "code",
      "execution_count": null,
      "metadata": {
        "colab": {
          "base_uri": "https://localhost:8080/"
        },
        "id": "8x7KwqEEztrB",
        "outputId": "f810d10a-8a95-48ef-9284-fce1151b1927"
      },
      "outputs": [
        {
          "data": {
            "text/plain": [
              "(19987, 65)"
            ]
          },
          "execution_count": 330,
          "metadata": {},
          "output_type": "execute_result"
        }
      ],
      "source": [
        "X.shape"
      ]
    },
    {
      "cell_type": "code",
      "source": [
        "# # Train the best model on the entire training dataset\n",
        "\n",
        "# # Best Parameters:  {'subsample': 0.9, 'n_estimators': 200, 'max_depth': 4, 'learning_rate': 0.1}\n",
        "\n",
        "# best_model = GradientBoostingClassifier(learning_rate=0.1, n_estimators = 200, subsample = 0.9, max_depth = 4 )\n",
        "# best_model.fit(X[selected_features],Y)\n",
        "\n",
        "\n",
        "# # Predict the test data values\n",
        "# test_prediction = best_model.predict(test_data[selected_features])\n",
        "# test_prediction = le.inverse_transform(test_prediction)\n",
        "\n",
        "# using this got 0.85"
      ],
      "metadata": {
        "id": "D_nFtWnQL-Ix"
      },
      "execution_count": null,
      "outputs": []
    },
    {
      "cell_type": "code",
      "source": [
        "# Best parameters for XGBoost: {'colsample_bytree': 0.667468020764723,\n",
        "#                               'gamma': 0.00946411847274492,\n",
        "#                               'learning_rate': 0.04298214828974173,\n",
        "#                               'max_depth': 9,\n",
        "#                               'n_estimators': 187,\n",
        "#                               'subsample': 0.790760761064893}\n",
        "\n",
        "\n",
        "# xgb = XGBClassifier( colsample_bytree= 0.667468020764723,\n",
        "#                         gamma = 0.00946411847274492,\n",
        "#                               learning_rate = 0.04298214828974173,\n",
        "#                                max_depth = 9,\n",
        "#                               n_estimators =  187,\n",
        "#                               subsample = 0.790760761064893)\n",
        "# xgb.fit(X[selected_features],Y)\n",
        "# test_prediction = xgb.predict(test_data[selected_features])\n",
        "\n",
        "\n",
        "\n",
        "# using this one got 0.86"
      ],
      "metadata": {
        "id": "KBjc1B5XMBnI"
      },
      "execution_count": null,
      "outputs": []
    },
    {
      "cell_type": "code",
      "source": [
        "\n",
        "# # Best Parameters:  {'subsample': 0.8, 'n_estimators': 250, 'max_depth': 8, 'learning_rate': 0.2, 'gamma': 0, 'colsample_bytree': 0.7}\n",
        "\n",
        "xgb = XGBClassifier(subsample =  0.8, n_estimators =  250, max_depth = 8, learning_rate =  0.2,  gamma = 0,  colsample_bytree = 0.7)\n",
        "xgb.fit(X, Y)\n",
        "test_prediction = xgb.predict(test_data)"
      ],
      "metadata": {
        "id": "2XNvqIprMEa0"
      },
      "execution_count": null,
      "outputs": []
    },
    {
      "cell_type": "markdown",
      "source": [
        "\n",
        "xgb with feature selection and hpt i got 0.86\n",
        "\n",
        "\n",
        "xgb with no feature selection but after HPT score is 0.878"
      ],
      "metadata": {
        "id": "pKoQMAQAMHL6"
      }
    },
    {
      "cell_type": "code",
      "source": [],
      "metadata": {
        "id": "X3dp1whlMG0C"
      },
      "execution_count": null,
      "outputs": []
    },
    {
      "cell_type": "code",
      "execution_count": null,
      "metadata": {
        "id": "7m5xVjGazYUz"
      },
      "outputs": [],
      "source": [
        "# # Train the best model on the entire training dataset\n",
        "# # best_model = GradientBoostingClassifier(learning_rate=0.05,n_estimators= 100)\n",
        "# best_model = GradientBoostingClassifier(learning_rate=0.05, n_estimators=100)\n",
        "# best_model.fit(X,Y)\n",
        "\n",
        "\n",
        "# Predict the test data values\n",
        "test_prediction = y_pred\n",
        "test_prediction = le.inverse_transform(test_prediction)\n"
      ]
    },
    {
      "cell_type": "code",
      "execution_count": null,
      "metadata": {
        "colab": {
          "base_uri": "https://localhost:8080/"
        },
        "id": "khK5ry5z2S0P",
        "outputId": "f862edfe-822b-4f44-b23f-4bc7b13f8a3a"
      },
      "outputs": [
        {
          "data": {
            "text/plain": [
              "array(['Violent Crimes', 'Property Crimes',\n",
              "       'Fraud and White-Collar Crimes', 'Property Crimes',\n",
              "       'Fraud and White-Collar Crimes', 'Violent Crimes',\n",
              "       'Property Crimes', 'Violent Crimes', 'Property Crimes',\n",
              "       'Violent Crimes'], dtype=object)"
            ]
          },
          "execution_count": 101,
          "metadata": {},
          "output_type": "execute_result"
        }
      ],
      "source": [
        "test_prediction[:10]"
      ]
    },
    {
      "cell_type": "code",
      "execution_count": null,
      "metadata": {
        "id": "4jMf5dqpt8EM"
      },
      "outputs": [],
      "source": [
        "submission = pd.DataFrame({\"ID\": np.arange(1,5001),\n",
        "                           \"Crime_Category\": test_prediction,\n",
        "                          }\n",
        "                         )\n",
        "\n",
        "submission.to_csv('submission.csv',index=False)"
      ]
    },
    {
      "cell_type": "code",
      "execution_count": null,
      "metadata": {
        "colab": {
          "base_uri": "https://localhost:8080/",
          "height": 206
        },
        "id": "5D65OtJF0XdW",
        "outputId": "f5c02b49-36e6-4dd3-c5e5-784178b875bb"
      },
      "outputs": [
        {
          "data": {
            "application/vnd.google.colaboratory.intrinsic+json": {
              "summary": "{\n  \"name\": \"submission\",\n  \"rows\": 5000,\n  \"fields\": [\n    {\n      \"column\": \"ID\",\n      \"properties\": {\n        \"dtype\": \"number\",\n        \"std\": 1443,\n        \"min\": 1,\n        \"max\": 5000,\n        \"num_unique_values\": 5000,\n        \"samples\": [\n          1502,\n          2587,\n          2654\n        ],\n        \"semantic_type\": \"\",\n        \"description\": \"\"\n      }\n    },\n    {\n      \"column\": \"Crime_Category\",\n      \"properties\": {\n        \"dtype\": \"category\",\n        \"num_unique_values\": 6,\n        \"samples\": [\n          \"Violent Crimes\",\n          \"Property Crimes\",\n          \"Crimes against Persons\"\n        ],\n        \"semantic_type\": \"\",\n        \"description\": \"\"\n      }\n    }\n  ]\n}",
              "type": "dataframe",
              "variable_name": "submission"
            },
            "text/html": [
              "\n",
              "  <div id=\"df-7c391c2e-693a-41f3-ad90-46e040256f0d\" class=\"colab-df-container\">\n",
              "    <div>\n",
              "<style scoped>\n",
              "    .dataframe tbody tr th:only-of-type {\n",
              "        vertical-align: middle;\n",
              "    }\n",
              "\n",
              "    .dataframe tbody tr th {\n",
              "        vertical-align: top;\n",
              "    }\n",
              "\n",
              "    .dataframe thead th {\n",
              "        text-align: right;\n",
              "    }\n",
              "</style>\n",
              "<table border=\"1\" class=\"dataframe\">\n",
              "  <thead>\n",
              "    <tr style=\"text-align: right;\">\n",
              "      <th></th>\n",
              "      <th>ID</th>\n",
              "      <th>Crime_Category</th>\n",
              "    </tr>\n",
              "  </thead>\n",
              "  <tbody>\n",
              "    <tr>\n",
              "      <th>0</th>\n",
              "      <td>1</td>\n",
              "      <td>Violent Crimes</td>\n",
              "    </tr>\n",
              "    <tr>\n",
              "      <th>1</th>\n",
              "      <td>2</td>\n",
              "      <td>Property Crimes</td>\n",
              "    </tr>\n",
              "    <tr>\n",
              "      <th>2</th>\n",
              "      <td>3</td>\n",
              "      <td>Fraud and White-Collar Crimes</td>\n",
              "    </tr>\n",
              "    <tr>\n",
              "      <th>3</th>\n",
              "      <td>4</td>\n",
              "      <td>Property Crimes</td>\n",
              "    </tr>\n",
              "    <tr>\n",
              "      <th>4</th>\n",
              "      <td>5</td>\n",
              "      <td>Fraud and White-Collar Crimes</td>\n",
              "    </tr>\n",
              "  </tbody>\n",
              "</table>\n",
              "</div>\n",
              "    <div class=\"colab-df-buttons\">\n",
              "\n",
              "  <div class=\"colab-df-container\">\n",
              "    <button class=\"colab-df-convert\" onclick=\"convertToInteractive('df-7c391c2e-693a-41f3-ad90-46e040256f0d')\"\n",
              "            title=\"Convert this dataframe to an interactive table.\"\n",
              "            style=\"display:none;\">\n",
              "\n",
              "  <svg xmlns=\"http://www.w3.org/2000/svg\" height=\"24px\" viewBox=\"0 -960 960 960\">\n",
              "    <path d=\"M120-120v-720h720v720H120Zm60-500h600v-160H180v160Zm220 220h160v-160H400v160Zm0 220h160v-160H400v160ZM180-400h160v-160H180v160Zm440 0h160v-160H620v160ZM180-180h160v-160H180v160Zm440 0h160v-160H620v160Z\"/>\n",
              "  </svg>\n",
              "    </button>\n",
              "\n",
              "  <style>\n",
              "    .colab-df-container {\n",
              "      display:flex;\n",
              "      gap: 12px;\n",
              "    }\n",
              "\n",
              "    .colab-df-convert {\n",
              "      background-color: #E8F0FE;\n",
              "      border: none;\n",
              "      border-radius: 50%;\n",
              "      cursor: pointer;\n",
              "      display: none;\n",
              "      fill: #1967D2;\n",
              "      height: 32px;\n",
              "      padding: 0 0 0 0;\n",
              "      width: 32px;\n",
              "    }\n",
              "\n",
              "    .colab-df-convert:hover {\n",
              "      background-color: #E2EBFA;\n",
              "      box-shadow: 0px 1px 2px rgba(60, 64, 67, 0.3), 0px 1px 3px 1px rgba(60, 64, 67, 0.15);\n",
              "      fill: #174EA6;\n",
              "    }\n",
              "\n",
              "    .colab-df-buttons div {\n",
              "      margin-bottom: 4px;\n",
              "    }\n",
              "\n",
              "    [theme=dark] .colab-df-convert {\n",
              "      background-color: #3B4455;\n",
              "      fill: #D2E3FC;\n",
              "    }\n",
              "\n",
              "    [theme=dark] .colab-df-convert:hover {\n",
              "      background-color: #434B5C;\n",
              "      box-shadow: 0px 1px 3px 1px rgba(0, 0, 0, 0.15);\n",
              "      filter: drop-shadow(0px 1px 2px rgba(0, 0, 0, 0.3));\n",
              "      fill: #FFFFFF;\n",
              "    }\n",
              "  </style>\n",
              "\n",
              "    <script>\n",
              "      const buttonEl =\n",
              "        document.querySelector('#df-7c391c2e-693a-41f3-ad90-46e040256f0d button.colab-df-convert');\n",
              "      buttonEl.style.display =\n",
              "        google.colab.kernel.accessAllowed ? 'block' : 'none';\n",
              "\n",
              "      async function convertToInteractive(key) {\n",
              "        const element = document.querySelector('#df-7c391c2e-693a-41f3-ad90-46e040256f0d');\n",
              "        const dataTable =\n",
              "          await google.colab.kernel.invokeFunction('convertToInteractive',\n",
              "                                                    [key], {});\n",
              "        if (!dataTable) return;\n",
              "\n",
              "        const docLinkHtml = 'Like what you see? Visit the ' +\n",
              "          '<a target=\"_blank\" href=https://colab.research.google.com/notebooks/data_table.ipynb>data table notebook</a>'\n",
              "          + ' to learn more about interactive tables.';\n",
              "        element.innerHTML = '';\n",
              "        dataTable['output_type'] = 'display_data';\n",
              "        await google.colab.output.renderOutput(dataTable, element);\n",
              "        const docLink = document.createElement('div');\n",
              "        docLink.innerHTML = docLinkHtml;\n",
              "        element.appendChild(docLink);\n",
              "      }\n",
              "    </script>\n",
              "  </div>\n",
              "\n",
              "\n",
              "<div id=\"df-6f66f479-7876-4dd7-a988-2d6af2c82c88\">\n",
              "  <button class=\"colab-df-quickchart\" onclick=\"quickchart('df-6f66f479-7876-4dd7-a988-2d6af2c82c88')\"\n",
              "            title=\"Suggest charts\"\n",
              "            style=\"display:none;\">\n",
              "\n",
              "<svg xmlns=\"http://www.w3.org/2000/svg\" height=\"24px\"viewBox=\"0 0 24 24\"\n",
              "     width=\"24px\">\n",
              "    <g>\n",
              "        <path d=\"M19 3H5c-1.1 0-2 .9-2 2v14c0 1.1.9 2 2 2h14c1.1 0 2-.9 2-2V5c0-1.1-.9-2-2-2zM9 17H7v-7h2v7zm4 0h-2V7h2v10zm4 0h-2v-4h2v4z\"/>\n",
              "    </g>\n",
              "</svg>\n",
              "  </button>\n",
              "\n",
              "<style>\n",
              "  .colab-df-quickchart {\n",
              "      --bg-color: #E8F0FE;\n",
              "      --fill-color: #1967D2;\n",
              "      --hover-bg-color: #E2EBFA;\n",
              "      --hover-fill-color: #174EA6;\n",
              "      --disabled-fill-color: #AAA;\n",
              "      --disabled-bg-color: #DDD;\n",
              "  }\n",
              "\n",
              "  [theme=dark] .colab-df-quickchart {\n",
              "      --bg-color: #3B4455;\n",
              "      --fill-color: #D2E3FC;\n",
              "      --hover-bg-color: #434B5C;\n",
              "      --hover-fill-color: #FFFFFF;\n",
              "      --disabled-bg-color: #3B4455;\n",
              "      --disabled-fill-color: #666;\n",
              "  }\n",
              "\n",
              "  .colab-df-quickchart {\n",
              "    background-color: var(--bg-color);\n",
              "    border: none;\n",
              "    border-radius: 50%;\n",
              "    cursor: pointer;\n",
              "    display: none;\n",
              "    fill: var(--fill-color);\n",
              "    height: 32px;\n",
              "    padding: 0;\n",
              "    width: 32px;\n",
              "  }\n",
              "\n",
              "  .colab-df-quickchart:hover {\n",
              "    background-color: var(--hover-bg-color);\n",
              "    box-shadow: 0 1px 2px rgba(60, 64, 67, 0.3), 0 1px 3px 1px rgba(60, 64, 67, 0.15);\n",
              "    fill: var(--button-hover-fill-color);\n",
              "  }\n",
              "\n",
              "  .colab-df-quickchart-complete:disabled,\n",
              "  .colab-df-quickchart-complete:disabled:hover {\n",
              "    background-color: var(--disabled-bg-color);\n",
              "    fill: var(--disabled-fill-color);\n",
              "    box-shadow: none;\n",
              "  }\n",
              "\n",
              "  .colab-df-spinner {\n",
              "    border: 2px solid var(--fill-color);\n",
              "    border-color: transparent;\n",
              "    border-bottom-color: var(--fill-color);\n",
              "    animation:\n",
              "      spin 1s steps(1) infinite;\n",
              "  }\n",
              "\n",
              "  @keyframes spin {\n",
              "    0% {\n",
              "      border-color: transparent;\n",
              "      border-bottom-color: var(--fill-color);\n",
              "      border-left-color: var(--fill-color);\n",
              "    }\n",
              "    20% {\n",
              "      border-color: transparent;\n",
              "      border-left-color: var(--fill-color);\n",
              "      border-top-color: var(--fill-color);\n",
              "    }\n",
              "    30% {\n",
              "      border-color: transparent;\n",
              "      border-left-color: var(--fill-color);\n",
              "      border-top-color: var(--fill-color);\n",
              "      border-right-color: var(--fill-color);\n",
              "    }\n",
              "    40% {\n",
              "      border-color: transparent;\n",
              "      border-right-color: var(--fill-color);\n",
              "      border-top-color: var(--fill-color);\n",
              "    }\n",
              "    60% {\n",
              "      border-color: transparent;\n",
              "      border-right-color: var(--fill-color);\n",
              "    }\n",
              "    80% {\n",
              "      border-color: transparent;\n",
              "      border-right-color: var(--fill-color);\n",
              "      border-bottom-color: var(--fill-color);\n",
              "    }\n",
              "    90% {\n",
              "      border-color: transparent;\n",
              "      border-bottom-color: var(--fill-color);\n",
              "    }\n",
              "  }\n",
              "</style>\n",
              "\n",
              "  <script>\n",
              "    async function quickchart(key) {\n",
              "      const quickchartButtonEl =\n",
              "        document.querySelector('#' + key + ' button');\n",
              "      quickchartButtonEl.disabled = true;  // To prevent multiple clicks.\n",
              "      quickchartButtonEl.classList.add('colab-df-spinner');\n",
              "      try {\n",
              "        const charts = await google.colab.kernel.invokeFunction(\n",
              "            'suggestCharts', [key], {});\n",
              "      } catch (error) {\n",
              "        console.error('Error during call to suggestCharts:', error);\n",
              "      }\n",
              "      quickchartButtonEl.classList.remove('colab-df-spinner');\n",
              "      quickchartButtonEl.classList.add('colab-df-quickchart-complete');\n",
              "    }\n",
              "    (() => {\n",
              "      let quickchartButtonEl =\n",
              "        document.querySelector('#df-6f66f479-7876-4dd7-a988-2d6af2c82c88 button');\n",
              "      quickchartButtonEl.style.display =\n",
              "        google.colab.kernel.accessAllowed ? 'block' : 'none';\n",
              "    })();\n",
              "  </script>\n",
              "</div>\n",
              "\n",
              "    </div>\n",
              "  </div>\n"
            ],
            "text/plain": [
              "   ID                 Crime_Category\n",
              "0   1                 Violent Crimes\n",
              "1   2                Property Crimes\n",
              "2   3  Fraud and White-Collar Crimes\n",
              "3   4                Property Crimes\n",
              "4   5  Fraud and White-Collar Crimes"
            ]
          },
          "execution_count": 103,
          "metadata": {},
          "output_type": "execute_result"
        }
      ],
      "source": [
        "submission.head()"
      ]
    },
    {
      "cell_type": "code",
      "execution_count": null,
      "metadata": {
        "id": "ZwoZQkSu0s4G"
      },
      "outputs": [],
      "source": []
    }
  ],
  "metadata": {
    "colab": {
      "collapsed_sections": [
        "of6SzBvBxoKK",
        "E65e13y7zh28"
      ],
      "provenance": []
    },
    "kaggle": {
      "accelerator": "none",
      "dataSources": [
        {
          "databundleVersionId": 8446444,
          "sourceId": 77420,
          "sourceType": "competition"
        }
      ],
      "isGpuEnabled": false,
      "isInternetEnabled": true,
      "language": "python",
      "sourceType": "notebook"
    },
    "kernelspec": {
      "display_name": "Python 3",
      "language": "python",
      "name": "python3"
    },
    "language_info": {
      "codemirror_mode": {
        "name": "ipython",
        "version": 3
      },
      "file_extension": ".py",
      "mimetype": "text/x-python",
      "name": "python",
      "nbconvert_exporter": "python",
      "pygments_lexer": "ipython3",
      "version": "3.6.4"
    }
  },
  "nbformat": 4,
  "nbformat_minor": 0
}